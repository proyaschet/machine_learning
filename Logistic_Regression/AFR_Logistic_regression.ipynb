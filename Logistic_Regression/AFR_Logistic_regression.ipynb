{
 "cells": [
  {
   "cell_type": "code",
   "execution_count": 0,
   "metadata": {
    "colab": {},
    "colab_type": "code",
    "id": "2qp0SQfwWD9n"
   },
   "outputs": [],
   "source": [
    "%matplotlib inline\n",
    "import warnings\n",
    "import pickle\n",
    "warnings.filterwarnings(\"ignore\")\n",
    "import sqlite3\n",
    "import pandas as pd\n",
    "import numpy as np\n",
    "import nltk\n",
    "import string\n",
    "import matplotlib.pyplot as plt\n",
    "from sklearn.model_selection import TimeSeriesSplit\n",
    "from gensim.models import Word2Vec\n",
    "from gensim.models import KeyedVectors\n",
    "from gensim.test.utils import common_texts, get_tmpfile\n",
    "from collections import Counter\n",
    "from sklearn.feature_extraction.text import CountVectorizer\n",
    "from sklearn.linear_model import LogisticRegression\n",
    "from sklearn.metrics import accuracy_score\n",
    "from sklearn.cross_validation import cross_val_score\n",
    "import seaborn as sn\n",
    "from sklearn.metrics import make_scorer\n",
    "from sklearn.metrics import accuracy_score\n",
    "from sklearn import cross_validation\n",
    "from sklearn.metrics import classification_report,confusion_matrix\n",
    "import scikitplot.metrics as skplt\n",
    "from sklearn.model_selection import GridSearchCV\n",
    "from sklearn.model_selection import RandomizedSearchCV\n",
    "from sklearn.model_selection import train_test_split\n",
    "from sklearn.preprocessing import StandardScaler\n",
    "from sklearn.feature_extraction.text import TfidfTransformer\n",
    "from sklearn.feature_extraction.text import TfidfVectorizer\n",
    "import scipy.sparse\n",
    "from scipy.sparse import find\n"
   ]
  },
  {
   "cell_type": "markdown",
   "metadata": {
    "colab_type": "text",
    "id": "FNhQh7o7WVke"
   },
   "source": [
    "# Utility Function"
   ]
  },
  {
   "cell_type": "code",
   "execution_count": 0,
   "metadata": {
    "colab": {},
    "colab_type": "code",
    "id": "NXAX7fr5WMZT"
   },
   "outputs": [],
   "source": [
    "#Utility Function\n",
    "def standardisation(mean,final_counts,final_counts_test):\n",
    "  s = StandardScaler(with_mean = mean)\n",
    "  standardized_data = s.fit_transform(final_counts)\n",
    "  standardized_data_test = s.transform(final_counts_test)\n",
    "  return (standardized_data,standardized_data_test)\n",
    "  \n",
    "def lr_classifier_random():\n",
    "  c = [0.001,0.01,0.1,1,10,100,1000]\n",
    "  #c = [1000]\n",
    "  p = ['l1','l2']\n",
    "  #scoring = ['accuracy','f1_micro']\n",
    "  #p = ['l1']\n",
    "  tss = TimeSeriesSplit(n_splits=2)\n",
    "  lr = LogisticRegression()\n",
    "  parameter = {'penalty': p, 'C' : c, 'class_weight':[{0:5.5,1:1}]}\n",
    "  clf = RandomizedSearchCV(estimator = lr,param_distributions = parameter,verbose = 1,scoring = 'roc_auc',cv=tss, n_jobs = 2)\n",
    "  return clf\n",
    "\n",
    "def lr_classifier():\n",
    "  c = [0.001,0.01,0.1,1,10,100,1000]\n",
    "  #scoring = ['accuracy','f1_micro']\n",
    "  p = ['l1','l2']\n",
    "  tss = TimeSeriesSplit(n_splits=2)\n",
    "  lr = LogisticRegression()\n",
    "  parameter = {'penalty': p, 'C' : c,'class_weight':[{0:5.5,1:1}]}\n",
    "  clf = GridSearchCV(estimator = lr,param_grid = parameter,verbose = 1,scoring = 'roc_auc', cv=tss, n_jobs = 2)\n",
    "  return clf\n",
    "  \n",
    "   \n",
    "\n",
    "def train_set_report(clf):\n",
    "  best_parameters = clf.best_params_\n",
    "  best_accuracy = clf.best_score_\n",
    "  print(best_parameters)\n",
    "  print(best_accuracy)\n",
    "  \n",
    "def test_set_report(clf,x_test,y_test):\n",
    "  pred = clf.predict(standardized_data_test)\n",
    "  acc = accuracy_score(y_test, pred) * 100\n",
    "  print('The test set accuracy is %f%%' %(acc))\n",
    "  skplt.plot_confusion_matrix(y_test ,pred)\n",
    "  print(classification_report(y_test ,pred))\n",
    "\n",
    "def lrclassifierresults(clf):\n",
    "  out = pd.DataFrame.from_dict(clf.cv_results_)\n",
    "  return out\n",
    "\n",
    "def checkSparsity(c,x,y,xt,yt):\n",
    "  clf = LogisticRegression(C = c, penalty= 'l1')\n",
    "  clf.fit(x,y)\n",
    "  pred = clf.predict(xt)\n",
    "  ac = accuracy_score(yt, pred)*100\n",
    "  cou = np.count_nonzero(clf.coef_)\n",
    "  print(\"Number of non-zero weights for \"+ str(c)+\" = \"+ str(cou))\n",
    "  print(\"Accuracy for \"+ str(c)+\" = \"+ str(ac))\n",
    "\n",
    "def plotgraph(a):\n",
    "    a= a.sort_values(by = ['param_C'])\n",
    "    b = a[a[\"param_penalty\"] == 'l1']\n",
    "    c = a[a[\"param_penalty\"] == 'l2']\n",
    "    kl1 = b.param_C.tolist()\n",
    "    scorel1 = b.mean_test_score.tolist()\n",
    "    kl2 = c.param_C.tolist()\n",
    "    scorel2 = c.mean_test_score.tolist()\n",
    "    plt.plot(kl1,scorel1,color='blue',label = \"L1\")\n",
    "    plt.plot(kl2,scorel2,color='green',label = \"L2\")\n",
    "    plt.legend()\n",
    "    #plt.plot( 'x', 'y2', data=df, marker='', color='olive', linewidth=2)\n",
    "    plt.title(\"lambda vs accuracy score for L1 and L2 regularisation\")\n",
    "    plt.xlabel('Lambda')\n",
    "    plt.ylabel('Accuracy score')\n",
    "    plt.show()\n",
    "\n",
    "def checkMultiCollinearity(x_train, y_train,xt,yt):\n",
    "  clf = LogisticRegression(C = 0.001, penalty= 'l2')\n",
    "  clf.fit(x_train,y_train)\n",
    "  pred = clf.predict(xt)\n",
    "  weights = find(clf.coef_[0])[2]\n",
    "  xtrainw = x_train\n",
    "  noise = np.random.uniform(low=-0.01, high=0.01, size=(find(xtrainw)[0].size,))\n",
    "  q,w,e = find(xtrainw)\n",
    "  xtrainw[q,w] = noise + xtrainw[q,w]\n",
    "  clfw = LogisticRegression(C = 0.001, penalty= 'l2')\n",
    "  clfw.fit(xtrainw,y_train)\n",
    "  weightsw = find(clfw.coef_[0])[2]\n",
    "  weight_diff = (abs(weights - weightsw)/weights) * 100\n",
    "  number = weight_diff[np.where(weight_diff > 30.0)].size\n",
    "  print(\"Size of weights to check multicollinearity is \" + str(weight_diff.size) + \" . Number of weights having a change greater then 30% is \" + str(number))\n",
    "\n",
    "def topfeatures(vectorizer, clf, n=20):#https://stackoverflow.com/questions/11116697/how-to-get-most-informative-features-for-scikit-learn-classifiers\n",
    "    feature_names = vectorizer.get_feature_names()\n",
    "    coefs_with_fns = sorted(zip(clf.coef_[0], feature_names))\n",
    "    top = zip(coefs_with_fns[:n], coefs_with_fns[:-(n + 1):-1])\n",
    "    for (coef_1, fn_1), (coef_2, fn_2) in top:\n",
    "        print(\"\\t%.4f\\t%-15s\\t\\t\\t\\t%.4f\\t%-15s\" % (coef_1, fn_1, coef_2, fn_2))\n",
    "  \n",
    "\n"
   ]
  },
  {
   "cell_type": "markdown",
   "metadata": {
    "colab_type": "text",
    "id": "4KKDCF6hRDG4"
   },
   "source": [
    "# Data Sampling"
   ]
  },
  {
   "cell_type": "code",
   "execution_count": 0,
   "metadata": {
    "colab": {},
    "colab_type": "code",
    "id": "AbeiT5aSX2xP"
   },
   "outputs": [],
   "source": [
    "con = sqlite3.connect('/content/drive/My Drive/Dataset/AFR/final.sqlite')"
   ]
  },
  {
   "cell_type": "code",
   "execution_count": 0,
   "metadata": {
    "colab": {},
    "colab_type": "code",
    "id": "A0bClEFmX9Iq"
   },
   "outputs": [],
   "source": [
    "final = pd.read_sql_query(\"\"\" SELECT * FROM Reviews\"\"\", con)"
   ]
  },
  {
   "cell_type": "code",
   "execution_count": 0,
   "metadata": {
    "colab": {},
    "colab_type": "code",
    "id": "pHcfIXuZYAOb"
   },
   "outputs": [],
   "source": [
    "import datetime\n",
    "\n",
    "final[\"Time\"] = final[\"Time\"].map(lambda t: datetime.datetime.fromtimestamp(int(t)).strftime('%Y-%m-%d %H:%M:%S'))\n",
    "final = final.sort_values('Time',axis=0,kind=\"quicksort\", ascending=True).reset_index(drop=True)\n"
   ]
  },
  {
   "cell_type": "code",
   "execution_count": 0,
   "metadata": {
    "colab": {},
    "colab_type": "code",
    "id": "G3JFmJMO5LXe"
   },
   "outputs": [],
   "source": [
    "final1 = final.iloc[0:100000]\n"
   ]
  },
  {
   "cell_type": "code",
   "execution_count": 0,
   "metadata": {
    "colab": {},
    "colab_type": "code",
    "id": "09-ArlScJcGy"
   },
   "outputs": [],
   "source": [
    "final = pd.read_pickle('/content/drive/My Drive/Dataset/AFR/final_100000.pkl')"
   ]
  },
  {
   "cell_type": "code",
   "execution_count": 216,
   "metadata": {
    "colab": {
     "base_uri": "https://localhost:8080/",
     "height": 34
    },
    "colab_type": "code",
    "executionInfo": {
     "elapsed": 559,
     "status": "ok",
     "timestamp": 1543088356072,
     "user": {
      "displayName": "Amarnath Manipatra",
      "photoUrl": "https://lh3.googleusercontent.com/-E4XehttjKtQ/AAAAAAAAAAI/AAAAAAAAIMM/qMw0AAGMQdQ/s64/photo.jpg",
      "userId": "14836087089649410046"
     },
     "user_tz": 0
    },
    "id": "ZQCSgxZyJ3E6",
    "outputId": "4fbfdd11-e5f3-42a7-c800-f26b9ec1c94d"
   },
   "outputs": [
    {
     "data": {
      "text/plain": [
       "(100000, 12)"
      ]
     },
     "execution_count": 216,
     "metadata": {
      "tags": []
     },
     "output_type": "execute_result"
    }
   ],
   "source": [
    "final.shape"
   ]
  },
  {
   "cell_type": "code",
   "execution_count": 0,
   "metadata": {
    "colab": {},
    "colab_type": "code",
    "id": "-aPyZsoiY_r7"
   },
   "outputs": [],
   "source": [
    "l = final['Score']\n",
    "final = final.drop(\"Score\", axis = 1)\n"
   ]
  },
  {
   "cell_type": "code",
   "execution_count": 219,
   "metadata": {
    "colab": {
     "base_uri": "https://localhost:8080/",
     "height": 34
    },
    "colab_type": "code",
    "executionInfo": {
     "elapsed": 445,
     "status": "ok",
     "timestamp": 1543088369713,
     "user": {
      "displayName": "Amarnath Manipatra",
      "photoUrl": "https://lh3.googleusercontent.com/-E4XehttjKtQ/AAAAAAAAAAI/AAAAAAAAIMM/qMw0AAGMQdQ/s64/photo.jpg",
      "userId": "14836087089649410046"
     },
     "user_tz": 0
    },
    "id": "r45akFPhkwj4",
    "outputId": "73eb8b9f-ccaf-4b7f-dca0-b5c161c64c83"
   },
   "outputs": [
    {
     "data": {
      "text/plain": [
       "Counter({0: 12271, 1: 87729})"
      ]
     },
     "execution_count": 219,
     "metadata": {
      "tags": []
     },
     "output_type": "execute_result"
    }
   ],
   "source": [
    "#negative\n",
    "#positive\n",
    "\n",
    "def partition(x):\n",
    "    if x == 'positive':\n",
    "        return 1\n",
    "    return 0\n",
    "l1 = l.map(partition)\n",
    "Counter(l1)"
   ]
  },
  {
   "cell_type": "code",
   "execution_count": 0,
   "metadata": {
    "colab": {},
    "colab_type": "code",
    "id": "FjhwOL1zZCK1"
   },
   "outputs": [],
   "source": [
    "X_train, X_test, y_train, y_test = train_test_split(final, l1, test_size=0.3, random_state=0)"
   ]
  },
  {
   "cell_type": "code",
   "execution_count": 0,
   "metadata": {
    "colab": {},
    "colab_type": "code",
    "id": "2GhtTh3YZETq"
   },
   "outputs": [],
   "source": []
  },
  {
   "cell_type": "markdown",
   "metadata": {
    "colab_type": "text",
    "id": "XtyJn2SzZIPw"
   },
   "source": [
    "# BOW"
   ]
  },
  {
   "cell_type": "code",
   "execution_count": 355,
   "metadata": {
    "colab": {
     "base_uri": "https://localhost:8080/",
     "height": 85
    },
    "colab_type": "code",
    "executionInfo": {
     "elapsed": 3147,
     "status": "ok",
     "timestamp": 1543099632672,
     "user": {
      "displayName": "Amarnath Manipatra",
      "photoUrl": "https://lh3.googleusercontent.com/-E4XehttjKtQ/AAAAAAAAAAI/AAAAAAAAIMM/qMw0AAGMQdQ/s64/photo.jpg",
      "userId": "14836087089649410046"
     },
     "user_tz": 0
    },
    "id": "w0crjB4nZKxB",
    "outputId": "1247f2d3-cbac-4167-ab7e-ec530d2adf3d"
   },
   "outputs": [
    {
     "name": "stdout",
     "output_type": "stream",
     "text": [
      "--- 2.5719869136810303 seconds ---\n",
      "the type of count vectorizer  <class 'scipy.sparse.csr.csr_matrix'>\n",
      "the shape of out text BOW vectorizer  (70000, 31572)\n",
      "the number of unique words  31572\n"
     ]
    }
   ],
   "source": [
    "import time\n",
    "start_time = time.time()\n",
    "count_vect = CountVectorizer()\n",
    "final_counts = count_vect.fit_transform(X_train['CleanedText'].values)\n",
    "print(\"--- %s seconds ---\" % (time.time() - start_time))\n",
    "print(\"the type of count vectorizer \",type(final_counts))\n",
    "print(\"the shape of out text BOW vectorizer \",final_counts.get_shape())\n",
    "print(\"the number of unique words \", final_counts.get_shape()[1])"
   ]
  },
  {
   "cell_type": "code",
   "execution_count": 0,
   "metadata": {
    "colab": {},
    "colab_type": "code",
    "id": "NwsAanDNiwVe"
   },
   "outputs": [],
   "source": [
    "scipy.sparse.save_npz('bowsparse_matrix_100000.npz', final_counts)"
   ]
  },
  {
   "cell_type": "code",
   "execution_count": 356,
   "metadata": {
    "colab": {
     "base_uri": "https://localhost:8080/",
     "height": 51
    },
    "colab_type": "code",
    "executionInfo": {
     "elapsed": 1370,
     "status": "ok",
     "timestamp": 1543099635346,
     "user": {
      "displayName": "Amarnath Manipatra",
      "photoUrl": "https://lh3.googleusercontent.com/-E4XehttjKtQ/AAAAAAAAAAI/AAAAAAAAIMM/qMw0AAGMQdQ/s64/photo.jpg",
      "userId": "14836087089649410046"
     },
     "user_tz": 0
    },
    "id": "rCe4xdiUaSVq",
    "outputId": "11ca37a7-6204-4509-8eca-d264469bce28"
   },
   "outputs": [
    {
     "name": "stdout",
     "output_type": "stream",
     "text": [
      "(70000, 31572)\n",
      "(30000, 31572)\n"
     ]
    }
   ],
   "source": [
    "import time\n",
    "start_time = time.time()\n",
    "final_counts_test = count_vect.transform(X_test['CleanedText'].values)\n",
    "print(final_counts.shape)\n",
    "print(final_counts_test.shape)"
   ]
  },
  {
   "cell_type": "code",
   "execution_count": 0,
   "metadata": {
    "colab": {},
    "colab_type": "code",
    "id": "QhFTyrKNimGV"
   },
   "outputs": [],
   "source": [
    "scipy.sparse.save_npz('bowsparse_matrix_100000_test.npz', final_counts_test)\n"
   ]
  },
  {
   "cell_type": "code",
   "execution_count": 0,
   "metadata": {
    "colab": {
     "base_uri": "https://localhost:8080/",
     "height": 34
    },
    "colab_type": "code",
    "executionInfo": {
     "elapsed": 460,
     "status": "ok",
     "timestamp": 1542729879797,
     "user": {
      "displayName": "Amarnath Manipatra",
      "photoUrl": "https://lh3.googleusercontent.com/-E4XehttjKtQ/AAAAAAAAAAI/AAAAAAAAIMM/qMw0AAGMQdQ/s64/photo.jpg",
      "userId": "14836087089649410046"
     },
     "user_tz": 0
    },
    "id": "L_hhq_OsIJn0",
    "outputId": "527ea760-9f6d-4205-b035-9fb1d85a1fd4"
   },
   "outputs": [
    {
     "data": {
      "text/plain": [
       "(70000,)"
      ]
     },
     "execution_count": 47,
     "metadata": {
      "tags": []
     },
     "output_type": "execute_result"
    }
   ],
   "source": [
    "y_train.shape"
   ]
  },
  {
   "cell_type": "code",
   "execution_count": 0,
   "metadata": {
    "colab": {},
    "colab_type": "code",
    "id": "A_x2jdjTaV-6"
   },
   "outputs": [],
   "source": [
    "standardized_data, standardized_data_test = standardisation(False,final_counts,final_counts_test)"
   ]
  },
  {
   "cell_type": "code",
   "execution_count": 0,
   "metadata": {
    "colab": {},
    "colab_type": "code",
    "id": "Y-qxTsgdaw5i"
   },
   "outputs": [],
   "source": [
    "bow_lr = lr_classifier()"
   ]
  },
  {
   "cell_type": "code",
   "execution_count": 359,
   "metadata": {
    "colab": {
     "base_uri": "https://localhost:8080/",
     "height": 221
    },
    "colab_type": "code",
    "executionInfo": {
     "elapsed": 2356873,
     "status": "ok",
     "timestamp": 1543102001259,
     "user": {
      "displayName": "Amarnath Manipatra",
      "photoUrl": "https://lh3.googleusercontent.com/-E4XehttjKtQ/AAAAAAAAAAI/AAAAAAAAIMM/qMw0AAGMQdQ/s64/photo.jpg",
      "userId": "14836087089649410046"
     },
     "user_tz": 0
    },
    "id": "LxKD1xZ_a51b",
    "outputId": "be6e9918-60ab-48e9-a25d-b1bb0718d36a"
   },
   "outputs": [
    {
     "name": "stdout",
     "output_type": "stream",
     "text": [
      "Fitting 2 folds for each of 14 candidates, totalling 28 fits\n"
     ]
    },
    {
     "name": "stderr",
     "output_type": "stream",
     "text": [
      "[Parallel(n_jobs=2)]: Done  28 out of  28 | elapsed: 39.2min finished\n"
     ]
    },
    {
     "data": {
      "text/plain": [
       "GridSearchCV(cv=TimeSeriesSplit(max_train_size=None, n_splits=2),\n",
       "       error_score='raise',\n",
       "       estimator=LogisticRegression(C=1.0, class_weight=None, dual=False, fit_intercept=True,\n",
       "          intercept_scaling=1, max_iter=100, multi_class='ovr', n_jobs=1,\n",
       "          penalty='l2', random_state=None, solver='liblinear', tol=0.0001,\n",
       "          verbose=0, warm_start=False),\n",
       "       fit_params=None, iid=True, n_jobs=2,\n",
       "       param_grid={'penalty': ['l1', 'l2'], 'C': [0.001, 0.01, 0.1, 1, 10, 100, 1000], 'class_weight': [{0: 5.5, 1: 1}]},\n",
       "       pre_dispatch='2*n_jobs', refit=True, return_train_score='warn',\n",
       "       scoring='roc_auc', verbose=1)"
      ]
     },
     "execution_count": 359,
     "metadata": {
      "tags": []
     },
     "output_type": "execute_result"
    }
   ],
   "source": [
    "bow_lr.fit(standardized_data, y_train)\n"
   ]
  },
  {
   "cell_type": "code",
   "execution_count": 0,
   "metadata": {
    "colab": {},
    "colab_type": "code",
    "id": "l3yJ5PLlbOY4"
   },
   "outputs": [],
   "source": [
    "with open('bow_lr_auc.pkl', 'wb') as f:\n",
    "    pickle.dump(bow_lr, f)"
   ]
  },
  {
   "cell_type": "code",
   "execution_count": 0,
   "metadata": {
    "colab": {},
    "colab_type": "code",
    "id": "nsN67O-xc0I3"
   },
   "outputs": [],
   "source": [
    "a = lrclassifierresults(bow_lr)"
   ]
  },
  {
   "cell_type": "code",
   "execution_count": 377,
   "metadata": {
    "colab": {
     "base_uri": "https://localhost:8080/",
     "height": 294
    },
    "colab_type": "code",
    "executionInfo": {
     "elapsed": 466,
     "status": "ok",
     "timestamp": 1543106789325,
     "user": {
      "displayName": "Amarnath Manipatra",
      "photoUrl": "https://lh3.googleusercontent.com/-E4XehttjKtQ/AAAAAAAAAAI/AAAAAAAAIMM/qMw0AAGMQdQ/s64/photo.jpg",
      "userId": "14836087089649410046"
     },
     "user_tz": 0
    },
    "id": "J3S39RiqM_x2",
    "outputId": "124af0dc-cf6d-4fa0-93ba-092610a23eee"
   },
   "outputs": [
    {
     "data": {
      "image/png": "[encoded data removed]",
      "text/plain": [
       "<matplotlib.figure.Figure at 0x7fd50fb91400>"
      ]
     },
     "metadata": {
      "tags": []
     },
     "output_type": "display_data"
    }
   ],
   "source": [
    "plotgraph(a)"
   ]
  },
  {
   "cell_type": "code",
   "execution_count": 365,
   "metadata": {
    "colab": {
     "base_uri": "https://localhost:8080/",
     "height": 51
    },
    "colab_type": "code",
    "executionInfo": {
     "elapsed": 436,
     "status": "ok",
     "timestamp": 1543102053693,
     "user": {
      "displayName": "Amarnath Manipatra",
      "photoUrl": "https://lh3.googleusercontent.com/-E4XehttjKtQ/AAAAAAAAAAI/AAAAAAAAIMM/qMw0AAGMQdQ/s64/photo.jpg",
      "userId": "14836087089649410046"
     },
     "user_tz": 0
    },
    "id": "EsywPmy4UgsT",
    "outputId": "eee82c28-103b-478b-9dbc-c3b791c2989d"
   },
   "outputs": [
    {
     "name": "stdout",
     "output_type": "stream",
     "text": [
      "{'C': 0.01, 'class_weight': {0: 5.5, 1: 1}, 'penalty': 'l1'}\n",
      "0.920550743509769\n"
     ]
    }
   ],
   "source": [
    "train_set_report(bow_lr)"
   ]
  },
  {
   "cell_type": "code",
   "execution_count": 366,
   "metadata": {
    "colab": {
     "base_uri": "https://localhost:8080/",
     "height": 430
    },
    "colab_type": "code",
    "executionInfo": {
     "elapsed": 422,
     "status": "ok",
     "timestamp": 1543102056184,
     "user": {
      "displayName": "Amarnath Manipatra",
      "photoUrl": "https://lh3.googleusercontent.com/-E4XehttjKtQ/AAAAAAAAAAI/AAAAAAAAIMM/qMw0AAGMQdQ/s64/photo.jpg",
      "userId": "14836087089649410046"
     },
     "user_tz": 0
    },
    "id": "qmMu0TFn6TH2",
    "outputId": "6e68b444-9f2c-4d8a-aa6e-40b5a6814774"
   },
   "outputs": [
    {
     "name": "stdout",
     "output_type": "stream",
     "text": [
      "The test set accuracy is 90.680000%\n",
      "             precision    recall  f1-score   support\n",
      "\n",
      "          0       0.59      0.77      0.67      3665\n",
      "          1       0.97      0.93      0.95     26335\n",
      "\n",
      "avg / total       0.92      0.91      0.91     30000\n",
      "\n"
     ]
    },
    {
     "data": {
      "image/png": "[encoded data removed]",
      "text/plain": [
       "<matplotlib.figure.Figure at 0x7fd5287f9f60>"
      ]
     },
     "metadata": {
      "tags": []
     },
     "output_type": "display_data"
    }
   ],
   "source": [
    "test_set_report(bow_lr,standardized_data_test,y_test)"
   ]
  },
  {
   "cell_type": "markdown",
   "metadata": {
    "colab_type": "text",
    "id": "PyPmCh8uBr3n"
   },
   "source": [
    "**Random** **CV**"
   ]
  },
  {
   "cell_type": "code",
   "execution_count": 0,
   "metadata": {
    "colab": {},
    "colab_type": "code",
    "id": "OUSePaOa1IbU"
   },
   "outputs": [],
   "source": [
    "bow_lr_random = lr_classifier_random()"
   ]
  },
  {
   "cell_type": "code",
   "execution_count": 368,
   "metadata": {
    "colab": {
     "base_uri": "https://localhost:8080/",
     "height": 221
    },
    "colab_type": "code",
    "executionInfo": {
     "elapsed": 868672,
     "status": "ok",
     "timestamp": 1543102933894,
     "user": {
      "displayName": "Amarnath Manipatra",
      "photoUrl": "https://lh3.googleusercontent.com/-E4XehttjKtQ/AAAAAAAAAAI/AAAAAAAAIMM/qMw0AAGMQdQ/s64/photo.jpg",
      "userId": "14836087089649410046"
     },
     "user_tz": 0
    },
    "id": "PjS5_fAvWG0u",
    "outputId": "1c4b5e8b-6785-412a-8553-ff91ad73ce16"
   },
   "outputs": [
    {
     "name": "stdout",
     "output_type": "stream",
     "text": [
      "Fitting 2 folds for each of 10 candidates, totalling 20 fits\n"
     ]
    },
    {
     "name": "stderr",
     "output_type": "stream",
     "text": [
      "[Parallel(n_jobs=2)]: Done  20 out of  20 | elapsed: 14.4min finished\n"
     ]
    },
    {
     "data": {
      "text/plain": [
       "RandomizedSearchCV(cv=TimeSeriesSplit(max_train_size=None, n_splits=2),\n",
       "          error_score='raise',\n",
       "          estimator=LogisticRegression(C=1.0, class_weight=None, dual=False, fit_intercept=True,\n",
       "          intercept_scaling=1, max_iter=100, multi_class='ovr', n_jobs=1,\n",
       "          penalty='l2', random_state=None, solver='liblinear', tol=0.0001,\n",
       "          verbose=0, warm_start=False),\n",
       "          fit_params=None, iid=True, n_iter=10, n_jobs=2,\n",
       "          param_distributions={'penalty': ['l1', 'l2'], 'C': [0.001, 0.01, 0.1, 1, 10, 100, 1000], 'class_weight': [{0: 5.5, 1: 1}]},\n",
       "          pre_dispatch='2*n_jobs', random_state=None, refit=True,\n",
       "          return_train_score='warn', scoring='roc_auc', verbose=1)"
      ]
     },
     "execution_count": 368,
     "metadata": {
      "tags": []
     },
     "output_type": "execute_result"
    }
   ],
   "source": [
    "bow_lr_random.fit(standardized_data, y_train)"
   ]
  },
  {
   "cell_type": "code",
   "execution_count": 369,
   "metadata": {
    "colab": {
     "base_uri": "https://localhost:8080/",
     "height": 51
    },
    "colab_type": "code",
    "executionInfo": {
     "elapsed": 866020,
     "status": "ok",
     "timestamp": 1543102933906,
     "user": {
      "displayName": "Amarnath Manipatra",
      "photoUrl": "https://lh3.googleusercontent.com/-E4XehttjKtQ/AAAAAAAAAAI/AAAAAAAAIMM/qMw0AAGMQdQ/s64/photo.jpg",
      "userId": "14836087089649410046"
     },
     "user_tz": 0
    },
    "id": "jM5PVtHbB1lB",
    "outputId": "d0a5702e-54f7-425c-bc58-d9f7e067ecf4"
   },
   "outputs": [
    {
     "name": "stdout",
     "output_type": "stream",
     "text": [
      "{'penalty': 'l1', 'class_weight': {0: 5.5, 1: 1}, 'C': 0.01}\n",
      "0.9205091494091433\n"
     ]
    }
   ],
   "source": [
    "train_set_report(bow_lr_random)"
   ]
  },
  {
   "cell_type": "code",
   "execution_count": 370,
   "metadata": {
    "colab": {
     "base_uri": "https://localhost:8080/",
     "height": 430
    },
    "colab_type": "code",
    "executionInfo": {
     "elapsed": 863606,
     "status": "ok",
     "timestamp": 1543102934387,
     "user": {
      "displayName": "Amarnath Manipatra",
      "photoUrl": "https://lh3.googleusercontent.com/-E4XehttjKtQ/AAAAAAAAAAI/AAAAAAAAIMM/qMw0AAGMQdQ/s64/photo.jpg",
      "userId": "14836087089649410046"
     },
     "user_tz": 0
    },
    "id": "TCV3k9_RB8TG",
    "outputId": "d75cec5b-ee1f-48f6-e21e-93b37811e8d0"
   },
   "outputs": [
    {
     "name": "stdout",
     "output_type": "stream",
     "text": [
      "The test set accuracy is 90.690000%\n",
      "             precision    recall  f1-score   support\n",
      "\n",
      "          0       0.59      0.77      0.67      3665\n",
      "          1       0.97      0.93      0.95     26335\n",
      "\n",
      "avg / total       0.92      0.91      0.91     30000\n",
      "\n"
     ]
    },
    {
     "data": {
      "image/png": "[encoded data removed]",
      "text/plain": [
       "<matplotlib.figure.Figure at 0x7fd526da2cf8>"
      ]
     },
     "metadata": {
      "tags": []
     },
     "output_type": "display_data"
    }
   ],
   "source": [
    "test_set_report(bow_lr_random,standardized_data_test,y_test)"
   ]
  },
  {
   "cell_type": "code",
   "execution_count": 0,
   "metadata": {
    "colab": {},
    "colab_type": "code",
    "id": "hagiT9JAaLZd"
   },
   "outputs": [],
   "source": [
    "b = lrclassifierresults(bow_lr_random)"
   ]
  },
  {
   "cell_type": "code",
   "execution_count": 371,
   "metadata": {
    "colab": {
     "base_uri": "https://localhost:8080/",
     "height": 294
    },
    "colab_type": "code",
    "executionInfo": {
     "elapsed": 851165,
     "status": "ok",
     "timestamp": 1543102934394,
     "user": {
      "displayName": "Amarnath Manipatra",
      "photoUrl": "https://lh3.googleusercontent.com/-E4XehttjKtQ/AAAAAAAAAAI/AAAAAAAAIMM/qMw0AAGMQdQ/s64/photo.jpg",
      "userId": "14836087089649410046"
     },
     "user_tz": 0
    },
    "id": "zRFZ5O6ZD-UK",
    "outputId": "d77122d6-f10f-4789-d943-2c3c6697e7ed"
   },
   "outputs": [
    {
     "data": {
      "image/png": "[encoded data removed]",
      "text/plain": [
       "<matplotlib.figure.Figure at 0x7fd528d1b0f0>"
      ]
     },
     "metadata": {
      "tags": []
     },
     "output_type": "display_data"
    }
   ],
   "source": [
    "plotgraph(b)"
   ]
  },
  {
   "cell_type": "markdown",
   "metadata": {
    "colab_type": "text",
    "id": "n0EVH_k0CHqU"
   },
   "source": [
    "**Check Sparsity**"
   ]
  },
  {
   "cell_type": "code",
   "execution_count": 372,
   "metadata": {
    "colab": {
     "base_uri": "https://localhost:8080/",
     "height": 153
    },
    "colab_type": "code",
    "executionInfo": {
     "elapsed": 3759985,
     "status": "ok",
     "timestamp": 1543105850709,
     "user": {
      "displayName": "Amarnath Manipatra",
      "photoUrl": "https://lh3.googleusercontent.com/-E4XehttjKtQ/AAAAAAAAAAI/AAAAAAAAIMM/qMw0AAGMQdQ/s64/photo.jpg",
      "userId": "14836087089649410046"
     },
     "user_tz": 0
    },
    "id": "3RVgQD3SQ8fZ",
    "outputId": "6431c893-3d51-46fc-f57a-bfb8161ca8d0"
   },
   "outputs": [
    {
     "name": "stdout",
     "output_type": "stream",
     "text": [
      "Number of non-zero weights for 1000 = 20777\n",
      "Accuracy for 1000 = 87.88666666666667\n",
      "Number of non-zero weights for 10 = 14968\n",
      "Accuracy for 10 = 88.38000000000001\n",
      "Number of non-zero weights for 0.0001 = 0\n",
      "Accuracy for 0.0001 = 87.78333333333333\n",
      "Number of non-zero weights for 0.8 = 12419\n",
      "Accuracy for 0.8 = 90.01666666666667\n"
     ]
    }
   ],
   "source": [
    "c = [1000,10,0.0001,0.8]\n",
    "for i in c:\n",
    "  checkSparsity(i,standardized_data,y_train,standardized_data_test,y_test)\n",
    "  "
   ]
  },
  {
   "cell_type": "markdown",
   "metadata": {
    "colab_type": "text",
    "id": "sliU1ARqJBDL"
   },
   "source": [
    "**Check Multicollinearity**"
   ]
  },
  {
   "cell_type": "code",
   "execution_count": 373,
   "metadata": {
    "colab": {
     "base_uri": "https://localhost:8080/",
     "height": 34
    },
    "colab_type": "code",
    "executionInfo": {
     "elapsed": 3766330,
     "status": "ok",
     "timestamp": 1543105859577,
     "user": {
      "displayName": "Amarnath Manipatra",
      "photoUrl": "https://lh3.googleusercontent.com/-E4XehttjKtQ/AAAAAAAAAAI/AAAAAAAAIMM/qMw0AAGMQdQ/s64/photo.jpg",
      "userId": "14836087089649410046"
     },
     "user_tz": 0
    },
    "id": "AWrjZBaBI7WG",
    "outputId": "e0ae65e5-e83d-4492-e15c-61fb479e50ed"
   },
   "outputs": [
    {
     "name": "stdout",
     "output_type": "stream",
     "text": [
      "Size of weights to check multicollinearity is 31572 . Number of weights having a change greater then 30% is 230\n"
     ]
    }
   ],
   "source": [
    "checkMultiCollinearity(standardized_data, y_train,standardized_data_test,y_test)"
   ]
  },
  {
   "cell_type": "markdown",
   "metadata": {
    "colab_type": "text",
    "id": "6wZadlXMuyoM"
   },
   "source": [
    "**Feature Selection**"
   ]
  },
  {
   "cell_type": "code",
   "execution_count": 0,
   "metadata": {
    "colab": {
     "base_uri": "https://localhost:8080/",
     "height": 85
    },
    "colab_type": "code",
    "executionInfo": {
     "elapsed": 2676,
     "status": "ok",
     "timestamp": 1541723011391,
     "user": {
      "displayName": "Amarnath Manipatra",
      "photoUrl": "https://lh3.googleusercontent.com/-E4XehttjKtQ/AAAAAAAAAAI/AAAAAAAAIMM/qMw0AAGMQdQ/s64/photo.jpg",
      "userId": "14836087089649410046"
     },
     "user_tz": 0
    },
    "id": "w59XCz7Zutn9",
    "outputId": "c306437b-f59e-41c3-ffb8-798cad7d5bf0"
   },
   "outputs": [
    {
     "data": {
      "text/plain": [
       "LogisticRegression(C=0.0001, class_weight=None, dual=False,\n",
       "          fit_intercept=True, intercept_scaling=1, max_iter=100,\n",
       "          multi_class='ovr', n_jobs=1, penalty='l2', random_state=None,\n",
       "          solver='liblinear', tol=0.0001, verbose=0, warm_start=False)"
      ]
     },
     "execution_count": 12,
     "metadata": {
      "tags": []
     },
     "output_type": "execute_result"
    }
   ],
   "source": [
    "clf = LogisticRegression(C = 0.0001, penalty= 'l2')\n",
    "clf.fit(standardized_data,y_train)\n",
    "#topfeatures(vectorizer, clf, n=20)"
   ]
  },
  {
   "cell_type": "code",
   "execution_count": 0,
   "metadata": {
    "colab": {
     "base_uri": "https://localhost:8080/",
     "height": 357
    },
    "colab_type": "code",
    "executionInfo": {
     "elapsed": 637,
     "status": "ok",
     "timestamp": 1541723039309,
     "user": {
      "displayName": "Amarnath Manipatra",
      "photoUrl": "https://lh3.googleusercontent.com/-E4XehttjKtQ/AAAAAAAAAAI/AAAAAAAAIMM/qMw0AAGMQdQ/s64/photo.jpg",
      "userId": "14836087089649410046"
     },
     "user_tz": 0
    },
    "id": "oB24RZDu1019",
    "outputId": "bcae819c-4ce2-4089-fcfa-5f716bc95f0b"
   },
   "outputs": [
    {
     "name": "stdout",
     "output_type": "stream",
     "text": [
      "\t-0.1081\tdisappoint     \t\t\t\t0.2101\tgreat          \n",
      "\t-0.0838\tworst          \t\t\t\t0.1754\tlove           \n",
      "\t-0.0723\tterribl        \t\t\t\t0.1453\tbest           \n",
      "\t-0.0670\thorribl        \t\t\t\t0.1311\tgood           \n",
      "\t-0.0636\taw             \t\t\t\t0.1144\tdelici         \n",
      "\t-0.0611\treturn         \t\t\t\t0.0982\texcel          \n",
      "\t-0.0563\tbad            \t\t\t\t0.0878\tfavorit        \n",
      "\t-0.0557\tmoney          \t\t\t\t0.0839\tperfect        \n",
      "\t-0.0544\tunfortun       \t\t\t\t0.0788\tnice           \n",
      "\t-0.0544\twast           \t\t\t\t0.0784\twonder         \n",
      "\t-0.0540\tthrew          \t\t\t\t0.0745\ttasti          \n",
      "\t-0.0509\tthought        \t\t\t\t0.0739\tfind           \n",
      "\t-0.0480\tbland          \t\t\t\t0.0739\teasi           \n",
      "\t-0.0471\tstale          \t\t\t\t0.0671\tthank          \n",
      "\t-0.0452\tmayb           \t\t\t\t0.0613\tenjoy          \n",
      "\t-0.0408\twors           \t\t\t\t0.0608\tuse            \n",
      "\t-0.0407\ttasteless      \t\t\t\t0.0602\tprice          \n",
      "\t-0.0403\tdisgust        \t\t\t\t0.0591\tmake           \n",
      "\t-0.0401\tweak           \t\t\t\t0.0589\thigh           \n",
      "\t-0.0400\tpoor           \t\t\t\t0.0573\tsnack          \n"
     ]
    }
   ],
   "source": [
    "topfeatures(count_vect, clf, n=20)"
   ]
  },
  {
   "cell_type": "markdown",
   "metadata": {
    "colab_type": "text",
    "id": "i_A6VI6gDCRz"
   },
   "source": [
    "# TFIDF"
   ]
  },
  {
   "cell_type": "code",
   "execution_count": 0,
   "metadata": {
    "colab": {},
    "colab_type": "code",
    "id": "f-5w_YrEDD78"
   },
   "outputs": [],
   "source": [
    "tf_idf_vect = TfidfVectorizer()\n",
    "final_tf_idf = tf_idf_vect.fit_transform(X_train['CleanedText'].values)"
   ]
  },
  {
   "cell_type": "code",
   "execution_count": 17,
   "metadata": {
    "colab": {
     "base_uri": "https://localhost:8080/",
     "height": 68
    },
    "colab_type": "code",
    "executionInfo": {
     "elapsed": 2012,
     "status": "ok",
     "timestamp": 1543067532318,
     "user": {
      "displayName": "Amarnath Manipatra",
      "photoUrl": "https://lh3.googleusercontent.com/-E4XehttjKtQ/AAAAAAAAAAI/AAAAAAAAIMM/qMw0AAGMQdQ/s64/photo.jpg",
      "userId": "14836087089649410046"
     },
     "user_tz": 0
    },
    "id": "Pu9XqZwaDK4l",
    "outputId": "002bbb97-fe06-45bd-829e-0a16440b290f"
   },
   "outputs": [
    {
     "name": "stdout",
     "output_type": "stream",
     "text": [
      "type =  <class 'scipy.sparse.csr.csr_matrix'>\n",
      "shape =  (70000, 31572)\n",
      "number of unique words  31572\n"
     ]
    }
   ],
   "source": [
    "#scipy.sparse.save_npz('tfidfsparse_matrix_100000.npz', final_counts)\n",
    "print(\"type = \", type(final_tf_idf))\n",
    "print(\"shape = \", final_tf_idf.get_shape())\n",
    "print(\"number of unique words \", final_tf_idf.get_shape()[1])"
   ]
  },
  {
   "cell_type": "code",
   "execution_count": 0,
   "metadata": {
    "colab": {},
    "colab_type": "code",
    "id": "8KE-DGjuDWEM"
   },
   "outputs": [],
   "source": [
    "final_tf_idf_test = tf_idf_vect.transform(X_test['CleanedText'].values)"
   ]
  },
  {
   "cell_type": "markdown",
   "metadata": {
    "colab_type": "text",
    "id": "hfeN-R43c3cq"
   },
   "source": [
    "**GridSearch**"
   ]
  },
  {
   "cell_type": "code",
   "execution_count": 0,
   "metadata": {
    "colab": {},
    "colab_type": "code",
    "id": "8JQcrvvAmIdJ"
   },
   "outputs": [],
   "source": [
    "tfidf_lr = lr_classifier()"
   ]
  },
  {
   "cell_type": "code",
   "execution_count": 0,
   "metadata": {
    "colab": {},
    "colab_type": "code",
    "id": "I31vYYGLouFS"
   },
   "outputs": [],
   "source": [
    "standardized_data, standardized_data_test = standardisation(False,final_tf_idf,final_tf_idf_test)"
   ]
  },
  {
   "cell_type": "code",
   "execution_count": 276,
   "metadata": {
    "colab": {
     "base_uri": "https://localhost:8080/",
     "height": 221
    },
    "colab_type": "code",
    "executionInfo": {
     "elapsed": 1585960,
     "status": "ok",
     "timestamp": 1543094252604,
     "user": {
      "displayName": "Amarnath Manipatra",
      "photoUrl": "https://lh3.googleusercontent.com/-E4XehttjKtQ/AAAAAAAAAAI/AAAAAAAAIMM/qMw0AAGMQdQ/s64/photo.jpg",
      "userId": "14836087089649410046"
     },
     "user_tz": 0
    },
    "id": "R7vtsUNloEND",
    "outputId": "68b7f2d7-4f9f-4cb8-8de0-10d6dda77d23"
   },
   "outputs": [
    {
     "name": "stdout",
     "output_type": "stream",
     "text": [
      "Fitting 2 folds for each of 14 candidates, totalling 28 fits\n"
     ]
    },
    {
     "name": "stderr",
     "output_type": "stream",
     "text": [
      "[Parallel(n_jobs=2)]: Done  28 out of  28 | elapsed: 26.4min finished\n"
     ]
    },
    {
     "data": {
      "text/plain": [
       "GridSearchCV(cv=TimeSeriesSplit(max_train_size=None, n_splits=2),\n",
       "       error_score='raise',\n",
       "       estimator=LogisticRegression(C=1.0, class_weight=None, dual=False, fit_intercept=True,\n",
       "          intercept_scaling=1, max_iter=100, multi_class='ovr', n_jobs=1,\n",
       "          penalty='l2', random_state=None, solver='liblinear', tol=0.0001,\n",
       "          verbose=0, warm_start=False),\n",
       "       fit_params=None, iid=True, n_jobs=2,\n",
       "       param_grid={'penalty': ['l1', 'l2'], 'C': [0.001, 0.01, 0.1, 1, 10, 100, 1000], 'class_weight': [{0: 5.5, 1: 1}]},\n",
       "       pre_dispatch='2*n_jobs', refit=True, return_train_score='warn',\n",
       "       scoring='roc_auc', verbose=1)"
      ]
     },
     "execution_count": 276,
     "metadata": {
      "tags": []
     },
     "output_type": "execute_result"
    }
   ],
   "source": [
    "tfidf_lr.fit(standardized_data,y_train)"
   ]
  },
  {
   "cell_type": "code",
   "execution_count": 277,
   "metadata": {
    "colab": {
     "base_uri": "https://localhost:8080/",
     "height": 51
    },
    "colab_type": "code",
    "executionInfo": {
     "elapsed": 447,
     "status": "ok",
     "timestamp": 1543094828079,
     "user": {
      "displayName": "Amarnath Manipatra",
      "photoUrl": "https://lh3.googleusercontent.com/-E4XehttjKtQ/AAAAAAAAAAI/AAAAAAAAIMM/qMw0AAGMQdQ/s64/photo.jpg",
      "userId": "14836087089649410046"
     },
     "user_tz": 0
    },
    "id": "f9dVeMKOJ3_7",
    "outputId": "062f8304-ff27-4e5d-fa5c-b5d993075591"
   },
   "outputs": [
    {
     "name": "stdout",
     "output_type": "stream",
     "text": [
      "{'C': 0.01, 'class_weight': {0: 5.5, 1: 1}, 'penalty': 'l1'}\n",
      "0.9286316222041252\n"
     ]
    }
   ],
   "source": [
    "train_set_report(tfidf_lr)"
   ]
  },
  {
   "cell_type": "code",
   "execution_count": 278,
   "metadata": {
    "colab": {
     "base_uri": "https://localhost:8080/",
     "height": 430
    },
    "colab_type": "code",
    "executionInfo": {
     "elapsed": 795,
     "status": "ok",
     "timestamp": 1543094832237,
     "user": {
      "displayName": "Amarnath Manipatra",
      "photoUrl": "https://lh3.googleusercontent.com/-E4XehttjKtQ/AAAAAAAAAAI/AAAAAAAAIMM/qMw0AAGMQdQ/s64/photo.jpg",
      "userId": "14836087089649410046"
     },
     "user_tz": 0
    },
    "id": "JZJ9WiHUZ3Ug",
    "outputId": "ae133aa8-31a3-4a06-b06e-9b19476916f3"
   },
   "outputs": [
    {
     "name": "stdout",
     "output_type": "stream",
     "text": [
      "The test set accuracy is 90.606667%\n",
      "             precision    recall  f1-score   support\n",
      "\n",
      "          0       0.59      0.77      0.67      3665\n",
      "          1       0.97      0.93      0.95     26335\n",
      "\n",
      "avg / total       0.92      0.91      0.91     30000\n",
      "\n"
     ]
    },
    {
     "data": {
      "image/png": "[encoded data removed]",
      "text/plain": [
       "<matplotlib.figure.Figure at 0x7fd528ca72e8>"
      ]
     },
     "metadata": {
      "tags": []
     },
     "output_type": "display_data"
    }
   ],
   "source": [
    "test_set_report(tfidf_lr,standardized_data_test,y_test)"
   ]
  },
  {
   "cell_type": "code",
   "execution_count": 0,
   "metadata": {
    "colab": {},
    "colab_type": "code",
    "id": "cUHHgcGRQzEX"
   },
   "outputs": [],
   "source": [
    "a = lrclassifierresults(tfidf_lr)"
   ]
  },
  {
   "cell_type": "code",
   "execution_count": 0,
   "metadata": {
    "colab": {},
    "colab_type": "code",
    "id": "ZoE3QFZQxYIE"
   },
   "outputs": [],
   "source": [
    "b = lrclassifierresults(tfidf_lr)"
   ]
  },
  {
   "cell_type": "code",
   "execution_count": 286,
   "metadata": {
    "colab": {
     "base_uri": "https://localhost:8080/",
     "height": 294
    },
    "colab_type": "code",
    "executionInfo": {
     "elapsed": 687,
     "status": "ok",
     "timestamp": 1543094990585,
     "user": {
      "displayName": "Amarnath Manipatra",
      "photoUrl": "https://lh3.googleusercontent.com/-E4XehttjKtQ/AAAAAAAAAAI/AAAAAAAAIMM/qMw0AAGMQdQ/s64/photo.jpg",
      "userId": "14836087089649410046"
     },
     "user_tz": 0
    },
    "id": "UTSkUElSEub-",
    "outputId": "9a5eecea-e417-4e0a-a1be-cd25c76c837b"
   },
   "outputs": [
    {
     "data": {
      "image/png": "[encoded data removed]",
      "text/plain": [
       "<matplotlib.figure.Figure at 0x7fd50f0793c8>"
      ]
     },
     "metadata": {
      "tags": []
     },
     "output_type": "display_data"
    }
   ],
   "source": [
    "plotgraph(b)\n"
   ]
  },
  {
   "cell_type": "markdown",
   "metadata": {
    "colab_type": "text",
    "id": "7sUVhrrVaMZE"
   },
   "source": [
    "**Random**"
   ]
  },
  {
   "cell_type": "code",
   "execution_count": 0,
   "metadata": {
    "colab": {},
    "colab_type": "code",
    "id": "ZiSsjDsSJpSM"
   },
   "outputs": [],
   "source": [
    "tfidf_lr_rndom = lr_classifier_random()"
   ]
  },
  {
   "cell_type": "code",
   "execution_count": 255,
   "metadata": {
    "colab": {
     "base_uri": "https://localhost:8080/",
     "height": 221
    },
    "colab_type": "code",
    "executionInfo": {
     "elapsed": 761196,
     "status": "ok",
     "timestamp": 1543092002233,
     "user": {
      "displayName": "Amarnath Manipatra",
      "photoUrl": "https://lh3.googleusercontent.com/-E4XehttjKtQ/AAAAAAAAAAI/AAAAAAAAIMM/qMw0AAGMQdQ/s64/photo.jpg",
      "userId": "14836087089649410046"
     },
     "user_tz": 0
    },
    "id": "557RnZcWJ2F_",
    "outputId": "fbf3adb5-1a59-4016-c771-c8aa98379d26"
   },
   "outputs": [
    {
     "name": "stdout",
     "output_type": "stream",
     "text": [
      "Fitting 2 folds for each of 10 candidates, totalling 20 fits\n"
     ]
    },
    {
     "name": "stderr",
     "output_type": "stream",
     "text": [
      "[Parallel(n_jobs=2)]: Done  20 out of  20 | elapsed: 12.6min finished\n"
     ]
    },
    {
     "data": {
      "text/plain": [
       "RandomizedSearchCV(cv=TimeSeriesSplit(max_train_size=None, n_splits=2),\n",
       "          error_score='raise',\n",
       "          estimator=LogisticRegression(C=1.0, class_weight=None, dual=False, fit_intercept=True,\n",
       "          intercept_scaling=1, max_iter=100, multi_class='ovr', n_jobs=1,\n",
       "          penalty='l2', random_state=None, solver='liblinear', tol=0.0001,\n",
       "          verbose=0, warm_start=False),\n",
       "          fit_params=None, iid=True, n_iter=10, n_jobs=2,\n",
       "          param_distributions={'penalty': ['l1', 'l2'], 'C': [0.001, 0.01, 0.1, 1, 10, 100, 1000], 'class_weight': [{0: 5.5, 1: 1}]},\n",
       "          pre_dispatch='2*n_jobs', random_state=None, refit=True,\n",
       "          return_train_score='warn', scoring='roc_auc', verbose=1)"
      ]
     },
     "execution_count": 255,
     "metadata": {
      "tags": []
     },
     "output_type": "execute_result"
    }
   ],
   "source": [
    "tfidf_lr_rndom.fit(standardized_data,y_train)"
   ]
  },
  {
   "cell_type": "code",
   "execution_count": 256,
   "metadata": {
    "colab": {
     "base_uri": "https://localhost:8080/",
     "height": 51
    },
    "colab_type": "code",
    "executionInfo": {
     "elapsed": 474,
     "status": "ok",
     "timestamp": 1543092377071,
     "user": {
      "displayName": "Amarnath Manipatra",
      "photoUrl": "https://lh3.googleusercontent.com/-E4XehttjKtQ/AAAAAAAAAAI/AAAAAAAAIMM/qMw0AAGMQdQ/s64/photo.jpg",
      "userId": "14836087089649410046"
     },
     "user_tz": 0
    },
    "id": "RvRiYc1BJ8w5",
    "outputId": "bf92dec2-69dc-489f-b7cd-a87fb9adc45f"
   },
   "outputs": [
    {
     "name": "stdout",
     "output_type": "stream",
     "text": [
      "{'penalty': 'l1', 'class_weight': {0: 5.5, 1: 1}, 'C': 0.01}\n",
      "0.928632021478328\n"
     ]
    }
   ],
   "source": [
    "train_set_report(tfidf_lr_rndom)"
   ]
  },
  {
   "cell_type": "code",
   "execution_count": 257,
   "metadata": {
    "colab": {
     "base_uri": "https://localhost:8080/",
     "height": 430
    },
    "colab_type": "code",
    "executionInfo": {
     "elapsed": 779,
     "status": "ok",
     "timestamp": 1543092380182,
     "user": {
      "displayName": "Amarnath Manipatra",
      "photoUrl": "https://lh3.googleusercontent.com/-E4XehttjKtQ/AAAAAAAAAAI/AAAAAAAAIMM/qMw0AAGMQdQ/s64/photo.jpg",
      "userId": "14836087089649410046"
     },
     "user_tz": 0
    },
    "id": "gvORW3S9aaGp",
    "outputId": "7d3de19b-57e8-4247-b9da-7831469805dd"
   },
   "outputs": [
    {
     "name": "stdout",
     "output_type": "stream",
     "text": [
      "The test set accuracy is 90.606667%\n",
      "             precision    recall  f1-score   support\n",
      "\n",
      "          0       0.59      0.77      0.67      3665\n",
      "          1       0.97      0.93      0.95     26335\n",
      "\n",
      "avg / total       0.92      0.91      0.91     30000\n",
      "\n"
     ]
    },
    {
     "data": {
      "image/png": "[encoded data removed]",
      "text/plain": [
       "<matplotlib.figure.Figure at 0x7fd51019fc50>"
      ]
     },
     "metadata": {
      "tags": []
     },
     "output_type": "display_data"
    }
   ],
   "source": [
    "test_set_report(tfidf_lr_rndom,standardized_data_test,y_test)"
   ]
  },
  {
   "cell_type": "code",
   "execution_count": 0,
   "metadata": {
    "colab": {},
    "colab_type": "code",
    "id": "eUY5WQLoxkZh"
   },
   "outputs": [],
   "source": [
    "b = lrclassifierresults(tfidf_lr_rndom)"
   ]
  },
  {
   "cell_type": "code",
   "execution_count": 263,
   "metadata": {
    "colab": {
     "base_uri": "https://localhost:8080/",
     "height": 294
    },
    "colab_type": "code",
    "executionInfo": {
     "elapsed": 736,
     "status": "ok",
     "timestamp": 1543092509235,
     "user": {
      "displayName": "Amarnath Manipatra",
      "photoUrl": "https://lh3.googleusercontent.com/-E4XehttjKtQ/AAAAAAAAAAI/AAAAAAAAIMM/qMw0AAGMQdQ/s64/photo.jpg",
      "userId": "14836087089649410046"
     },
     "user_tz": 0
    },
    "id": "xwQVe2b3E3oA",
    "outputId": "ec77c28a-99ec-4e68-ca49-aa4f6a452400"
   },
   "outputs": [
    {
     "data": {
      "image/png": "[encoded data removed]",
      "text/plain": [
       "<matplotlib.figure.Figure at 0x7fd5245a7e80>"
      ]
     },
     "metadata": {
      "tags": []
     },
     "output_type": "display_data"
    }
   ],
   "source": [
    "plotgraph(b)"
   ]
  },
  {
   "cell_type": "markdown",
   "metadata": {
    "colab_type": "text",
    "id": "QjS2SGbIahbq"
   },
   "source": [
    "**Check Sparsity**"
   ]
  },
  {
   "cell_type": "code",
   "execution_count": 0,
   "metadata": {
    "colab": {
     "base_uri": "https://localhost:8080/",
     "height": 153
    },
    "colab_type": "code",
    "executionInfo": {
     "elapsed": 31711,
     "status": "ok",
     "timestamp": 1541727085836,
     "user": {
      "displayName": "Amarnath Manipatra",
      "photoUrl": "https://lh3.googleusercontent.com/-E4XehttjKtQ/AAAAAAAAAAI/AAAAAAAAIMM/qMw0AAGMQdQ/s64/photo.jpg",
      "userId": "14836087089649410046"
     },
     "user_tz": 0
    },
    "id": "1T3p-uBFakau",
    "outputId": "3d2f9d9a-b37f-4d8c-cf23-e0d5c1650120"
   },
   "outputs": [
    {
     "name": "stdout",
     "output_type": "stream",
     "text": [
      "Number of non-zero weights for 1000 = 18139\n",
      "Accuracy for 1000 = 87.26\n",
      "Number of non-zero weights for 10 = 15654\n",
      "Accuracy for 10 = 87.93666666666667\n",
      "Number of non-zero weights for 0.0001 = 0\n",
      "Accuracy for 0.0001 = 87.78333333333333\n",
      "Number of non-zero weights for 0.8 = 14261\n",
      "Accuracy for 0.8 = 89.21333333333334\n"
     ]
    }
   ],
   "source": [
    "c = [1000,10,0.0001,0.8]\n",
    "for i in c:\n",
    "  checkSparsity(i,standardized_data,y_train,standardized_data_test,y_test)\n",
    "  "
   ]
  },
  {
   "cell_type": "markdown",
   "metadata": {
    "colab_type": "text",
    "id": "DjfZFDBf3LB5"
   },
   "source": [
    "**MULTI COLLINEARITY**"
   ]
  },
  {
   "cell_type": "code",
   "execution_count": 0,
   "metadata": {
    "colab": {
     "base_uri": "https://localhost:8080/",
     "height": 34
    },
    "colab_type": "code",
    "executionInfo": {
     "elapsed": 11897,
     "status": "ok",
     "timestamp": 1541726226559,
     "user": {
      "displayName": "Amarnath Manipatra",
      "photoUrl": "https://lh3.googleusercontent.com/-E4XehttjKtQ/AAAAAAAAAAI/AAAAAAAAIMM/qMw0AAGMQdQ/s64/photo.jpg",
      "userId": "14836087089649410046"
     },
     "user_tz": 0
    },
    "id": "nbVuFDTJ3KZk",
    "outputId": "9b29ca55-85b0-4651-d630-10f9e1e2a0f1"
   },
   "outputs": [
    {
     "name": "stdout",
     "output_type": "stream",
     "text": [
      "Size of weights to check multicollinearity is 31572 . Number of weights having a change greater then 30% is 93\n"
     ]
    }
   ],
   "source": [
    "checkMultiCollinearity(standardized_data, y_train,standardized_data_test,y_test)"
   ]
  },
  {
   "cell_type": "markdown",
   "metadata": {
    "colab_type": "text",
    "id": "Ne_r3Us43hQQ"
   },
   "source": [
    "**TOP FEATURES**"
   ]
  },
  {
   "cell_type": "code",
   "execution_count": 0,
   "metadata": {
    "colab": {
     "base_uri": "https://localhost:8080/",
     "height": 85
    },
    "colab_type": "code",
    "executionInfo": {
     "elapsed": 2754,
     "status": "ok",
     "timestamp": 1541723345061,
     "user": {
      "displayName": "Amarnath Manipatra",
      "photoUrl": "https://lh3.googleusercontent.com/-E4XehttjKtQ/AAAAAAAAAAI/AAAAAAAAIMM/qMw0AAGMQdQ/s64/photo.jpg",
      "userId": "14836087089649410046"
     },
     "user_tz": 0
    },
    "id": "wm-Xb2ua3tlk",
    "outputId": "a47c569c-ca4c-4223-d0e7-79f707bf4979"
   },
   "outputs": [
    {
     "data": {
      "text/plain": [
       "LogisticRegression(C=0.0001, class_weight=None, dual=False,\n",
       "          fit_intercept=True, intercept_scaling=1, max_iter=100,\n",
       "          multi_class='ovr', n_jobs=1, penalty='l2', random_state=None,\n",
       "          solver='liblinear', tol=0.0001, verbose=0, warm_start=False)"
      ]
     },
     "execution_count": 24,
     "metadata": {
      "tags": []
     },
     "output_type": "execute_result"
    }
   ],
   "source": [
    "clf = LogisticRegression(C = 0.0001, penalty= 'l2')\n",
    "clf.fit(standardized_data,y_train)"
   ]
  },
  {
   "cell_type": "code",
   "execution_count": 0,
   "metadata": {
    "colab": {
     "base_uri": "https://localhost:8080/",
     "height": 357
    },
    "colab_type": "code",
    "executionInfo": {
     "elapsed": 715,
     "status": "ok",
     "timestamp": 1541723346816,
     "user": {
      "displayName": "Amarnath Manipatra",
      "photoUrl": "https://lh3.googleusercontent.com/-E4XehttjKtQ/AAAAAAAAAAI/AAAAAAAAIMM/qMw0AAGMQdQ/s64/photo.jpg",
      "userId": "14836087089649410046"
     },
     "user_tz": 0
    },
    "id": "MPCTe46k3kSd",
    "outputId": "e4c361de-b1d6-4430-ac0e-3f79b8d7cc21"
   },
   "outputs": [
    {
     "name": "stdout",
     "output_type": "stream",
     "text": [
      "\t-0.0995\tdisappoint     \t\t\t\t0.1663\tgreat          \n",
      "\t-0.0814\tworst          \t\t\t\t0.1455\tlove           \n",
      "\t-0.0692\tterribl        \t\t\t\t0.1225\tbest           \n",
      "\t-0.0671\thorribl        \t\t\t\t0.1128\tgood           \n",
      "\t-0.0619\taw             \t\t\t\t0.0951\tdelici         \n",
      "\t-0.0605\treturn         \t\t\t\t0.0802\texcel          \n",
      "\t-0.0547\twast           \t\t\t\t0.0758\tfavorit        \n",
      "\t-0.0530\tthrew          \t\t\t\t0.0752\tperfect        \n",
      "\t-0.0514\tstale          \t\t\t\t0.0717\tfind           \n",
      "\t-0.0490\tbland          \t\t\t\t0.0697\tnice           \n",
      "\t-0.0482\tmoney          \t\t\t\t0.0678\twonder         \n",
      "\t-0.0479\tunfortun       \t\t\t\t0.0654\tmake           \n",
      "\t-0.0469\tbad            \t\t\t\t0.0649\tuse            \n",
      "\t-0.0436\tthought        \t\t\t\t0.0626\ttasti          \n",
      "\t-0.0413\tmayb           \t\t\t\t0.0599\teasi           \n",
      "\t-0.0411\tweak           \t\t\t\t0.0576\tthank          \n",
      "\t-0.0405\ttasteless      \t\t\t\t0.0564\tenjoy          \n",
      "\t-0.0403\tdisgust        \t\t\t\t0.0548\thigh           \n",
      "\t-0.0396\twors           \t\t\t\t0.0539\tlittl          \n",
      "\t-0.0376\trefund         \t\t\t\t0.0529\ttea            \n"
     ]
    }
   ],
   "source": [
    "topfeatures(tf_idf_vect, clf, n=20)"
   ]
  },
  {
   "cell_type": "markdown",
   "metadata": {
    "colab_type": "text",
    "id": "I6_fmG8FDqbP"
   },
   "source": [
    "# AVGW2V"
   ]
  },
  {
   "cell_type": "code",
   "execution_count": 0,
   "metadata": {
    "colab": {},
    "colab_type": "code",
    "id": "K4U6NfgtDkMU"
   },
   "outputs": [],
   "source": [
    "def wordList(sentence):\n",
    "    listword = []\n",
    "    for sent in sentence:\n",
    "        listword.append(sent.split())\n",
    "    return listword\n",
    "        "
   ]
  },
  {
   "cell_type": "code",
   "execution_count": 0,
   "metadata": {
    "colab": {},
    "colab_type": "code",
    "id": "OStwfONeDy_M"
   },
   "outputs": [],
   "source": [
    "list_clean_text = wordList(X_train['CleanedText'].values)"
   ]
  },
  {
   "cell_type": "code",
   "execution_count": 0,
   "metadata": {
    "colab": {},
    "colab_type": "code",
    "id": "X0foXNIoD0uo"
   },
   "outputs": [],
   "source": [
    "list_clean_text_test = wordList(X_test['CleanedText'].values)"
   ]
  },
  {
   "cell_type": "code",
   "execution_count": 43,
   "metadata": {
    "colab": {
     "base_uri": "https://localhost:8080/",
     "height": 34
    },
    "colab_type": "code",
    "executionInfo": {
     "elapsed": 1820,
     "status": "ok",
     "timestamp": 1543073472033,
     "user": {
      "displayName": "Amarnath Manipatra",
      "photoUrl": "https://lh3.googleusercontent.com/-E4XehttjKtQ/AAAAAAAAAAI/AAAAAAAAIMM/qMw0AAGMQdQ/s64/photo.jpg",
      "userId": "14836087089649410046"
     },
     "user_tz": 0
    },
    "id": "Ck9m8amzD2h0",
    "outputId": "1236a278-436d-4f7e-d9b9-a942131ad083"
   },
   "outputs": [
    {
     "name": "stdout",
     "output_type": "stream",
     "text": [
      "--- 0.9984514713287354 seconds ---\n"
     ]
    }
   ],
   "source": [
    "import time\n",
    "start_time = time.time()\n",
    "w2v_model = Word2Vec(list_clean_text, min_count = 5, size = 300, workers = -1 )\n",
    "print(\"--- %s seconds ---\" % (time.time() - start_time))"
   ]
  },
  {
   "cell_type": "code",
   "execution_count": 46,
   "metadata": {
    "colab": {
     "base_uri": "https://localhost:8080/",
     "height": 71
    },
    "colab_type": "code",
    "executionInfo": {
     "elapsed": 441,
     "status": "ok",
     "timestamp": 1543073491084,
     "user": {
      "displayName": "Amarnath Manipatra",
      "photoUrl": "https://lh3.googleusercontent.com/-E4XehttjKtQ/AAAAAAAAAAI/AAAAAAAAIMM/qMw0AAGMQdQ/s64/photo.jpg",
      "userId": "14836087089649410046"
     },
     "user_tz": 0
    },
    "id": "i5aDJf1jEcqM",
    "outputId": "45bf5f2f-4d42-4c10-ffa9-ed0088aa5ea0"
   },
   "outputs": [
    {
     "name": "stdout",
     "output_type": "stream",
     "text": [
      "number of words occuring more than 5 times 10738\n",
      "sample words ['purchas', 'wedg', 'oro', 'central', 'market', 'cost', 'say', 'impress', 'look', 'hard', 'chees', 'add', 'mixtur', 'bacon', 'wrap', 'jalapeno', 'turn', 'great', 'choic', 'usual', 'use', 'parmesan', 'realli', 'want', 'tri', 'someth', 'new', 'also', 'grate', 'caesar', 'salad', 'sharp', 'flavor', 'went', 'dress', 'bold', 'nose', 'soft', 'finish', 'pair', 'red', 'white', 'wine', 'whatev', 'reason', 'give', 'think', 'pleasant', 'surpris', 'wont']\n"
     ]
    }
   ],
   "source": [
    "w2v_words = list(w2v_model.wv.vocab)\n",
    "print(\"number of words occuring more than 5 times\", len(w2v_words))\n",
    "print(\"sample words\", w2v_words[0:50])"
   ]
  },
  {
   "cell_type": "code",
   "execution_count": 47,
   "metadata": {
    "colab": {
     "base_uri": "https://localhost:8080/",
     "height": 34
    },
    "colab_type": "code",
    "executionInfo": {
     "elapsed": 430,
     "status": "ok",
     "timestamp": 1543073497768,
     "user": {
      "displayName": "Amarnath Manipatra",
      "photoUrl": "https://lh3.googleusercontent.com/-E4XehttjKtQ/AAAAAAAAAAI/AAAAAAAAIMM/qMw0AAGMQdQ/s64/photo.jpg",
      "userId": "14836087089649410046"
     },
     "user_tz": 0
    },
    "id": "-jFR5y-1Eghh",
    "outputId": "a0c23d1c-c1d3-408f-a5db-db0703d959de"
   },
   "outputs": [
    {
     "data": {
      "text/plain": [
       "list"
      ]
     },
     "execution_count": 47,
     "metadata": {
      "tags": []
     },
     "output_type": "execute_result"
    }
   ],
   "source": [
    "type(w2v_words)"
   ]
  },
  {
   "cell_type": "code",
   "execution_count": 0,
   "metadata": {
    "colab": {},
    "colab_type": "code",
    "id": "r1l8BGzOFDpV"
   },
   "outputs": [],
   "source": [
    "def w2vavg(clean,w2v_model,w2v_words):\n",
    "    sent_vectors = [] # the avg-w2v for each sentence/review is stored in this list\n",
    "    for sent in clean:\n",
    "        sent_vec = np.zeros(300) # as word vectors are of zero length\n",
    "        cnt_words =0; # num of words with a valid vector in the sentence/review\n",
    "        for word in sent: # for each word in a review/sentence\n",
    "            if word in w2v_words:\n",
    "                vec = w2v_model.wv[word]\n",
    "                sent_vec += vec\n",
    "                cnt_words += 1\n",
    "        if cnt_words != 0:\n",
    "            sent_vec /= cnt_words\n",
    "        sent_vectors.append(sent_vec)\n",
    "    return sent_vectors\n"
   ]
  },
  {
   "cell_type": "code",
   "execution_count": 52,
   "metadata": {
    "colab": {
     "base_uri": "https://localhost:8080/",
     "height": 68
    },
    "colab_type": "code",
    "executionInfo": {
     "elapsed": 66649,
     "status": "ok",
     "timestamp": 1543073600429,
     "user": {
      "displayName": "Amarnath Manipatra",
      "photoUrl": "https://lh3.googleusercontent.com/-E4XehttjKtQ/AAAAAAAAAAI/AAAAAAAAIMM/qMw0AAGMQdQ/s64/photo.jpg",
      "userId": "14836087089649410046"
     },
     "user_tz": 0
    },
    "id": "maN27S4xEyDt",
    "outputId": "13736a21-76a6-4955-e327-ba4f2f1eabbb"
   },
   "outputs": [
    {
     "name": "stdout",
     "output_type": "stream",
     "text": [
      "--- 66.08126473426819 seconds ---\n",
      "70000\n",
      "300\n"
     ]
    }
   ],
   "source": [
    "import time\n",
    "start_time = time.time()\n",
    "sent_vectors_train = w2vavg(list_clean_text,w2v_model,w2v_words)\n",
    "print(\"--- %s seconds ---\" % (time.time() - start_time))\n",
    "print(len(sent_vectors_train))\n",
    "print(len(sent_vectors_train[0]))"
   ]
  },
  {
   "cell_type": "code",
   "execution_count": 53,
   "metadata": {
    "colab": {
     "base_uri": "https://localhost:8080/",
     "height": 51
    },
    "colab_type": "code",
    "executionInfo": {
     "elapsed": 30058,
     "status": "ok",
     "timestamp": 1543073673464,
     "user": {
      "displayName": "Amarnath Manipatra",
      "photoUrl": "https://lh3.googleusercontent.com/-E4XehttjKtQ/AAAAAAAAAAI/AAAAAAAAIMM/qMw0AAGMQdQ/s64/photo.jpg",
      "userId": "14836087089649410046"
     },
     "user_tz": 0
    },
    "id": "1B4jrg75E8qD",
    "outputId": "264b5e7a-e529-468b-e119-1ab57c18fea4"
   },
   "outputs": [
    {
     "name": "stdout",
     "output_type": "stream",
     "text": [
      "30000\n",
      "300\n"
     ]
    }
   ],
   "source": [
    "sent_vectors_test = w2vavg(list_clean_text_test,w2v_model,w2v_words)\n",
    "print(len(sent_vectors_test))\n",
    "print(len(sent_vectors_test[0]))"
   ]
  },
  {
   "cell_type": "code",
   "execution_count": 0,
   "metadata": {
    "colab": {},
    "colab_type": "code",
    "id": "Ou2QAB_gcSH8"
   },
   "outputs": [],
   "source": [
    "sent_vectors_final_train = np.asarray(sent_vectors_train)"
   ]
  },
  {
   "cell_type": "code",
   "execution_count": 0,
   "metadata": {
    "colab": {},
    "colab_type": "code",
    "id": "yeKhl26ocTso"
   },
   "outputs": [],
   "source": [
    "sent_vectors_final_test = np.asarray(sent_vectors_test)"
   ]
  },
  {
   "cell_type": "code",
   "execution_count": 0,
   "metadata": {
    "colab": {},
    "colab_type": "code",
    "id": "G0_r2yDockbv"
   },
   "outputs": [],
   "source": [
    "standardized_data, standardized_data_test = standardisation(True,sent_vectors_final_train,sent_vectors_final_test)"
   ]
  },
  {
   "cell_type": "code",
   "execution_count": 68,
   "metadata": {
    "colab": {
     "base_uri": "https://localhost:8080/",
     "height": 34
    },
    "colab_type": "code",
    "executionInfo": {
     "elapsed": 421,
     "status": "ok",
     "timestamp": 1543075368999,
     "user": {
      "displayName": "Amarnath Manipatra",
      "photoUrl": "https://lh3.googleusercontent.com/-E4XehttjKtQ/AAAAAAAAAAI/AAAAAAAAIMM/qMw0AAGMQdQ/s64/photo.jpg",
      "userId": "14836087089649410046"
     },
     "user_tz": 0
    },
    "id": "Y6BBYbT88LRv",
    "outputId": "bf12a221-5651-4f41-9943-48b2115e1109"
   },
   "outputs": [
    {
     "data": {
      "text/plain": [
       "(70000, 300)"
      ]
     },
     "execution_count": 68,
     "metadata": {
      "tags": []
     },
     "output_type": "execute_result"
    }
   ],
   "source": [
    "standardized_data.shape"
   ]
  },
  {
   "cell_type": "code",
   "execution_count": 0,
   "metadata": {
    "colab": {},
    "colab_type": "code",
    "id": "r1lSaXK4bn8M"
   },
   "outputs": [],
   "source": [
    "avgw2vlr = lr_classifier()"
   ]
  },
  {
   "cell_type": "code",
   "execution_count": 288,
   "metadata": {
    "colab": {
     "base_uri": "https://localhost:8080/",
     "height": 221
    },
    "colab_type": "code",
    "executionInfo": {
     "elapsed": 1611601,
     "status": "ok",
     "timestamp": 1543096669253,
     "user": {
      "displayName": "Amarnath Manipatra",
      "photoUrl": "https://lh3.googleusercontent.com/-E4XehttjKtQ/AAAAAAAAAAI/AAAAAAAAIMM/qMw0AAGMQdQ/s64/photo.jpg",
      "userId": "14836087089649410046"
     },
     "user_tz": 0
    },
    "id": "gW84LYF0b_Yw",
    "outputId": "16ef939e-ce5b-4710-9074-21e12f9f65be"
   },
   "outputs": [
    {
     "name": "stdout",
     "output_type": "stream",
     "text": [
      "Fitting 2 folds for each of 14 candidates, totalling 28 fits\n"
     ]
    },
    {
     "name": "stderr",
     "output_type": "stream",
     "text": [
      "[Parallel(n_jobs=2)]: Done  28 out of  28 | elapsed: 26.8min finished\n"
     ]
    },
    {
     "data": {
      "text/plain": [
       "GridSearchCV(cv=TimeSeriesSplit(max_train_size=None, n_splits=2),\n",
       "       error_score='raise',\n",
       "       estimator=LogisticRegression(C=1.0, class_weight=None, dual=False, fit_intercept=True,\n",
       "          intercept_scaling=1, max_iter=100, multi_class='ovr', n_jobs=1,\n",
       "          penalty='l2', random_state=None, solver='liblinear', tol=0.0001,\n",
       "          verbose=0, warm_start=False),\n",
       "       fit_params=None, iid=True, n_jobs=2,\n",
       "       param_grid={'penalty': ['l1', 'l2'], 'C': [0.001, 0.01, 0.1, 1, 10, 100, 1000], 'class_weight': [{0: 5.5, 1: 1}]},\n",
       "       pre_dispatch='2*n_jobs', refit=True, return_train_score='warn',\n",
       "       scoring='roc_auc', verbose=1)"
      ]
     },
     "execution_count": 288,
     "metadata": {
      "tags": []
     },
     "output_type": "execute_result"
    }
   ],
   "source": [
    "avgw2vlr.fit(standardized_data,y)"
   ]
  },
  {
   "cell_type": "code",
   "execution_count": 289,
   "metadata": {
    "colab": {
     "base_uri": "https://localhost:8080/",
     "height": 51
    },
    "colab_type": "code",
    "executionInfo": {
     "elapsed": 1586908,
     "status": "ok",
     "timestamp": 1543096669256,
     "user": {
      "displayName": "Amarnath Manipatra",
      "photoUrl": "https://lh3.googleusercontent.com/-E4XehttjKtQ/AAAAAAAAAAI/AAAAAAAAIMM/qMw0AAGMQdQ/s64/photo.jpg",
      "userId": "14836087089649410046"
     },
     "user_tz": 0
    },
    "id": "RkqTyzPHbr2O",
    "outputId": "5c482581-4b02-4c86-fde2-9432e7ea375d"
   },
   "outputs": [
    {
     "name": "stdout",
     "output_type": "stream",
     "text": [
      "{'C': 0.01, 'class_weight': {0: 5.5, 1: 1}, 'penalty': 'l1'}\n",
      "0.9286280760871938\n"
     ]
    }
   ],
   "source": [
    "train_set_report(avgw2vlr)"
   ]
  },
  {
   "cell_type": "code",
   "execution_count": 290,
   "metadata": {
    "colab": {
     "base_uri": "https://localhost:8080/",
     "height": 430
    },
    "colab_type": "code",
    "executionInfo": {
     "elapsed": 1585716,
     "status": "ok",
     "timestamp": 1543096669492,
     "user": {
      "displayName": "Amarnath Manipatra",
      "photoUrl": "https://lh3.googleusercontent.com/-E4XehttjKtQ/AAAAAAAAAAI/AAAAAAAAIMM/qMw0AAGMQdQ/s64/photo.jpg",
      "userId": "14836087089649410046"
     },
     "user_tz": 0
    },
    "id": "emX-dihKdD5p",
    "outputId": "ac87b7ae-8ff7-40df-f329-987bc3bad29c"
   },
   "outputs": [
    {
     "name": "stdout",
     "output_type": "stream",
     "text": [
      "The test set accuracy is 90.606667%\n",
      "             precision    recall  f1-score   support\n",
      "\n",
      "          0       0.59      0.77      0.67      3665\n",
      "          1       0.97      0.93      0.95     26335\n",
      "\n",
      "avg / total       0.92      0.91      0.91     30000\n",
      "\n"
     ]
    },
    {
     "data": {
      "image/png": "[encoded data removed]",
      "text/plain": [
       "<matplotlib.figure.Figure at 0x7fd511e7a438>"
      ]
     },
     "metadata": {
      "tags": []
     },
     "output_type": "display_data"
    }
   ],
   "source": [
    "test_set_report(avgw2vlr,standardized_data_test,Y_test)"
   ]
  },
  {
   "cell_type": "code",
   "execution_count": 0,
   "metadata": {
    "colab": {},
    "colab_type": "code",
    "id": "Edgu92ehdwlm"
   },
   "outputs": [],
   "source": [
    "a = lrclassifierresults(avgw2vlr)"
   ]
  },
  {
   "cell_type": "code",
   "execution_count": 293,
   "metadata": {
    "colab": {
     "base_uri": "https://localhost:8080/",
     "height": 294
    },
    "colab_type": "code",
    "executionInfo": {
     "elapsed": 1567709,
     "status": "ok",
     "timestamp": 1543096671247,
     "user": {
      "displayName": "Amarnath Manipatra",
      "photoUrl": "https://lh3.googleusercontent.com/-E4XehttjKtQ/AAAAAAAAAAI/AAAAAAAAIMM/qMw0AAGMQdQ/s64/photo.jpg",
      "userId": "14836087089649410046"
     },
     "user_tz": 0
    },
    "id": "IjvYxpOVFIBq",
    "outputId": "a010926f-bbdb-4cb7-8794-5d8c45331dc4"
   },
   "outputs": [
    {
     "data": {
      "image/png": "[encoded data removed]",
      "text/plain": [
       "<matplotlib.figure.Figure at 0x7fd528d07c50>"
      ]
     },
     "metadata": {
      "tags": []
     },
     "output_type": "display_data"
    }
   ],
   "source": [
    "plotgraph(a)"
   ]
  },
  {
   "cell_type": "markdown",
   "metadata": {
    "colab_type": "text",
    "id": "byGvH3kEdV7W"
   },
   "source": [
    "**Randomized Search**"
   ]
  },
  {
   "cell_type": "code",
   "execution_count": 0,
   "metadata": {
    "colab": {},
    "colab_type": "code",
    "id": "RFEkkblldZgc"
   },
   "outputs": [],
   "source": [
    "avgw2v_lr_rndom = lr_classifier_random()"
   ]
  },
  {
   "cell_type": "code",
   "execution_count": 297,
   "metadata": {
    "colab": {
     "base_uri": "https://localhost:8080/",
     "height": 221
    },
    "colab_type": "code",
    "executionInfo": {
     "elapsed": 811459,
     "status": "ok",
     "timestamp": 1543097644959,
     "user": {
      "displayName": "Amarnath Manipatra",
      "photoUrl": "https://lh3.googleusercontent.com/-E4XehttjKtQ/AAAAAAAAAAI/AAAAAAAAIMM/qMw0AAGMQdQ/s64/photo.jpg",
      "userId": "14836087089649410046"
     },
     "user_tz": 0
    },
    "id": "JPCsTDthdiji",
    "outputId": "dd244735-c912-41c3-e45b-9a679b783c2b"
   },
   "outputs": [
    {
     "name": "stdout",
     "output_type": "stream",
     "text": [
      "Fitting 2 folds for each of 10 candidates, totalling 20 fits\n"
     ]
    },
    {
     "name": "stderr",
     "output_type": "stream",
     "text": [
      "[Parallel(n_jobs=2)]: Done  20 out of  20 | elapsed: 13.5min finished\n"
     ]
    },
    {
     "data": {
      "text/plain": [
       "RandomizedSearchCV(cv=TimeSeriesSplit(max_train_size=None, n_splits=2),\n",
       "          error_score='raise',\n",
       "          estimator=LogisticRegression(C=1.0, class_weight=None, dual=False, fit_intercept=True,\n",
       "          intercept_scaling=1, max_iter=100, multi_class='ovr', n_jobs=1,\n",
       "          penalty='l2', random_state=None, solver='liblinear', tol=0.0001,\n",
       "          verbose=0, warm_start=False),\n",
       "          fit_params=None, iid=True, n_iter=10, n_jobs=2,\n",
       "          param_distributions={'penalty': ['l1', 'l2'], 'C': [0.001, 0.01, 0.1, 1, 10, 100, 1000], 'class_weight': [{0: 5.5, 1: 1}]},\n",
       "          pre_dispatch='2*n_jobs', random_state=None, refit=True,\n",
       "          return_train_score='warn', scoring='roc_auc', verbose=1)"
      ]
     },
     "execution_count": 297,
     "metadata": {
      "tags": []
     },
     "output_type": "execute_result"
    }
   ],
   "source": [
    "avgw2v_lr_rndom.fit(standardized_data,y_train)"
   ]
  },
  {
   "cell_type": "code",
   "execution_count": 298,
   "metadata": {
    "colab": {
     "base_uri": "https://localhost:8080/",
     "height": 51
    },
    "colab_type": "code",
    "executionInfo": {
     "elapsed": 807517,
     "status": "ok",
     "timestamp": 1543097644963,
     "user": {
      "displayName": "Amarnath Manipatra",
      "photoUrl": "https://lh3.googleusercontent.com/-E4XehttjKtQ/AAAAAAAAAAI/AAAAAAAAIMM/qMw0AAGMQdQ/s64/photo.jpg",
      "userId": "14836087089649410046"
     },
     "user_tz": 0
    },
    "id": "3NTHG1Ppdwr6",
    "outputId": "8e083132-5fc0-45e7-a376-f0c3d8243685"
   },
   "outputs": [
    {
     "name": "stdout",
     "output_type": "stream",
     "text": [
      "{'penalty': 'l1', 'class_weight': {0: 5.5, 1: 1}, 'C': 0.01}\n",
      "0.9286323490253823\n"
     ]
    }
   ],
   "source": [
    "train_set_report(avgw2v_lr_rndom)"
   ]
  },
  {
   "cell_type": "code",
   "execution_count": 299,
   "metadata": {
    "colab": {
     "base_uri": "https://localhost:8080/",
     "height": 430
    },
    "colab_type": "code",
    "executionInfo": {
     "elapsed": 806017,
     "status": "ok",
     "timestamp": 1543097645205,
     "user": {
      "displayName": "Amarnath Manipatra",
      "photoUrl": "https://lh3.googleusercontent.com/-E4XehttjKtQ/AAAAAAAAAAI/AAAAAAAAIMM/qMw0AAGMQdQ/s64/photo.jpg",
      "userId": "14836087089649410046"
     },
     "user_tz": 0
    },
    "id": "HgyUzBDYd19X",
    "outputId": "4dfc2600-d271-44ed-8c02-5cb428ca5ace"
   },
   "outputs": [
    {
     "name": "stdout",
     "output_type": "stream",
     "text": [
      "The test set accuracy is 90.610000%\n",
      "             precision    recall  f1-score   support\n",
      "\n",
      "          0       0.59      0.77      0.67      3665\n",
      "          1       0.97      0.93      0.95     26335\n",
      "\n",
      "avg / total       0.92      0.91      0.91     30000\n",
      "\n"
     ]
    },
    {
     "data": {
      "image/png": "[encoded data removed]",
      "text/plain": [
       "<matplotlib.figure.Figure at 0x7fd528d1b828>"
      ]
     },
     "metadata": {
      "tags": []
     },
     "output_type": "display_data"
    }
   ],
   "source": [
    "test_set_report(avgw2v_lr_rndom,standardized_data_test,y_test)"
   ]
  },
  {
   "cell_type": "code",
   "execution_count": 0,
   "metadata": {
    "colab": {},
    "colab_type": "code",
    "id": "XO2zyllcx6Sr"
   },
   "outputs": [],
   "source": [
    "b = lrclassifierresults(avgw2v_lr_rndom)"
   ]
  },
  {
   "cell_type": "code",
   "execution_count": 0,
   "metadata": {
    "colab": {},
    "colab_type": "code",
    "id": "XkWdY0yKFTFI"
   },
   "outputs": [],
   "source": [
    "a = pd.read_pickle(\"/content/drive/My Drive/Dataset/AFR/avgw2v_lr_rndom.pkl\")"
   ]
  },
  {
   "cell_type": "code",
   "execution_count": 301,
   "metadata": {
    "colab": {
     "base_uri": "https://localhost:8080/",
     "height": 294
    },
    "colab_type": "code",
    "executionInfo": {
     "elapsed": 788793,
     "status": "ok",
     "timestamp": 1543097646375,
     "user": {
      "displayName": "Amarnath Manipatra",
      "photoUrl": "https://lh3.googleusercontent.com/-E4XehttjKtQ/AAAAAAAAAAI/AAAAAAAAIMM/qMw0AAGMQdQ/s64/photo.jpg",
      "userId": "14836087089649410046"
     },
     "user_tz": 0
    },
    "id": "gbIpeb3TFTMN",
    "outputId": "3784355d-581d-4cc8-b940-bafa837a3ac1"
   },
   "outputs": [
    {
     "data": {
      "image/png": "[encoded data removed]",
      "text/plain": [
       "<matplotlib.figure.Figure at 0x7fd526d80048>"
      ]
     },
     "metadata": {
      "tags": []
     },
     "output_type": "display_data"
    }
   ],
   "source": [
    "plotgraph(b)"
   ]
  },
  {
   "cell_type": "markdown",
   "metadata": {
    "colab_type": "text",
    "id": "gTcuLNLoeCSF"
   },
   "source": [
    "**Check Sparsity**"
   ]
  },
  {
   "cell_type": "code",
   "execution_count": 352,
   "metadata": {
    "colab": {
     "base_uri": "https://localhost:8080/",
     "height": 153
    },
    "colab_type": "code",
    "executionInfo": {
     "elapsed": 18226,
     "status": "ok",
     "timestamp": 1543098931045,
     "user": {
      "displayName": "Amarnath Manipatra",
      "photoUrl": "https://lh3.googleusercontent.com/-E4XehttjKtQ/AAAAAAAAAAI/AAAAAAAAIMM/qMw0AAGMQdQ/s64/photo.jpg",
      "userId": "14836087089649410046"
     },
     "user_tz": 0
    },
    "id": "vuamFDr0eE8U",
    "outputId": "7ff77839-1d00-42e6-c550-7aa672511b3a"
   },
   "outputs": [
    {
     "name": "stdout",
     "output_type": "stream",
     "text": [
      "Number of non-zero weights for 1000 = 300\n",
      "Accuracy for 1000 = 89.08\n",
      "Number of non-zero weights for 10 = 300\n",
      "Accuracy for 10 = 89.08\n",
      "Number of non-zero weights for 0.0001 = 0\n",
      "Accuracy for 0.0001 = 87.78333333333333\n",
      "Number of non-zero weights for 0.8 = 299\n",
      "Accuracy for 0.8 = 89.07666666666667\n"
     ]
    }
   ],
   "source": [
    "c = [1000,10,0.0001,0.8]\n",
    "for i in c:\n",
    "  checkSparsity(i,standardized_data,y_train,standardized_data_test,y_test)\n",
    "  "
   ]
  },
  {
   "cell_type": "markdown",
   "metadata": {
    "colab_type": "text",
    "id": "X2zkvJAh7XKs"
   },
   "source": [
    "**MultiCollinearity**"
   ]
  },
  {
   "cell_type": "code",
   "execution_count": 2,
   "metadata": {
    "colab": {
     "base_uri": "https://localhost:8080/",
     "height": 34
    },
    "colab_type": "code",
    "executionInfo": {
     "elapsed": 712569,
     "status": "ok",
     "timestamp": 1543097653426,
     "user": {
      "displayName": "Amarnath Manipatra",
      "photoUrl": "https://lh3.googleusercontent.com/-E4XehttjKtQ/AAAAAAAAAAI/AAAAAAAAIMM/qMw0AAGMQdQ/s64/photo.jpg",
      "userId": "14836087089649410046"
     },
     "user_tz": 0
    },
    "id": "yxjMlEva8Cys",
    "outputId": "0187a036-9039-4521-87a2-b7c31732728a"
   },
   "outputs": [
    {
     "name": "stdout",
     "output_type": "stream",
     "text": [
      "Size of weights to check multicollinearity is 300 . Number of weights having a change greater then 30% is 0\n"
     ]
    }
   ],
   "source": [
    "checkMultiCollinearity(standardized_data, y_train,standardized_data_test,y_test)"
   ]
  },
  {
   "cell_type": "markdown",
   "metadata": {
    "colab_type": "text",
    "id": "cqvoZPwQF_xN"
   },
   "source": [
    "# tfidfw2v"
   ]
  },
  {
   "cell_type": "code",
   "execution_count": 0,
   "metadata": {
    "colab": {},
    "colab_type": "code",
    "id": "yn0rZLIeF-mf"
   },
   "outputs": [],
   "source": [
    "tfidf_feat = tf_idf_vect.get_feature_names()\n",
    "dictionary = dict(zip(tf_idf_vect.get_feature_names(), list(tf_idf_vect.idf_)))\n"
   ]
  },
  {
   "cell_type": "code",
   "execution_count": 0,
   "metadata": {
    "colab": {},
    "colab_type": "code",
    "id": "TC-TzCVSGFBn"
   },
   "outputs": [],
   "source": [
    "# TF-IDF weighted Word2Vec\n",
    "def tfidfw2v(dictionary,list_clean_text,w2v_model,w2v_words):\n",
    "    tfidf_sent_vectors = []\n",
    "    row = 0\n",
    "    for sent in list_clean_text: # for each review/sentence \n",
    "        sent_vec = np.zeros(300) # as word vectors are of zero length\n",
    "        weight_sum =0; # num of words with a valid vector in the sentence/review\n",
    "        for word in sent: # for each word in a review/sentence\n",
    "            if word in w2v_words:\n",
    "                vec = w2v_model.wv[word]\n",
    "                # obtain the tf_idfidf of a word in a sentence/review\n",
    "                #tf_idf = final_tf_idf[row, tfidf_feat.index(word)]\n",
    "                tf_idf = dictionary[word]*(sent.count(word)/len(sent)) \n",
    "                sent_vec += (vec * tf_idf)\n",
    "                weight_sum += tf_idf\n",
    "                \n",
    "        if weight_sum != 0:\n",
    "            sent_vec /= weight_sum\n",
    "        tfidf_sent_vectors.append(sent_vec)\n",
    "        row += 1\n",
    "    return tfidf_sent_vectors"
   ]
  },
  {
   "cell_type": "code",
   "execution_count": 321,
   "metadata": {
    "colab": {
     "base_uri": "https://localhost:8080/",
     "height": 68
    },
    "colab_type": "code",
    "executionInfo": {
     "elapsed": 75740,
     "status": "ok",
     "timestamp": 1543098409002,
     "user": {
      "displayName": "Amarnath Manipatra",
      "photoUrl": "https://lh3.googleusercontent.com/-E4XehttjKtQ/AAAAAAAAAAI/AAAAAAAAIMM/qMw0AAGMQdQ/s64/photo.jpg",
      "userId": "14836087089649410046"
     },
     "user_tz": 0
    },
    "id": "YALhAbF6GGzs",
    "outputId": "076cd984-5e85-4899-8663-d8f249ff327e"
   },
   "outputs": [
    {
     "name": "stdout",
     "output_type": "stream",
     "text": [
      "70000\n",
      "300\n",
      "--- 75.15233111381531 seconds ---\n"
     ]
    }
   ],
   "source": [
    "import time\n",
    "start_time = time.time()\n",
    "sent_vectors_train = tfidfw2v(dictionary,list_clean_text,w2v_model,w2v_words)\n",
    "print(len(sent_vectors_train))\n",
    "print(len(sent_vectors_train[0]))\n",
    "print(\"--- %s seconds ---\" % (time.time() - start_time))\n"
   ]
  },
  {
   "cell_type": "code",
   "execution_count": 326,
   "metadata": {
    "colab": {
     "base_uri": "https://localhost:8080/",
     "height": 51
    },
    "colab_type": "code",
    "executionInfo": {
     "elapsed": 36161,
     "status": "ok",
     "timestamp": 1543098533698,
     "user": {
      "displayName": "Amarnath Manipatra",
      "photoUrl": "https://lh3.googleusercontent.com/-E4XehttjKtQ/AAAAAAAAAAI/AAAAAAAAIMM/qMw0AAGMQdQ/s64/photo.jpg",
      "userId": "14836087089649410046"
     },
     "user_tz": 0
    },
    "id": "DFfaM96pQgaL",
    "outputId": "3c0cfd90-3dd4-4c45-868e-bb45db681025"
   },
   "outputs": [
    {
     "name": "stdout",
     "output_type": "stream",
     "text": [
      "30000\n",
      "300\n"
     ]
    }
   ],
   "source": [
    "sent_vectors_test = tfidfw2v(dictionary,list_clean_text_test,w2v_model,w2v_words)\n",
    "print(len(sent_vectors_test))\n",
    "print(len(sent_vectors_test[0]))"
   ]
  },
  {
   "cell_type": "code",
   "execution_count": 0,
   "metadata": {
    "colab": {},
    "colab_type": "code",
    "id": "OlP-TnC5y6M3"
   },
   "outputs": [],
   "source": [
    "sent_vectors_final_train = np.asarray(sent_vectors_train)\n",
    "sent_vectors_final_test  = np.asarray(sent_vectors_test)\n"
   ]
  },
  {
   "cell_type": "code",
   "execution_count": 331,
   "metadata": {
    "colab": {
     "base_uri": "https://localhost:8080/",
     "height": 34
    },
    "colab_type": "code",
    "executionInfo": {
     "elapsed": 378,
     "status": "ok",
     "timestamp": 1543098547908,
     "user": {
      "displayName": "Amarnath Manipatra",
      "photoUrl": "https://lh3.googleusercontent.com/-E4XehttjKtQ/AAAAAAAAAAI/AAAAAAAAIMM/qMw0AAGMQdQ/s64/photo.jpg",
      "userId": "14836087089649410046"
     },
     "user_tz": 0
    },
    "id": "951XURlezBXd",
    "outputId": "2e0d2e1b-e324-4e52-d24f-05e7561a7085"
   },
   "outputs": [
    {
     "data": {
      "text/plain": [
       "(30000, 300)"
      ]
     },
     "execution_count": 331,
     "metadata": {
      "tags": []
     },
     "output_type": "execute_result"
    }
   ],
   "source": [
    "sent_vectors_final_test.shape"
   ]
  },
  {
   "cell_type": "code",
   "execution_count": 0,
   "metadata": {
    "colab": {},
    "colab_type": "code",
    "id": "obgZFXSozPuK"
   },
   "outputs": [],
   "source": [
    "standardized_data, standardized_data_test = standardisation(False,sent_vectors_final_train,sent_vectors_final_test)"
   ]
  },
  {
   "cell_type": "code",
   "execution_count": 0,
   "metadata": {
    "colab": {},
    "colab_type": "code",
    "id": "8oMRaudzzv0Y"
   },
   "outputs": [],
   "source": [
    "tfidfw2v_lr = lr_classifier()"
   ]
  },
  {
   "cell_type": "code",
   "execution_count": 334,
   "metadata": {
    "colab": {
     "base_uri": "https://localhost:8080/",
     "height": 221
    },
    "colab_type": "code",
    "executionInfo": {
     "elapsed": 79769,
     "status": "ok",
     "timestamp": 1543098631995,
     "user": {
      "displayName": "Amarnath Manipatra",
      "photoUrl": "https://lh3.googleusercontent.com/-E4XehttjKtQ/AAAAAAAAAAI/AAAAAAAAIMM/qMw0AAGMQdQ/s64/photo.jpg",
      "userId": "14836087089649410046"
     },
     "user_tz": 0
    },
    "id": "ZFryew9bz-LB",
    "outputId": "e0afaa54-7205-4d1f-b8cd-31b882618740"
   },
   "outputs": [
    {
     "name": "stdout",
     "output_type": "stream",
     "text": [
      "Fitting 2 folds for each of 14 candidates, totalling 28 fits\n"
     ]
    },
    {
     "name": "stderr",
     "output_type": "stream",
     "text": [
      "[Parallel(n_jobs=2)]: Done  28 out of  28 | elapsed:  1.2min finished\n"
     ]
    },
    {
     "data": {
      "text/plain": [
       "GridSearchCV(cv=TimeSeriesSplit(max_train_size=None, n_splits=2),\n",
       "       error_score='raise',\n",
       "       estimator=LogisticRegression(C=1.0, class_weight=None, dual=False, fit_intercept=True,\n",
       "          intercept_scaling=1, max_iter=100, multi_class='ovr', n_jobs=1,\n",
       "          penalty='l2', random_state=None, solver='liblinear', tol=0.0001,\n",
       "          verbose=0, warm_start=False),\n",
       "       fit_params=None, iid=True, n_jobs=2,\n",
       "       param_grid={'penalty': ['l1', 'l2'], 'C': [0.001, 0.01, 0.1, 1, 10, 100, 1000], 'class_weight': [{0: 5.5, 1: 1}]},\n",
       "       pre_dispatch='2*n_jobs', refit=True, return_train_score='warn',\n",
       "       scoring='roc_auc', verbose=1)"
      ]
     },
     "execution_count": 334,
     "metadata": {
      "tags": []
     },
     "output_type": "execute_result"
    }
   ],
   "source": [
    "tfidfw2v_lr.fit(standardized_data,y_train)"
   ]
  },
  {
   "cell_type": "code",
   "execution_count": 335,
   "metadata": {
    "colab": {
     "base_uri": "https://localhost:8080/",
     "height": 51
    },
    "colab_type": "code",
    "executionInfo": {
     "elapsed": 74804,
     "status": "ok",
     "timestamp": 1543098631997,
     "user": {
      "displayName": "Amarnath Manipatra",
      "photoUrl": "https://lh3.googleusercontent.com/-E4XehttjKtQ/AAAAAAAAAAI/AAAAAAAAIMM/qMw0AAGMQdQ/s64/photo.jpg",
      "userId": "14836087089649410046"
     },
     "user_tz": 0
    },
    "id": "cY47wvBB0DUp",
    "outputId": "6aaa66e1-66d9-407e-aae0-071501c85a6b"
   },
   "outputs": [
    {
     "name": "stdout",
     "output_type": "stream",
     "text": [
      "{'C': 0.001, 'class_weight': {0: 5.5, 1: 1}, 'penalty': 'l2'}\n",
      "0.7803013051712366\n"
     ]
    }
   ],
   "source": [
    "train_set_report(tfidfw2v_lr)"
   ]
  },
  {
   "cell_type": "code",
   "execution_count": 336,
   "metadata": {
    "colab": {
     "base_uri": "https://localhost:8080/",
     "height": 430
    },
    "colab_type": "code",
    "executionInfo": {
     "elapsed": 74131,
     "status": "ok",
     "timestamp": 1543098632316,
     "user": {
      "displayName": "Amarnath Manipatra",
      "photoUrl": "https://lh3.googleusercontent.com/-E4XehttjKtQ/AAAAAAAAAAI/AAAAAAAAIMM/qMw0AAGMQdQ/s64/photo.jpg",
      "userId": "14836087089649410046"
     },
     "user_tz": 0
    },
    "id": "ZkoFwsDy0LWb",
    "outputId": "8bb904d5-cdac-4563-c94c-c8cc16fc0ea9"
   },
   "outputs": [
    {
     "name": "stdout",
     "output_type": "stream",
     "text": [
      "The test set accuracy is 77.506667%\n",
      "             precision    recall  f1-score   support\n",
      "\n",
      "          0       0.30      0.61      0.40      3665\n",
      "          1       0.94      0.80      0.86     26335\n",
      "\n",
      "avg / total       0.86      0.78      0.80     30000\n",
      "\n"
     ]
    },
    {
     "data": {
      "image/png": "[encoded data removed]",
      "text/plain": [
       "<matplotlib.figure.Figure at 0x7fd511cccba8>"
      ]
     },
     "metadata": {
      "tags": []
     },
     "output_type": "display_data"
    }
   ],
   "source": [
    "test_set_report(tfidfw2v_lr,standardized_data_test,y_test)"
   ]
  },
  {
   "cell_type": "code",
   "execution_count": 0,
   "metadata": {
    "colab": {},
    "colab_type": "code",
    "id": "A1ijQe8n1Sef"
   },
   "outputs": [],
   "source": [
    "b = lrclassifierresults(tfidfw2v_lr)"
   ]
  },
  {
   "cell_type": "code",
   "execution_count": 0,
   "metadata": {
    "colab": {},
    "colab_type": "code",
    "id": "3j6GhqqIFatA"
   },
   "outputs": [],
   "source": [
    "a = pd.read_pickle(\"/content/drive/My Drive/Dataset/AFR/tfidfw2v_lr_300.pkl\")"
   ]
  },
  {
   "cell_type": "code",
   "execution_count": 338,
   "metadata": {
    "colab": {
     "base_uri": "https://localhost:8080/",
     "height": 294
    },
    "colab_type": "code",
    "executionInfo": {
     "elapsed": 62823,
     "status": "ok",
     "timestamp": 1543098633556,
     "user": {
      "displayName": "Amarnath Manipatra",
      "photoUrl": "https://lh3.googleusercontent.com/-E4XehttjKtQ/AAAAAAAAAAI/AAAAAAAAIMM/qMw0AAGMQdQ/s64/photo.jpg",
      "userId": "14836087089649410046"
     },
     "user_tz": 0
    },
    "id": "cUiu1TKlFdcb",
    "outputId": "653c4af6-2cbe-4a8d-ce6d-4dc263065af3"
   },
   "outputs": [
    {
     "data": {
      "image/png": "[encoded data removed]",
      "text/plain": [
       "<matplotlib.figure.Figure at 0x7fd528cf8ef0>"
      ]
     },
     "metadata": {
      "tags": []
     },
     "output_type": "display_data"
    }
   ],
   "source": [
    "plotgraph(b)"
   ]
  },
  {
   "cell_type": "markdown",
   "metadata": {
    "colab_type": "text",
    "id": "O5Cdjthp0ekS"
   },
   "source": [
    "**RandomCV**"
   ]
  },
  {
   "cell_type": "code",
   "execution_count": 0,
   "metadata": {
    "colab": {},
    "colab_type": "code",
    "id": "GuHJkDof0S2W"
   },
   "outputs": [],
   "source": [
    "tfidfw2v_lr_random = lr_classifier_random()"
   ]
  },
  {
   "cell_type": "code",
   "execution_count": 340,
   "metadata": {
    "colab": {
     "base_uri": "https://localhost:8080/",
     "height": 221
    },
    "colab_type": "code",
    "executionInfo": {
     "elapsed": 106987,
     "status": "ok",
     "timestamp": 1543098689863,
     "user": {
      "displayName": "Amarnath Manipatra",
      "photoUrl": "https://lh3.googleusercontent.com/-E4XehttjKtQ/AAAAAAAAAAI/AAAAAAAAIMM/qMw0AAGMQdQ/s64/photo.jpg",
      "userId": "14836087089649410046"
     },
     "user_tz": 0
    },
    "id": "GXmQj9-J0p6H",
    "outputId": "631102d2-2fae-4ffb-b5d7-b5d083fab4e7"
   },
   "outputs": [
    {
     "name": "stdout",
     "output_type": "stream",
     "text": [
      "Fitting 2 folds for each of 10 candidates, totalling 20 fits\n"
     ]
    },
    {
     "name": "stderr",
     "output_type": "stream",
     "text": [
      "[Parallel(n_jobs=2)]: Done  20 out of  20 | elapsed:   48.1s finished\n"
     ]
    },
    {
     "data": {
      "text/plain": [
       "RandomizedSearchCV(cv=TimeSeriesSplit(max_train_size=None, n_splits=2),\n",
       "          error_score='raise',\n",
       "          estimator=LogisticRegression(C=1.0, class_weight=None, dual=False, fit_intercept=True,\n",
       "          intercept_scaling=1, max_iter=100, multi_class='ovr', n_jobs=1,\n",
       "          penalty='l2', random_state=None, solver='liblinear', tol=0.0001,\n",
       "          verbose=0, warm_start=False),\n",
       "          fit_params=None, iid=True, n_iter=10, n_jobs=2,\n",
       "          param_distributions={'penalty': ['l1', 'l2'], 'C': [0.001, 0.01, 0.1, 1, 10, 100, 1000], 'class_weight': [{0: 5.5, 1: 1}]},\n",
       "          pre_dispatch='2*n_jobs', random_state=None, refit=True,\n",
       "          return_train_score='warn', scoring='roc_auc', verbose=1)"
      ]
     },
     "execution_count": 340,
     "metadata": {
      "tags": []
     },
     "output_type": "execute_result"
    }
   ],
   "source": [
    "tfidfw2v_lr_random.fit(standardized_data,y_train)"
   ]
  },
  {
   "cell_type": "code",
   "execution_count": 341,
   "metadata": {
    "colab": {
     "base_uri": "https://localhost:8080/",
     "height": 51
    },
    "colab_type": "code",
    "executionInfo": {
     "elapsed": 102314,
     "status": "ok",
     "timestamp": 1543098689866,
     "user": {
      "displayName": "Amarnath Manipatra",
      "photoUrl": "https://lh3.googleusercontent.com/-E4XehttjKtQ/AAAAAAAAAAI/AAAAAAAAIMM/qMw0AAGMQdQ/s64/photo.jpg",
      "userId": "14836087089649410046"
     },
     "user_tz": 0
    },
    "id": "zn9ZXiDj0tcx",
    "outputId": "a78e8f34-b277-4953-8d69-d3eef4760e5c"
   },
   "outputs": [
    {
     "name": "stdout",
     "output_type": "stream",
     "text": [
      "{'penalty': 'l2', 'class_weight': {0: 5.5, 1: 1}, 'C': 0.001}\n",
      "0.7803013051712366\n"
     ]
    }
   ],
   "source": [
    "train_set_report(tfidfw2v_lr_random)"
   ]
  },
  {
   "cell_type": "code",
   "execution_count": 342,
   "metadata": {
    "colab": {
     "base_uri": "https://localhost:8080/",
     "height": 430
    },
    "colab_type": "code",
    "executionInfo": {
     "elapsed": 99762,
     "status": "ok",
     "timestamp": 1543098690108,
     "user": {
      "displayName": "Amarnath Manipatra",
      "photoUrl": "https://lh3.googleusercontent.com/-E4XehttjKtQ/AAAAAAAAAAI/AAAAAAAAIMM/qMw0AAGMQdQ/s64/photo.jpg",
      "userId": "14836087089649410046"
     },
     "user_tz": 0
    },
    "id": "BRPQD3wW0xeA",
    "outputId": "cf7b0382-85cd-4d88-f94b-ae9e43af8704"
   },
   "outputs": [
    {
     "name": "stdout",
     "output_type": "stream",
     "text": [
      "The test set accuracy is 77.506667%\n",
      "             precision    recall  f1-score   support\n",
      "\n",
      "          0       0.30      0.61      0.40      3665\n",
      "          1       0.94      0.80      0.86     26335\n",
      "\n",
      "avg / total       0.86      0.78      0.80     30000\n",
      "\n"
     ]
    },
    {
     "data": {
      "image/png": "[encoded data removed]",
      "text/plain": [
       "<matplotlib.figure.Figure at 0x7fd5277feb38>"
      ]
     },
     "metadata": {
      "tags": []
     },
     "output_type": "display_data"
    }
   ],
   "source": [
    "test_set_report(tfidfw2v_lr_random,standardized_data_test,y_test)"
   ]
  },
  {
   "cell_type": "code",
   "execution_count": 0,
   "metadata": {
    "colab": {},
    "colab_type": "code",
    "id": "0xbsZrVH1a5u"
   },
   "outputs": [],
   "source": [
    "b = lrclassifierresults(tfidfw2v_lr_random)"
   ]
  },
  {
   "cell_type": "code",
   "execution_count": 344,
   "metadata": {
    "colab": {
     "base_uri": "https://localhost:8080/",
     "height": 294
    },
    "colab_type": "code",
    "executionInfo": {
     "elapsed": 84076,
     "status": "ok",
     "timestamp": 1543098691550,
     "user": {
      "displayName": "Amarnath Manipatra",
      "photoUrl": "https://lh3.googleusercontent.com/-E4XehttjKtQ/AAAAAAAAAAI/AAAAAAAAIMM/qMw0AAGMQdQ/s64/photo.jpg",
      "userId": "14836087089649410046"
     },
     "user_tz": 0
    },
    "id": "FIjz_dAKFodC",
    "outputId": "f04418cb-9df4-4bc0-8dd4-9ad0e34e0e87"
   },
   "outputs": [
    {
     "data": {
      "image/png": "[encoded data removed]",
      "text/plain": [
       "<matplotlib.figure.Figure at 0x7fd528c535f8>"
      ]
     },
     "metadata": {
      "tags": []
     },
     "output_type": "display_data"
    }
   ],
   "source": [
    "plotgraph(b)"
   ]
  },
  {
   "cell_type": "markdown",
   "metadata": {
    "colab_type": "text",
    "id": "WQOMWjx70-eY"
   },
   "source": [
    "**Check Sparsity**"
   ]
  },
  {
   "cell_type": "code",
   "execution_count": 346,
   "metadata": {
    "colab": {
     "base_uri": "https://localhost:8080/",
     "height": 153
    },
    "colab_type": "code",
    "executionInfo": {
     "elapsed": 45145,
     "status": "ok",
     "timestamp": 1543098731216,
     "user": {
      "displayName": "Amarnath Manipatra",
      "photoUrl": "https://lh3.googleusercontent.com/-E4XehttjKtQ/AAAAAAAAAAI/AAAAAAAAIMM/qMw0AAGMQdQ/s64/photo.jpg",
      "userId": "14836087089649410046"
     },
     "user_tz": 0
    },
    "id": "w78vUvlg09U7",
    "outputId": "fb91fa1a-058f-48f7-c016-0f48327254ad"
   },
   "outputs": [
    {
     "name": "stdout",
     "output_type": "stream",
     "text": [
      "Number of non-zero weights for 1000 = 300\n",
      "Accuracy for 1000 = 88.08666666666667\n",
      "Number of non-zero weights for 10 = 300\n",
      "Accuracy for 10 = 88.09\n",
      "Number of non-zero weights for 0.0001 = 0\n",
      "Accuracy for 0.0001 = 87.78333333333333\n",
      "Number of non-zero weights for 0.8 = 300\n",
      "Accuracy for 0.8 = 88.09666666666666\n"
     ]
    }
   ],
   "source": [
    "c = [1000,10,0.0001,0.8]\n",
    "for i in c:\n",
    "  checkSparsity(i,standardized_data,y_train,standardized_data_test,y_test)"
   ]
  },
  {
   "cell_type": "markdown",
   "metadata": {
    "colab_type": "text",
    "id": "Sc3rh60FDXeL"
   },
   "source": [
    "**Check Multicollinearity**"
   ]
  },
  {
   "cell_type": "code",
   "execution_count": 345,
   "metadata": {
    "colab": {
     "base_uri": "https://localhost:8080/",
     "height": 34
    },
    "colab_type": "code",
    "executionInfo": {
     "elapsed": 95937,
     "status": "ok",
     "timestamp": 1543098708128,
     "user": {
      "displayName": "Amarnath Manipatra",
      "photoUrl": "https://lh3.googleusercontent.com/-E4XehttjKtQ/AAAAAAAAAAI/AAAAAAAAIMM/qMw0AAGMQdQ/s64/photo.jpg",
      "userId": "14836087089649410046"
     },
     "user_tz": 0
    },
    "id": "Mg7na-JG01fI",
    "outputId": "93297b86-2044-4f0d-b2a2-3a481afed005"
   },
   "outputs": [
    {
     "name": "stdout",
     "output_type": "stream",
     "text": [
      "Size of weights to check multicollinearity is 300 . Number of weights having a change greater then 30% is 0\n"
     ]
    }
   ],
   "source": [
    "checkMultiCollinearity(standardized_data, y_train,standardized_data_test,y_test)"
   ]
  },
  {
   "cell_type": "code",
   "execution_count": 1,
   "metadata": {
    "colab": {},
    "colab_type": "code",
    "id": "rH4f8tsMDfVZ"
   },
   "outputs": [
    {
     "data": {
      "image/png": "[encoded data removed]",
      "text/plain": [
       "<IPython.core.display.Image object>"
      ]
     },
     "execution_count": 1,
     "metadata": {},
     "output_type": "execute_result"
    }
   ],
   "source": [
    "from IPython.display import Image\n",
    "Image(filename='/Users/amarnathmanipatra/Desktop/123.png')"
   ]
  },
  {
   "cell_type": "markdown",
   "metadata": {},
   "source": [
    "# Conclusion"
   ]
  },
  {
   "cell_type": "markdown",
   "metadata": {},
   "source": [
    "1) BOW produced the best accuracy of 90.69% \n",
    "2) Sparsity increases as we increase the value of c for l1 penalty \n",
    "3) BOW and tf-idf had multicolinear features where as avgw2v and tf-idf features were not collinear."
   ]
  }
 ],
 "metadata": {
  "colab": {
   "collapsed_sections": [
    "XtyJn2SzZIPw",
    "i_A6VI6gDCRz"
   ],
   "name": "AFR_Logistic_regression.ipynb",
   "provenance": [],
   "version": "0.3.2"
  },
  "kernelspec": {
   "display_name": "Python 3",
   "language": "python",
   "name": "python3"
  },
  "language_info": {
   "codemirror_mode": {
    "name": "ipython",
    "version": 3
   },
   "file_extension": ".py",
   "mimetype": "text/x-python",
   "name": "python",
   "nbconvert_exporter": "python",
   "pygments_lexer": "ipython3",
   "version": "3.6.5"
  }
 },
 "nbformat": 4,
 "nbformat_minor": 1
}
