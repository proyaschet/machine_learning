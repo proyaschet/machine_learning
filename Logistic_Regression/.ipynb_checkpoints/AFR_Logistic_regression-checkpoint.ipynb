{
 "cells": [
  {
   "cell_type": "code",
   "execution_count": 0,
   "metadata": {
    "colab": {},
    "colab_type": "code",
    "id": "2qp0SQfwWD9n"
   },
   "outputs": [],
   "source": [
    "%matplotlib inline\n",
    "import warnings\n",
    "import pickle\n",
    "warnings.filterwarnings(\"ignore\")\n",
    "import sqlite3\n",
    "import pandas as pd\n",
    "import numpy as np\n",
    "import nltk\n",
    "import string\n",
    "import matplotlib.pyplot as plt\n",
    "from sklearn.model_selection import TimeSeriesSplit\n",
    "from gensim.models import Word2Vec\n",
    "from gensim.models import KeyedVectors\n",
    "from gensim.test.utils import common_texts, get_tmpfile\n",
    "from collections import Counter\n",
    "from sklearn.feature_extraction.text import CountVectorizer\n",
    "from sklearn.linear_model import LogisticRegression\n",
    "from sklearn.metrics import accuracy_score\n",
    "from sklearn.cross_validation import cross_val_score\n",
    "import seaborn as sn\n",
    "from sklearn.metrics import make_scorer\n",
    "from sklearn.metrics import accuracy_score\n",
    "from sklearn import cross_validation\n",
    "from sklearn.metrics import classification_report,confusion_matrix\n",
    "import scikitplot.metrics as skplt\n",
    "from sklearn.model_selection import GridSearchCV\n",
    "from sklearn.model_selection import RandomizedSearchCV\n",
    "from sklearn.model_selection import train_test_split\n",
    "from sklearn.preprocessing import StandardScaler\n",
    "from sklearn.feature_extraction.text import TfidfTransformer\n",
    "from sklearn.feature_extraction.text import TfidfVectorizer\n",
    "import scipy.sparse\n",
    "from scipy.sparse import find\n"
   ]
  },
  {
   "cell_type": "markdown",
   "metadata": {
    "colab_type": "text",
    "id": "FNhQh7o7WVke"
   },
   "source": [
    "# Utility Function"
   ]
  },
  {
   "cell_type": "code",
   "execution_count": 0,
   "metadata": {
    "colab": {},
    "colab_type": "code",
    "id": "NXAX7fr5WMZT"
   },
   "outputs": [],
   "source": [
    "#Utility Function\n",
    "def standardisation(mean,final_counts,final_counts_test):\n",
    "  s = StandardScaler(with_mean = mean)\n",
    "  standardized_data = s.fit_transform(final_counts)\n",
    "  standardized_data_test = s.transform(final_counts_test)\n",
    "  return (standardized_data,standardized_data_test)\n",
    "  \n",
    "def lr_classifier_random():\n",
    "  c = [1000,0.0001,100,200,500,1,0.8,10]\n",
    "  #c = [1000]\n",
    "  p = ['l1','l2']\n",
    "  #p = ['l1']\n",
    "  tss = TimeSeriesSplit(n_splits=3)\n",
    "  lr = LogisticRegression()\n",
    "  parameter = {'penalty': p, 'C' : c}\n",
    "  clf = RandomizedSearchCV(estimator = lr,param_distributions = parameter,verbose = 1,cv=tss, n_jobs = 2)\n",
    "  return clf\n",
    "\n",
    "def lr_classifier():\n",
    "  c = [1000,0.0001,100,200,500,1,10]\n",
    "  p = ['l1','l2']\n",
    "  tss = TimeSeriesSplit(n_splits=3)\n",
    "  lr = LogisticRegression()\n",
    "  parameter = {'penalty': p, 'C' : c}\n",
    "  clf = GridSearchCV(estimator = lr,param_grid = parameter,verbose = 1,cv=tss, n_jobs = 2)\n",
    "  return clf\n",
    "  \n",
    "   \n",
    "\n",
    "def train_set_report(clf):\n",
    "  best_parameters = clf.best_params_\n",
    "  best_accuracy = clf.best_score_\n",
    "  print(best_parameters)\n",
    "  print(best_accuracy)\n",
    "  \n",
    "def test_set_report(clf,x_test,y_test):\n",
    "  pred = clf.predict(standardized_data_test)\n",
    "  acc = accuracy_score(y_test, pred) * 100\n",
    "  print('The test set accuracy is %f%%' %(acc))\n",
    "  skplt.plot_confusion_matrix(y_test ,pred)\n",
    "  print(classification_report(y_test ,pred))\n",
    "\n",
    "def lrclassifierresults(clf):\n",
    "  out = pd.DataFrame.from_dict(clf.cv_results_)\n",
    "  return out\n",
    "\n",
    "def checkSparsity(c,x,y,xt,yt):\n",
    "  clf = LogisticRegression(C = c, penalty= 'l1')\n",
    "  clf.fit(x,y)\n",
    "  pred = clf.predict(xt)\n",
    "  ac = accuracy_score(yt, pred)*100\n",
    "  cou = np.count_nonzero(clf.coef_)\n",
    "  print(\"Number of non-zero weights for \"+ str(c)+\" = \"+ str(cou))\n",
    "  print(\"Accuracy for \"+ str(c)+\" = \"+ str(ac))\n",
    "\n",
    "def plotgraph(a):\n",
    "    a= a.sort_values(by = ['param_C'])\n",
    "    b = a[a[\"param_penalty\"] == 'l1']\n",
    "    c = a[a[\"param_penalty\"] == 'l2']\n",
    "    kl1 = b.param_C.tolist()\n",
    "    scorel1 = b.mean_test_score.tolist()\n",
    "    kl2 = c.param_C.tolist()\n",
    "    scorel2 = c.mean_test_score.tolist()\n",
    "    plt.plot(kl1,scorel1,color='blue',label = \"L1\")\n",
    "    plt.plot(kl2,scorel2,color='green',label = \"L2\")\n",
    "    plt.legend()\n",
    "    #plt.plot( 'x', 'y2', data=df, marker='', color='olive', linewidth=2)\n",
    "    plt.title(\"lambda vs accuracy score for L1 and L2 regularisation\")\n",
    "    plt.xlabel('Lambda')\n",
    "    plt.ylabel('Accuracy score')\n",
    "    plt.show()\n",
    "\n",
    "def checkMultiCollinearity(x_train, y_train,xt,yt):\n",
    "  clf = LogisticRegression(C = 0.001, penalty= 'l2')\n",
    "  clf.fit(x_train,y_train)\n",
    "  pred = clf.predict(xt)\n",
    "  weights = find(clf.coef_[0])[2]\n",
    "  xtrainw = x_train\n",
    "  noise = np.random.uniform(low=-0.01, high=0.01, size=(find(xtrainw)[0].size,))\n",
    "  q,w,e = find(xtrainw)\n",
    "  xtrainw[q,w] = noise + xtrainw[q,w]\n",
    "  clfw = LogisticRegression(C = 0.001, penalty= 'l2')\n",
    "  clfw.fit(xtrainw,y_train)\n",
    "  weightsw = find(clfw.coef_[0])[2]\n",
    "  weight_diff = (abs(weights - weightsw)/weights) * 100\n",
    "  number = weight_diff[np.where(weight_diff > 30.0)].size\n",
    "  print(\"Size of weights to check multicollinearity is \" + str(weight_diff.size) + \" . Number of weights having a change greater then 30% is \" + str(number))\n",
    "\n",
    "def topfeatures(vectorizer, clf, n=20):#https://stackoverflow.com/questions/11116697/how-to-get-most-informative-features-for-scikit-learn-classifiers\n",
    "    feature_names = vectorizer.get_feature_names()\n",
    "    coefs_with_fns = sorted(zip(clf.coef_[0], feature_names))\n",
    "    top = zip(coefs_with_fns[:n], coefs_with_fns[:-(n + 1):-1])\n",
    "    for (coef_1, fn_1), (coef_2, fn_2) in top:\n",
    "        print(\"\\t%.4f\\t%-15s\\t\\t\\t\\t%.4f\\t%-15s\" % (coef_1, fn_1, coef_2, fn_2))\n",
    "  \n",
    "\n"
   ]
  },
  {
   "cell_type": "markdown",
   "metadata": {
    "colab_type": "text",
    "id": "4KKDCF6hRDG4"
   },
   "source": [
    "# Data Sampling"
   ]
  },
  {
   "cell_type": "code",
   "execution_count": 3,
   "metadata": {
    "colab": {
     "base_uri": "https://localhost:8080/",
     "height": 34
    },
    "colab_type": "code",
    "executionInfo": {
     "elapsed": 492,
     "status": "ok",
     "timestamp": 1541722938783,
     "user": {
      "displayName": "Amarnath Manipatra",
      "photoUrl": "https://lh3.googleusercontent.com/-E4XehttjKtQ/AAAAAAAAAAI/AAAAAAAAIMM/qMw0AAGMQdQ/s64/photo.jpg",
      "userId": "14836087089649410046"
     },
     "user_tz": 0
    },
    "id": "EShxEZn4X0u4",
    "outputId": "2618295e-15ac-45c3-dad6-0ec6b00cf2c3"
   },
   "outputs": [
    {
     "name": "stdout",
     "output_type": "stream",
     "text": [
      "Drive already mounted at /content/drive; to attempt to forcibly remount, call drive.mount(\"/content/drive\", force_remount=True).\n"
     ]
    }
   ],
   "source": [
    "from google.colab import drive\n",
    "drive.mount('/content/drive')"
   ]
  },
  {
   "cell_type": "code",
   "execution_count": 0,
   "metadata": {
    "colab": {},
    "colab_type": "code",
    "id": "AbeiT5aSX2xP"
   },
   "outputs": [],
   "source": [
    "con = sqlite3.connect('/content/drive/My Drive/Dataset/AFR/final.sqlite')"
   ]
  },
  {
   "cell_type": "code",
   "execution_count": 0,
   "metadata": {
    "colab": {},
    "colab_type": "code",
    "id": "A0bClEFmX9Iq"
   },
   "outputs": [],
   "source": [
    "final = pd.read_sql_query(\"\"\" SELECT * FROM Reviews\"\"\", con)"
   ]
  },
  {
   "cell_type": "code",
   "execution_count": 0,
   "metadata": {
    "colab": {},
    "colab_type": "code",
    "id": "pHcfIXuZYAOb"
   },
   "outputs": [],
   "source": [
    "import datetime\n",
    "\n",
    "final[\"Time\"] = final[\"Time\"].map(lambda t: datetime.datetime.fromtimestamp(int(t)).strftime('%Y-%m-%d %H:%M:%S'))\n",
    "final = final.sort_values('Time',axis=0,kind=\"quicksort\", ascending=True).reset_index(drop=True)\n"
   ]
  },
  {
   "cell_type": "code",
   "execution_count": null,
   "metadata": {
    "colab": {
     "base_uri": "https://localhost:8080/",
     "height": 164
    },
    "colab_type": "code",
    "executionInfo": {
     "elapsed": 489,
     "status": "error",
     "timestamp": 1540772328014,
     "user": {
      "displayName": "Amarnath Manipatra",
      "photoUrl": "https://lh3.googleusercontent.com/-E4XehttjKtQ/AAAAAAAAAAI/AAAAAAAAIMM/qMw0AAGMQdQ/s64/photo.jpg",
      "userId": "14836087089649410046"
     },
     "user_tz": 0
    },
    "id": "G3JFmJMO5LXe",
    "outputId": "4b2be1ed-597b-4eb0-a0c0-dc0f25960275"
   },
   "outputs": [],
   "source": [
    "final = final.iloc[0:100000]\n"
   ]
  },
  {
   "cell_type": "code",
   "execution_count": 0,
   "metadata": {
    "colab": {},
    "colab_type": "code",
    "id": "jbtbuUAEkBoh"
   },
   "outputs": [],
   "source": [
    "final.to_pickle('final.pkl')\n",
    "uploadf('final.pkl')"
   ]
  },
  {
   "cell_type": "code",
   "execution_count": 0,
   "metadata": {
    "colab": {},
    "colab_type": "code",
    "id": "09-ArlScJcGy"
   },
   "outputs": [],
   "source": [
    "final = pd.read_pickle('/content/drive/My Drive/Dataset/AFR/final.pkl')"
   ]
  },
  {
   "cell_type": "code",
   "execution_count": 5,
   "metadata": {
    "colab": {
     "base_uri": "https://localhost:8080/",
     "height": 476
    },
    "colab_type": "code",
    "executionInfo": {
     "elapsed": 921,
     "status": "ok",
     "timestamp": 1541722954257,
     "user": {
      "displayName": "Amarnath Manipatra",
      "photoUrl": "https://lh3.googleusercontent.com/-E4XehttjKtQ/AAAAAAAAAAI/AAAAAAAAIMM/qMw0AAGMQdQ/s64/photo.jpg",
      "userId": "14836087089649410046"
     },
     "user_tz": 0
    },
    "id": "ZQCSgxZyJ3E6",
    "outputId": "2de0cea5-ddad-496d-83ff-5b6de87b1a9e"
   },
   "outputs": [
    {
     "data": {
      "text/html": [
       "<div>\n",
       "<style scoped>\n",
       "    .dataframe tbody tr th:only-of-type {\n",
       "        vertical-align: middle;\n",
       "    }\n",
       "\n",
       "    .dataframe tbody tr th {\n",
       "        vertical-align: top;\n",
       "    }\n",
       "\n",
       "    .dataframe thead th {\n",
       "        text-align: right;\n",
       "    }\n",
       "</style>\n",
       "<table border=\"1\" class=\"dataframe\">\n",
       "  <thead>\n",
       "    <tr style=\"text-align: right;\">\n",
       "      <th></th>\n",
       "      <th>index</th>\n",
       "      <th>Id</th>\n",
       "      <th>ProductId</th>\n",
       "      <th>UserId</th>\n",
       "      <th>ProfileName</th>\n",
       "      <th>HelpfulnessNumerator</th>\n",
       "      <th>HelpfulnessDenominator</th>\n",
       "      <th>Score</th>\n",
       "      <th>Time</th>\n",
       "      <th>Summary</th>\n",
       "      <th>Text</th>\n",
       "      <th>CleanedText</th>\n",
       "    </tr>\n",
       "  </thead>\n",
       "  <tbody>\n",
       "    <tr>\n",
       "      <th>0</th>\n",
       "      <td>138706</td>\n",
       "      <td>150524</td>\n",
       "      <td>0006641040</td>\n",
       "      <td>ACITT7DI6IDDL</td>\n",
       "      <td>shari zychinski</td>\n",
       "      <td>0</td>\n",
       "      <td>0</td>\n",
       "      <td>positive</td>\n",
       "      <td>1999-10-08 00:00:00</td>\n",
       "      <td>EVERY book is educational</td>\n",
       "      <td>this witty little book makes my son laugh at l...</td>\n",
       "      <td>witti littl book make son laugh loud recit car...</td>\n",
       "    </tr>\n",
       "    <tr>\n",
       "      <th>1</th>\n",
       "      <td>138683</td>\n",
       "      <td>150501</td>\n",
       "      <td>0006641040</td>\n",
       "      <td>AJ46FKXOVC7NR</td>\n",
       "      <td>Nicholas A Mesiano</td>\n",
       "      <td>2</td>\n",
       "      <td>2</td>\n",
       "      <td>positive</td>\n",
       "      <td>1999-10-25 00:00:00</td>\n",
       "      <td>This whole series is great way to spend time w...</td>\n",
       "      <td>I can remember seeing the show when it aired o...</td>\n",
       "      <td>rememb see show air televis year ago child sis...</td>\n",
       "    </tr>\n",
       "    <tr>\n",
       "      <th>2</th>\n",
       "      <td>417839</td>\n",
       "      <td>451856</td>\n",
       "      <td>B00004CXX9</td>\n",
       "      <td>AIUWLEQ1ADEG5</td>\n",
       "      <td>Elizabeth Medina</td>\n",
       "      <td>0</td>\n",
       "      <td>0</td>\n",
       "      <td>positive</td>\n",
       "      <td>1999-12-02 00:00:00</td>\n",
       "      <td>Entertainingl Funny!</td>\n",
       "      <td>Beetlejuice is a well written movie ..... ever...</td>\n",
       "      <td>beetlejuic well written movi everyth excel act...</td>\n",
       "    </tr>\n",
       "    <tr>\n",
       "      <th>3</th>\n",
       "      <td>346055</td>\n",
       "      <td>374359</td>\n",
       "      <td>B00004CI84</td>\n",
       "      <td>A344SMIA5JECGM</td>\n",
       "      <td>Vincent P. Ross</td>\n",
       "      <td>1</td>\n",
       "      <td>2</td>\n",
       "      <td>positive</td>\n",
       "      <td>1999-12-06 00:00:00</td>\n",
       "      <td>A modern day fairy tale</td>\n",
       "      <td>A twist of rumplestiskin captured on film, sta...</td>\n",
       "      <td>twist rumplestiskin captur film star michael k...</td>\n",
       "    </tr>\n",
       "    <tr>\n",
       "      <th>4</th>\n",
       "      <td>417838</td>\n",
       "      <td>451855</td>\n",
       "      <td>B00004CXX9</td>\n",
       "      <td>AJH6LUC1UT1ON</td>\n",
       "      <td>The Phantom of the Opera</td>\n",
       "      <td>0</td>\n",
       "      <td>0</td>\n",
       "      <td>positive</td>\n",
       "      <td>2000-01-03 00:00:00</td>\n",
       "      <td>FANTASTIC!</td>\n",
       "      <td>Beetlejuice is an excellent and funny movie. K...</td>\n",
       "      <td>beetlejuic excel funni movi keaton hilari wack...</td>\n",
       "    </tr>\n",
       "  </tbody>\n",
       "</table>\n",
       "</div>"
      ],
      "text/plain": [
       "    index      Id   ProductId          UserId               ProfileName  \\\n",
       "0  138706  150524  0006641040   ACITT7DI6IDDL           shari zychinski   \n",
       "1  138683  150501  0006641040   AJ46FKXOVC7NR        Nicholas A Mesiano   \n",
       "2  417839  451856  B00004CXX9   AIUWLEQ1ADEG5          Elizabeth Medina   \n",
       "3  346055  374359  B00004CI84  A344SMIA5JECGM           Vincent P. Ross   \n",
       "4  417838  451855  B00004CXX9   AJH6LUC1UT1ON  The Phantom of the Opera   \n",
       "\n",
       "   HelpfulnessNumerator  HelpfulnessDenominator     Score  \\\n",
       "0                     0                       0  positive   \n",
       "1                     2                       2  positive   \n",
       "2                     0                       0  positive   \n",
       "3                     1                       2  positive   \n",
       "4                     0                       0  positive   \n",
       "\n",
       "                  Time                                            Summary  \\\n",
       "0  1999-10-08 00:00:00                          EVERY book is educational   \n",
       "1  1999-10-25 00:00:00  This whole series is great way to spend time w...   \n",
       "2  1999-12-02 00:00:00                               Entertainingl Funny!   \n",
       "3  1999-12-06 00:00:00                            A modern day fairy tale   \n",
       "4  2000-01-03 00:00:00                                         FANTASTIC!   \n",
       "\n",
       "                                                Text  \\\n",
       "0  this witty little book makes my son laugh at l...   \n",
       "1  I can remember seeing the show when it aired o...   \n",
       "2  Beetlejuice is a well written movie ..... ever...   \n",
       "3  A twist of rumplestiskin captured on film, sta...   \n",
       "4  Beetlejuice is an excellent and funny movie. K...   \n",
       "\n",
       "                                         CleanedText  \n",
       "0  witti littl book make son laugh loud recit car...  \n",
       "1  rememb see show air televis year ago child sis...  \n",
       "2  beetlejuic well written movi everyth excel act...  \n",
       "3  twist rumplestiskin captur film star michael k...  \n",
       "4  beetlejuic excel funni movi keaton hilari wack...  "
      ]
     },
     "execution_count": 5,
     "metadata": {
      "tags": []
     },
     "output_type": "execute_result"
    }
   ],
   "source": [
    "final.head()"
   ]
  },
  {
   "cell_type": "code",
   "execution_count": 0,
   "metadata": {
    "colab": {},
    "colab_type": "code",
    "id": "-aPyZsoiY_r7"
   },
   "outputs": [],
   "source": [
    "l = final['Score']\n",
    "final = final.drop(\"Score\", axis = 1)\n"
   ]
  },
  {
   "cell_type": "code",
   "execution_count": 0,
   "metadata": {
    "colab": {},
    "colab_type": "code",
    "id": "r45akFPhkwj4"
   },
   "outputs": [],
   "source": []
  },
  {
   "cell_type": "code",
   "execution_count": 0,
   "metadata": {
    "colab": {},
    "colab_type": "code",
    "id": "FjhwOL1zZCK1"
   },
   "outputs": [],
   "source": [
    "X_train, X_test, y_train, y_test = train_test_split(final, l, test_size=0.3, random_state=0)"
   ]
  },
  {
   "cell_type": "code",
   "execution_count": 0,
   "metadata": {
    "colab": {},
    "colab_type": "code",
    "id": "2GhtTh3YZETq"
   },
   "outputs": [],
   "source": []
  },
  {
   "cell_type": "markdown",
   "metadata": {
    "colab_type": "text",
    "id": "XtyJn2SzZIPw"
   },
   "source": [
    "# BOW"
   ]
  },
  {
   "cell_type": "code",
   "execution_count": 9,
   "metadata": {
    "colab": {
     "base_uri": "https://localhost:8080/",
     "height": 85
    },
    "colab_type": "code",
    "executionInfo": {
     "elapsed": 3065,
     "status": "ok",
     "timestamp": 1541722971475,
     "user": {
      "displayName": "Amarnath Manipatra",
      "photoUrl": "https://lh3.googleusercontent.com/-E4XehttjKtQ/AAAAAAAAAAI/AAAAAAAAIMM/qMw0AAGMQdQ/s64/photo.jpg",
      "userId": "14836087089649410046"
     },
     "user_tz": 0
    },
    "id": "w0crjB4nZKxB",
    "outputId": "ce3f2579-8e3b-47b6-ac28-95424b279ebf"
   },
   "outputs": [
    {
     "name": "stdout",
     "output_type": "stream",
     "text": [
      "--- 2.474428653717041 seconds ---\n",
      "the type of count vectorizer  <class 'scipy.sparse.csr.csr_matrix'>\n",
      "the shape of out text BOW vectorizer  (70000, 31572)\n",
      "the number of unique words  31572\n"
     ]
    }
   ],
   "source": [
    "import time\n",
    "start_time = time.time()\n",
    "count_vect = CountVectorizer()\n",
    "final_counts = count_vect.fit_transform(X_train['CleanedText'].values)\n",
    "print(\"--- %s seconds ---\" % (time.time() - start_time))\n",
    "print(\"the type of count vectorizer \",type(final_counts))\n",
    "print(\"the shape of out text BOW vectorizer \",final_counts.get_shape())\n",
    "print(\"the number of unique words \", final_counts.get_shape()[1])"
   ]
  },
  {
   "cell_type": "code",
   "execution_count": 0,
   "metadata": {
    "colab": {},
    "colab_type": "code",
    "id": "NwsAanDNiwVe"
   },
   "outputs": [],
   "source": [
    "scipy.sparse.save_npz('bowsparse_matrix_100000.npz', final_counts)"
   ]
  },
  {
   "cell_type": "code",
   "execution_count": 10,
   "metadata": {
    "colab": {
     "base_uri": "https://localhost:8080/",
     "height": 51
    },
    "colab_type": "code",
    "executionInfo": {
     "elapsed": 1544,
     "status": "ok",
     "timestamp": 1541722977328,
     "user": {
      "displayName": "Amarnath Manipatra",
      "photoUrl": "https://lh3.googleusercontent.com/-E4XehttjKtQ/AAAAAAAAAAI/AAAAAAAAIMM/qMw0AAGMQdQ/s64/photo.jpg",
      "userId": "14836087089649410046"
     },
     "user_tz": 0
    },
    "id": "rCe4xdiUaSVq",
    "outputId": "d9e8edbe-9862-4f44-bc99-d401361e82bc"
   },
   "outputs": [
    {
     "name": "stdout",
     "output_type": "stream",
     "text": [
      "(70000, 31572)\n",
      "(30000, 31572)\n"
     ]
    }
   ],
   "source": [
    "import time\n",
    "start_time = time.time()\n",
    "final_counts_test = count_vect.transform(X_test['CleanedText'].values)\n",
    "print(final_counts.shape)\n",
    "print(final_counts_test.shape)"
   ]
  },
  {
   "cell_type": "code",
   "execution_count": 0,
   "metadata": {
    "colab": {},
    "colab_type": "code",
    "id": "QhFTyrKNimGV"
   },
   "outputs": [],
   "source": [
    "scipy.sparse.save_npz('bowsparse_matrix_100000_test.npz', final_counts_test)\n",
    "uploadf('bowsparse_matrix_100000_test.npz')"
   ]
  },
  {
   "cell_type": "code",
   "execution_count": 0,
   "metadata": {
    "colab": {
     "base_uri": "https://localhost:8080/",
     "height": 34
    },
    "colab_type": "code",
    "executionInfo": {
     "elapsed": 416,
     "status": "ok",
     "timestamp": 1540575350062,
     "user": {
      "displayName": "Amarnath Manipatra",
      "photoUrl": "https://lh3.googleusercontent.com/-E4XehttjKtQ/AAAAAAAAAAI/AAAAAAAAIMM/qMw0AAGMQdQ/s64/photo.jpg",
      "userId": "14836087089649410046"
     },
     "user_tz": -60
    },
    "id": "L_hhq_OsIJn0",
    "outputId": "1d450ad8-c49e-4b3e-d492-3f82734ffe08"
   },
   "outputs": [
    {
     "data": {
      "text/plain": [
       "(70000,)"
      ]
     },
     "execution_count": 29,
     "metadata": {
      "tags": []
     },
     "output_type": "execute_result"
    }
   ],
   "source": [
    "y_train.shape"
   ]
  },
  {
   "cell_type": "code",
   "execution_count": 0,
   "metadata": {
    "colab": {},
    "colab_type": "code",
    "id": "A_x2jdjTaV-6"
   },
   "outputs": [],
   "source": [
    "standardized_data, standardized_data_test = standardisation(False,final_counts,final_counts_test)"
   ]
  },
  {
   "cell_type": "code",
   "execution_count": 0,
   "metadata": {
    "colab": {},
    "colab_type": "code",
    "id": "Y-qxTsgdaw5i"
   },
   "outputs": [],
   "source": [
    "bow_lr = lr_classifier()"
   ]
  },
  {
   "cell_type": "code",
   "execution_count": null,
   "metadata": {
    "colab": {
     "base_uri": "https://localhost:8080/",
     "height": 164
    },
    "colab_type": "code",
    "executionInfo": {
     "elapsed": 450,
     "status": "error",
     "timestamp": 1541518728976,
     "user": {
      "displayName": "Amarnath Manipatra",
      "photoUrl": "https://lh3.googleusercontent.com/-E4XehttjKtQ/AAAAAAAAAAI/AAAAAAAAIMM/qMw0AAGMQdQ/s64/photo.jpg",
      "userId": "14836087089649410046"
     },
     "user_tz": 0
    },
    "id": "LxKD1xZ_a51b",
    "outputId": "25b44c5e-282f-4c8b-fe53-5b1ce47a410e"
   },
   "outputs": [],
   "source": [
    "bow_lr.fit(standardized_data, y_train)\n"
   ]
  },
  {
   "cell_type": "code",
   "execution_count": 0,
   "metadata": {
    "colab": {},
    "colab_type": "code",
    "id": "l3yJ5PLlbOY4"
   },
   "outputs": [],
   "source": [
    "with open('bow_lr.pkl', 'wb') as f:\n",
    "    pickle.dump(clf, f)"
   ]
  },
  {
   "cell_type": "code",
   "execution_count": null,
   "metadata": {
    "colab": {
     "base_uri": "https://localhost:8080/",
     "height": 164
    },
    "colab_type": "code",
    "executionInfo": {
     "elapsed": 2567,
     "status": "error",
     "timestamp": 1540591887122,
     "user": {
      "displayName": "Amarnath Manipatra",
      "photoUrl": "https://lh3.googleusercontent.com/-E4XehttjKtQ/AAAAAAAAAAI/AAAAAAAAIMM/qMw0AAGMQdQ/s64/photo.jpg",
      "userId": "14836087089649410046"
     },
     "user_tz": -60
    },
    "id": "VxXUvfZlblhF",
    "outputId": "8f449a06-82e1-4841-d698-b3d847256087"
   },
   "outputs": [],
   "source": [
    "uploadf('bow_lr.pkl')"
   ]
  },
  {
   "cell_type": "code",
   "execution_count": 0,
   "metadata": {
    "colab": {},
    "colab_type": "code",
    "id": "nsN67O-xc0I3"
   },
   "outputs": [],
   "source": [
    "a = lrclassifierresults(bow_lr)\n",
    "a.to_pickle('lrdf.pkl')"
   ]
  },
  {
   "cell_type": "code",
   "execution_count": 0,
   "metadata": {
    "colab": {},
    "colab_type": "code",
    "id": "sdIod6FfM0cx"
   },
   "outputs": [],
   "source": [
    "a = pd.read_pickle(\"/content/drive/My Drive/Dataset/AFR/lrdf.pkl\")"
   ]
  },
  {
   "cell_type": "code",
   "execution_count": 0,
   "metadata": {
    "colab": {
     "base_uri": "https://localhost:8080/",
     "height": 294
    },
    "colab_type": "code",
    "executionInfo": {
     "elapsed": 478,
     "status": "ok",
     "timestamp": 1541519594666,
     "user": {
      "displayName": "Amarnath Manipatra",
      "photoUrl": "https://lh3.googleusercontent.com/-E4XehttjKtQ/AAAAAAAAAAI/AAAAAAAAIMM/qMw0AAGMQdQ/s64/photo.jpg",
      "userId": "14836087089649410046"
     },
     "user_tz": 0
    },
    "id": "J3S39RiqM_x2",
    "outputId": "5851dfd0-4932-4b77-c127-81c67ded92c3"
   },
   "outputs": [
    {
     "data": {
      "image/png": "[encoded data removed]",
      "text/plain": [
       "<matplotlib.figure.Figure at 0x7fdb28bff1d0>"
      ]
     },
     "metadata": {
      "tags": []
     },
     "output_type": "display_data"
    }
   ],
   "source": [
    "plotgraph(a)"
   ]
  },
  {
   "cell_type": "code",
   "execution_count": 0,
   "metadata": {
    "colab": {
     "base_uri": "https://localhost:8080/",
     "height": 51
    },
    "colab_type": "code",
    "executionInfo": {
     "elapsed": 484,
     "status": "ok",
     "timestamp": 1540566378610,
     "user": {
      "displayName": "Amarnath Manipatra",
      "photoUrl": "https://lh3.googleusercontent.com/-E4XehttjKtQ/AAAAAAAAAAI/AAAAAAAAIMM/qMw0AAGMQdQ/s64/photo.jpg",
      "userId": "14836087089649410046"
     },
     "user_tz": -60
    },
    "id": "EsywPmy4UgsT",
    "outputId": "8c7e9c5b-b85e-416d-df12-6b939b2eaa7b"
   },
   "outputs": [
    {
     "name": "stdout",
     "output_type": "stream",
     "text": [
      "{'C': 0.0001, 'penalty': 'l2'}\n",
      "0.9017057386534093\n"
     ]
    }
   ],
   "source": [
    "train_set_report(bow_lr)"
   ]
  },
  {
   "cell_type": "code",
   "execution_count": 0,
   "metadata": {
    "colab": {
     "base_uri": "https://localhost:8080/",
     "height": 430
    },
    "colab_type": "code",
    "executionInfo": {
     "elapsed": 1827,
     "status": "ok",
     "timestamp": 1540575360474,
     "user": {
      "displayName": "Amarnath Manipatra",
      "photoUrl": "https://lh3.googleusercontent.com/-E4XehttjKtQ/AAAAAAAAAAI/AAAAAAAAIMM/qMw0AAGMQdQ/s64/photo.jpg",
      "userId": "14836087089649410046"
     },
     "user_tz": -60
    },
    "id": "qmMu0TFn6TH2",
    "outputId": "a124c400-7cc3-4581-f64e-6a094e172cea"
   },
   "outputs": [
    {
     "name": "stdout",
     "output_type": "stream",
     "text": [
      "The test set accuracy is 91.373333%\n",
      "             precision    recall  f1-score   support\n",
      "\n",
      "   negative       0.84      0.36      0.51      3665\n",
      "   positive       0.92      0.99      0.95     26335\n",
      "\n",
      "avg / total       0.91      0.91      0.90     30000\n",
      "\n"
     ]
    },
    {
     "data": {
      "image/png": "[encoded data removed]",
      "text/plain": [
       "<matplotlib.figure.Figure at 0x7f34d3d789b0>"
      ]
     },
     "metadata": {
      "tags": []
     },
     "output_type": "display_data"
    }
   ],
   "source": [
    "test_set_report(bow_lr,standardized_data_test,y_test)"
   ]
  },
  {
   "cell_type": "markdown",
   "metadata": {
    "colab_type": "text",
    "id": "PyPmCh8uBr3n"
   },
   "source": [
    "**Random** **CV**"
   ]
  },
  {
   "cell_type": "code",
   "execution_count": 0,
   "metadata": {
    "colab": {},
    "colab_type": "code",
    "id": "OUSePaOa1IbU"
   },
   "outputs": [],
   "source": [
    "bow_lr_random = lr_classifier_random()"
   ]
  },
  {
   "cell_type": "code",
   "execution_count": 0,
   "metadata": {
    "colab": {
     "base_uri": "https://localhost:8080/",
     "height": 221
    },
    "colab_type": "code",
    "executionInfo": {
     "elapsed": 2464429,
     "status": "ok",
     "timestamp": 1540748219992,
     "user": {
      "displayName": "Amarnath Manipatra",
      "photoUrl": "https://lh3.googleusercontent.com/-E4XehttjKtQ/AAAAAAAAAAI/AAAAAAAAIMM/qMw0AAGMQdQ/s64/photo.jpg",
      "userId": "14836087089649410046"
     },
     "user_tz": 0
    },
    "id": "PjS5_fAvWG0u",
    "outputId": "a37182da-9ce0-455e-b743-0ded822c1213"
   },
   "outputs": [
    {
     "name": "stdout",
     "output_type": "stream",
     "text": [
      "Fitting 3 folds for each of 10 candidates, totalling 30 fits\n"
     ]
    },
    {
     "name": "stderr",
     "output_type": "stream",
     "text": [
      "[Parallel(n_jobs=2)]: Done  30 out of  30 | elapsed: 71.0min finished\n"
     ]
    },
    {
     "data": {
      "text/plain": [
       "RandomizedSearchCV(cv=TimeSeriesSplit(max_train_size=None, n_splits=3),\n",
       "          error_score='raise',\n",
       "          estimator=LogisticRegression(C=1.0, class_weight=None, dual=False, fit_intercept=True,\n",
       "          intercept_scaling=1, max_iter=100, multi_class='ovr', n_jobs=1,\n",
       "          penalty='l2', random_state=None, solver='liblinear', tol=0.0001,\n",
       "          verbose=0, warm_start=False),\n",
       "          fit_params=None, iid=True, n_iter=10, n_jobs=2,\n",
       "          param_distributions={'penalty': ['l1', 'l2'], 'C': [1000, 0.0001, 100, 200, 500, 1, 0.8, 10]},\n",
       "          pre_dispatch='2*n_jobs', random_state=None, refit=True,\n",
       "          return_train_score='warn', scoring=None, verbose=1)"
      ]
     },
     "execution_count": 103,
     "metadata": {
      "tags": []
     },
     "output_type": "execute_result"
    }
   ],
   "source": [
    "bow_lr_random.fit(standardized_data, y_train)"
   ]
  },
  {
   "cell_type": "code",
   "execution_count": 0,
   "metadata": {
    "colab": {
     "base_uri": "https://localhost:8080/",
     "height": 51
    },
    "colab_type": "code",
    "executionInfo": {
     "elapsed": 619,
     "status": "ok",
     "timestamp": 1540748326904,
     "user": {
      "displayName": "Amarnath Manipatra",
      "photoUrl": "https://lh3.googleusercontent.com/-E4XehttjKtQ/AAAAAAAAAAI/AAAAAAAAIMM/qMw0AAGMQdQ/s64/photo.jpg",
      "userId": "14836087089649410046"
     },
     "user_tz": 0
    },
    "id": "jM5PVtHbB1lB",
    "outputId": "65b30864-b815-4bf1-a38e-bd05ae5d2c7e"
   },
   "outputs": [
    {
     "name": "stdout",
     "output_type": "stream",
     "text": [
      "{'penalty': 'l1', 'C': 0.8}\n",
      "0.8938285714285714\n"
     ]
    }
   ],
   "source": [
    "train_set_report(bow_lr_random)"
   ]
  },
  {
   "cell_type": "code",
   "execution_count": 0,
   "metadata": {
    "colab": {
     "base_uri": "https://localhost:8080/",
     "height": 430
    },
    "colab_type": "code",
    "executionInfo": {
     "elapsed": 1710,
     "status": "ok",
     "timestamp": 1540748333249,
     "user": {
      "displayName": "Amarnath Manipatra",
      "photoUrl": "https://lh3.googleusercontent.com/-E4XehttjKtQ/AAAAAAAAAAI/AAAAAAAAIMM/qMw0AAGMQdQ/s64/photo.jpg",
      "userId": "14836087089649410046"
     },
     "user_tz": 0
    },
    "id": "TCV3k9_RB8TG",
    "outputId": "59efe16f-f6a5-4863-efab-a8085ed94843"
   },
   "outputs": [
    {
     "name": "stdout",
     "output_type": "stream",
     "text": [
      "The test set accuracy is 90.010000%\n",
      "             precision    recall  f1-score   support\n",
      "\n",
      "   negative       0.59      0.60      0.60      3665\n",
      "   positive       0.94      0.94      0.94     26335\n",
      "\n",
      "avg / total       0.90      0.90      0.90     30000\n",
      "\n"
     ]
    },
    {
     "data": {
      "image/png": "[encoded data removed]",
      "text/plain": [
       "<matplotlib.figure.Figure at 0x7f72ab7e6278>"
      ]
     },
     "metadata": {
      "tags": []
     },
     "output_type": "display_data"
    }
   ],
   "source": [
    "test_set_report(bow_lr_random,standardized_data_test,y_test)"
   ]
  },
  {
   "cell_type": "code",
   "execution_count": 0,
   "metadata": {
    "colab": {},
    "colab_type": "code",
    "id": "hagiT9JAaLZd"
   },
   "outputs": [],
   "source": [
    "b = lrclassifierresults(bow_lr_random)\n",
    "b.to_pickle('lrdf_random.pkl')"
   ]
  },
  {
   "cell_type": "code",
   "execution_count": 0,
   "metadata": {
    "colab": {},
    "colab_type": "code",
    "id": "uv83_mvBCXq1"
   },
   "outputs": [],
   "source": [
    "with open('bow_lr_random.pkl', 'wb') as f:\n",
    "    pickle.dump(bow_lr_random, f)"
   ]
  },
  {
   "cell_type": "code",
   "execution_count": 0,
   "metadata": {
    "colab": {},
    "colab_type": "code",
    "id": "cD_Bgy8AD722"
   },
   "outputs": [],
   "source": [
    "a = pd.read_pickle(\"/content/drive/My Drive/Dataset/AFR/lrdf_random.pkl\")"
   ]
  },
  {
   "cell_type": "code",
   "execution_count": 76,
   "metadata": {
    "colab": {
     "base_uri": "https://localhost:8080/",
     "height": 294
    },
    "colab_type": "code",
    "executionInfo": {
     "elapsed": 765,
     "status": "ok",
     "timestamp": 1541726646906,
     "user": {
      "displayName": "Amarnath Manipatra",
      "photoUrl": "https://lh3.googleusercontent.com/-E4XehttjKtQ/AAAAAAAAAAI/AAAAAAAAIMM/qMw0AAGMQdQ/s64/photo.jpg",
      "userId": "14836087089649410046"
     },
     "user_tz": 0
    },
    "id": "zRFZ5O6ZD-UK",
    "outputId": "2d06010d-cedd-43d4-e377-904a0260c19e"
   },
   "outputs": [
    {
     "data": {
      "image/png": "[encoded data removed]",
      "text/plain": [
       "<matplotlib.figure.Figure at 0x7f0ba3cc7208>"
      ]
     },
     "metadata": {
      "tags": []
     },
     "output_type": "display_data"
    }
   ],
   "source": [
    "plotgraph(a)"
   ]
  },
  {
   "cell_type": "markdown",
   "metadata": {
    "colab_type": "text",
    "id": "n0EVH_k0CHqU"
   },
   "source": [
    "**Check Sparsity**"
   ]
  },
  {
   "cell_type": "code",
   "execution_count": 0,
   "metadata": {
    "colab": {
     "base_uri": "https://localhost:8080/",
     "height": 153
    },
    "colab_type": "code",
    "executionInfo": {
     "elapsed": 3230211,
     "status": "ok",
     "timestamp": 1541524956772,
     "user": {
      "displayName": "Amarnath Manipatra",
      "photoUrl": "https://lh3.googleusercontent.com/-E4XehttjKtQ/AAAAAAAAAAI/AAAAAAAAIMM/qMw0AAGMQdQ/s64/photo.jpg",
      "userId": "14836087089649410046"
     },
     "user_tz": 0
    },
    "id": "3RVgQD3SQ8fZ",
    "outputId": "c1ccd130-31be-4f57-b58d-12c5493a890f"
   },
   "outputs": [
    {
     "name": "stdout",
     "output_type": "stream",
     "text": [
      "Number of non-zero weights for 1000 = 20433\n",
      "Accuracy for 1000 = 88.10666666666667\n",
      "Number of non-zero weights for 10 = 15020\n",
      "Accuracy for 10 = 88.42333333333333\n",
      "Number of non-zero weights for 0.0001 = 0\n",
      "Accuracy for 0.0001 = 87.78333333333333\n",
      "Number of non-zero weights for 0.8 = 12426\n",
      "Accuracy for 0.8 = 90.03\n"
     ]
    }
   ],
   "source": [
    "c = [1000,10,0.0001,0.8]\n",
    "for i in c:\n",
    "  checkSparsity(i,standardized_data,y_train,standardized_data_test,y_test)\n",
    "  "
   ]
  },
  {
   "cell_type": "markdown",
   "metadata": {
    "colab_type": "text",
    "id": "sliU1ARqJBDL"
   },
   "source": [
    "**Check Multicollinearity**"
   ]
  },
  {
   "cell_type": "code",
   "execution_count": 0,
   "metadata": {
    "colab": {
     "base_uri": "https://localhost:8080/",
     "height": 34
    },
    "colab_type": "code",
    "executionInfo": {
     "elapsed": 12808,
     "status": "ok",
     "timestamp": 1541528123828,
     "user": {
      "displayName": "Amarnath Manipatra",
      "photoUrl": "https://lh3.googleusercontent.com/-E4XehttjKtQ/AAAAAAAAAAI/AAAAAAAAIMM/qMw0AAGMQdQ/s64/photo.jpg",
      "userId": "14836087089649410046"
     },
     "user_tz": 0
    },
    "id": "AWrjZBaBI7WG",
    "outputId": "08670f3b-5b3d-43e5-8252-7c3ff00cd8ab"
   },
   "outputs": [
    {
     "name": "stdout",
     "output_type": "stream",
     "text": [
      "Size of weights to check multicollinearity is 31572 . Number of weights having a change greater then 30% is 90\n"
     ]
    }
   ],
   "source": [
    "checkMultiCollinearity(standardized_data, y_train,standardized_data_test,y_test)"
   ]
  },
  {
   "cell_type": "markdown",
   "metadata": {
    "colab_type": "text",
    "id": "6wZadlXMuyoM"
   },
   "source": [
    "**Feature Selection**"
   ]
  },
  {
   "cell_type": "code",
   "execution_count": 12,
   "metadata": {
    "colab": {
     "base_uri": "https://localhost:8080/",
     "height": 85
    },
    "colab_type": "code",
    "executionInfo": {
     "elapsed": 2676,
     "status": "ok",
     "timestamp": 1541723011391,
     "user": {
      "displayName": "Amarnath Manipatra",
      "photoUrl": "https://lh3.googleusercontent.com/-E4XehttjKtQ/AAAAAAAAAAI/AAAAAAAAIMM/qMw0AAGMQdQ/s64/photo.jpg",
      "userId": "14836087089649410046"
     },
     "user_tz": 0
    },
    "id": "w59XCz7Zutn9",
    "outputId": "c306437b-f59e-41c3-ffb8-798cad7d5bf0"
   },
   "outputs": [
    {
     "data": {
      "text/plain": [
       "LogisticRegression(C=0.0001, class_weight=None, dual=False,\n",
       "          fit_intercept=True, intercept_scaling=1, max_iter=100,\n",
       "          multi_class='ovr', n_jobs=1, penalty='l2', random_state=None,\n",
       "          solver='liblinear', tol=0.0001, verbose=0, warm_start=False)"
      ]
     },
     "execution_count": 12,
     "metadata": {
      "tags": []
     },
     "output_type": "execute_result"
    }
   ],
   "source": [
    "clf = LogisticRegression(C = 0.0001, penalty= 'l2')\n",
    "clf.fit(standardized_data,y_train)\n",
    "#topfeatures(vectorizer, clf, n=20)"
   ]
  },
  {
   "cell_type": "code",
   "execution_count": 14,
   "metadata": {
    "colab": {
     "base_uri": "https://localhost:8080/",
     "height": 357
    },
    "colab_type": "code",
    "executionInfo": {
     "elapsed": 637,
     "status": "ok",
     "timestamp": 1541723039309,
     "user": {
      "displayName": "Amarnath Manipatra",
      "photoUrl": "https://lh3.googleusercontent.com/-E4XehttjKtQ/AAAAAAAAAAI/AAAAAAAAIMM/qMw0AAGMQdQ/s64/photo.jpg",
      "userId": "14836087089649410046"
     },
     "user_tz": 0
    },
    "id": "oB24RZDu1019",
    "outputId": "bcae819c-4ce2-4089-fcfa-5f716bc95f0b"
   },
   "outputs": [
    {
     "name": "stdout",
     "output_type": "stream",
     "text": [
      "\t-0.1081\tdisappoint     \t\t\t\t0.2101\tgreat          \n",
      "\t-0.0838\tworst          \t\t\t\t0.1754\tlove           \n",
      "\t-0.0723\tterribl        \t\t\t\t0.1453\tbest           \n",
      "\t-0.0670\thorribl        \t\t\t\t0.1311\tgood           \n",
      "\t-0.0636\taw             \t\t\t\t0.1144\tdelici         \n",
      "\t-0.0611\treturn         \t\t\t\t0.0982\texcel          \n",
      "\t-0.0563\tbad            \t\t\t\t0.0878\tfavorit        \n",
      "\t-0.0557\tmoney          \t\t\t\t0.0839\tperfect        \n",
      "\t-0.0544\tunfortun       \t\t\t\t0.0788\tnice           \n",
      "\t-0.0544\twast           \t\t\t\t0.0784\twonder         \n",
      "\t-0.0540\tthrew          \t\t\t\t0.0745\ttasti          \n",
      "\t-0.0509\tthought        \t\t\t\t0.0739\tfind           \n",
      "\t-0.0480\tbland          \t\t\t\t0.0739\teasi           \n",
      "\t-0.0471\tstale          \t\t\t\t0.0671\tthank          \n",
      "\t-0.0452\tmayb           \t\t\t\t0.0613\tenjoy          \n",
      "\t-0.0408\twors           \t\t\t\t0.0608\tuse            \n",
      "\t-0.0407\ttasteless      \t\t\t\t0.0602\tprice          \n",
      "\t-0.0403\tdisgust        \t\t\t\t0.0591\tmake           \n",
      "\t-0.0401\tweak           \t\t\t\t0.0589\thigh           \n",
      "\t-0.0400\tpoor           \t\t\t\t0.0573\tsnack          \n"
     ]
    }
   ],
   "source": [
    "topfeatures(count_vect, clf, n=20)"
   ]
  },
  {
   "cell_type": "markdown",
   "metadata": {
    "colab_type": "text",
    "id": "i_A6VI6gDCRz"
   },
   "source": [
    "# TFIDF"
   ]
  },
  {
   "cell_type": "code",
   "execution_count": 0,
   "metadata": {
    "colab": {},
    "colab_type": "code",
    "id": "f-5w_YrEDD78"
   },
   "outputs": [],
   "source": [
    "tf_idf_vect = TfidfVectorizer()\n",
    "final_tf_idf = tf_idf_vect.fit_transform(X_train['CleanedText'].values)"
   ]
  },
  {
   "cell_type": "code",
   "execution_count": 94,
   "metadata": {
    "colab": {
     "base_uri": "https://localhost:8080/",
     "height": 68
    },
    "colab_type": "code",
    "executionInfo": {
     "elapsed": 524,
     "status": "ok",
     "timestamp": 1541727034825,
     "user": {
      "displayName": "Amarnath Manipatra",
      "photoUrl": "https://lh3.googleusercontent.com/-E4XehttjKtQ/AAAAAAAAAAI/AAAAAAAAIMM/qMw0AAGMQdQ/s64/photo.jpg",
      "userId": "14836087089649410046"
     },
     "user_tz": 0
    },
    "id": "Pu9XqZwaDK4l",
    "outputId": "e27faac2-a6d1-4c43-84b1-97da416858df"
   },
   "outputs": [
    {
     "name": "stdout",
     "output_type": "stream",
     "text": [
      "type =  <class 'scipy.sparse.csr.csr_matrix'>\n",
      "shape =  (70000, 31572)\n",
      "number of unique words  31572\n"
     ]
    }
   ],
   "source": [
    "#scipy.sparse.save_npz('tfidfsparse_matrix_100000.npz', final_counts)\n",
    "print(\"type = \", type(final_tf_idf))\n",
    "print(\"shape = \", final_tf_idf.get_shape())\n",
    "print(\"number of unique words \", final_tf_idf.get_shape()[1])"
   ]
  },
  {
   "cell_type": "code",
   "execution_count": 0,
   "metadata": {
    "colab": {},
    "colab_type": "code",
    "id": "8KE-DGjuDWEM"
   },
   "outputs": [],
   "source": [
    "final_tf_idf_test = tf_idf_vect.transform(X_test['CleanedText'].values)"
   ]
  },
  {
   "cell_type": "code",
   "execution_count": 0,
   "metadata": {
    "colab": {},
    "colab_type": "code",
    "id": "WHa-t7QfDcdq"
   },
   "outputs": [],
   "source": [
    "scipy.sparse.save_npz('tfidfsparse_matrix_test_100000.npz', final_counts)"
   ]
  },
  {
   "cell_type": "markdown",
   "metadata": {
    "colab_type": "text",
    "id": "hfeN-R43c3cq"
   },
   "source": [
    "**GridSearch**"
   ]
  },
  {
   "cell_type": "code",
   "execution_count": 0,
   "metadata": {
    "colab": {},
    "colab_type": "code",
    "id": "8JQcrvvAmIdJ"
   },
   "outputs": [],
   "source": [
    "tfidf_lr = lr_classifier()"
   ]
  },
  {
   "cell_type": "code",
   "execution_count": 0,
   "metadata": {
    "colab": {},
    "colab_type": "code",
    "id": "I31vYYGLouFS"
   },
   "outputs": [],
   "source": [
    "standardized_data, standardized_data_test = standardisation(False,final_tf_idf,final_tf_idf_test)"
   ]
  },
  {
   "cell_type": "code",
   "execution_count": 0,
   "metadata": {
    "colab": {
     "base_uri": "https://localhost:8080/",
     "height": 221
    },
    "colab_type": "code",
    "executionInfo": {
     "elapsed": 555,
     "status": "ok",
     "timestamp": 1540738145433,
     "user": {
      "displayName": "Amarnath Manipatra",
      "photoUrl": "https://lh3.googleusercontent.com/-E4XehttjKtQ/AAAAAAAAAAI/AAAAAAAAIMM/qMw0AAGMQdQ/s64/photo.jpg",
      "userId": "14836087089649410046"
     },
     "user_tz": 0
    },
    "id": "R7vtsUNloEND",
    "outputId": "1dbe4000-cdf4-44e2-88c6-5abff0c13734"
   },
   "outputs": [
    {
     "name": "stdout",
     "output_type": "stream",
     "text": [
      "Fitting 3 folds for each of 14 candidates, totalling 42 fits\n"
     ]
    },
    {
     "name": "stderr",
     "output_type": "stream",
     "text": [
      "[Parallel(n_jobs=2)]: Done  42 out of  42 | elapsed: 99.2min finished\n"
     ]
    },
    {
     "data": {
      "text/plain": [
       "GridSearchCV(cv=TimeSeriesSplit(max_train_size=None, n_splits=3),\n",
       "       error_score='raise',\n",
       "       estimator=LogisticRegression(C=1.0, class_weight=None, dual=False, fit_intercept=True,\n",
       "          intercept_scaling=1, max_iter=100, multi_class='ovr', n_jobs=1,\n",
       "          penalty='l2', random_state=None, solver='liblinear', tol=0.0001,\n",
       "          verbose=0, warm_start=False),\n",
       "       fit_params=None, iid=True, n_jobs=2,\n",
       "       param_grid={'penalty': ['l1', 'l2'], 'C': [1000, 0.0001, 100, 200, 500, 1, 10]},\n",
       "       pre_dispatch='2*n_jobs', refit=True, return_train_score='warn',\n",
       "       scoring=None, verbose=1)"
      ]
     },
     "execution_count": 53,
     "metadata": {
      "tags": []
     },
     "output_type": "execute_result"
    }
   ],
   "source": [
    "tfidf_lr.fit(standardized_data,y_train)"
   ]
  },
  {
   "cell_type": "code",
   "execution_count": 0,
   "metadata": {
    "colab": {
     "base_uri": "https://localhost:8080/",
     "height": 51
    },
    "colab_type": "code",
    "executionInfo": {
     "elapsed": 458,
     "status": "ok",
     "timestamp": 1540742407621,
     "user": {
      "displayName": "Amarnath Manipatra",
      "photoUrl": "https://lh3.googleusercontent.com/-E4XehttjKtQ/AAAAAAAAAAI/AAAAAAAAIMM/qMw0AAGMQdQ/s64/photo.jpg",
      "userId": "14836087089649410046"
     },
     "user_tz": 0
    },
    "id": "f9dVeMKOJ3_7",
    "outputId": "76ffe7e3-d99a-4d6b-afd4-f54c8f27115c"
   },
   "outputs": [
    {
     "name": "stdout",
     "output_type": "stream",
     "text": [
      "{'C': 0.0001, 'penalty': 'l2'}\n",
      "0.8995809523809524\n"
     ]
    }
   ],
   "source": [
    "train_set_report(tfidf_lr)"
   ]
  },
  {
   "cell_type": "code",
   "execution_count": 0,
   "metadata": {
    "colab": {
     "base_uri": "https://localhost:8080/",
     "height": 430
    },
    "colab_type": "code",
    "executionInfo": {
     "elapsed": 1568,
     "status": "ok",
     "timestamp": 1540742485855,
     "user": {
      "displayName": "Amarnath Manipatra",
      "photoUrl": "https://lh3.googleusercontent.com/-E4XehttjKtQ/AAAAAAAAAAI/AAAAAAAAIMM/qMw0AAGMQdQ/s64/photo.jpg",
      "userId": "14836087089649410046"
     },
     "user_tz": 0
    },
    "id": "JZJ9WiHUZ3Ug",
    "outputId": "75c9f2e7-77ea-4cdc-e285-84bcbb453f09"
   },
   "outputs": [
    {
     "name": "stdout",
     "output_type": "stream",
     "text": [
      "The test set accuracy is 90.840000%\n",
      "             precision    recall  f1-score   support\n",
      "\n",
      "   negative       0.79      0.34      0.48      3665\n",
      "   positive       0.92      0.99      0.95     26335\n",
      "\n",
      "avg / total       0.90      0.91      0.89     30000\n",
      "\n"
     ]
    },
    {
     "data": {
      "image/png": "[encoded data removed]",
      "text/plain": [
       "<matplotlib.figure.Figure at 0x7f72df6ee898>"
      ]
     },
     "metadata": {
      "tags": []
     },
     "output_type": "display_data"
    }
   ],
   "source": [
    "test_set_report(tfidf_lr,standardized_data_test,y_test)"
   ]
  },
  {
   "cell_type": "code",
   "execution_count": 0,
   "metadata": {
    "colab": {},
    "colab_type": "code",
    "id": "wDVek6mqpLzt"
   },
   "outputs": [],
   "source": [
    "with open('tfidf_lr.pkl', 'wb') as f:\n",
    "    pickle.dump(tfidf_lr, f)"
   ]
  },
  {
   "cell_type": "code",
   "execution_count": 0,
   "metadata": {
    "colab": {},
    "colab_type": "code",
    "id": "ZoE3QFZQxYIE"
   },
   "outputs": [],
   "source": [
    "b = lrclassifierresults(tfidf_lr)\n",
    "b.to_pickle('tfidf_lr.pkl')"
   ]
  },
  {
   "cell_type": "code",
   "execution_count": 0,
   "metadata": {
    "colab": {},
    "colab_type": "code",
    "id": "paFM6wBLEjwo"
   },
   "outputs": [],
   "source": [
    "a = pd.read_pickle(\"/content/drive/My Drive/Dataset/AFR/tfidf_lr.pkl\")"
   ]
  },
  {
   "cell_type": "code",
   "execution_count": 80,
   "metadata": {
    "colab": {
     "base_uri": "https://localhost:8080/",
     "height": 294
    },
    "colab_type": "code",
    "executionInfo": {
     "elapsed": 573,
     "status": "ok",
     "timestamp": 1541726746770,
     "user": {
      "displayName": "Amarnath Manipatra",
      "photoUrl": "https://lh3.googleusercontent.com/-E4XehttjKtQ/AAAAAAAAAAI/AAAAAAAAIMM/qMw0AAGMQdQ/s64/photo.jpg",
      "userId": "14836087089649410046"
     },
     "user_tz": 0
    },
    "id": "UTSkUElSEub-",
    "outputId": "df26cb43-09f8-4556-c056-4a1dfd89d46d"
   },
   "outputs": [
    {
     "data": {
      "image/png": "[encoded data removed]",
      "text/plain": [
       "<matplotlib.figure.Figure at 0x7f0ba3cc76d8>"
      ]
     },
     "metadata": {
      "tags": []
     },
     "output_type": "display_data"
    }
   ],
   "source": [
    "plotgraph(a)\n"
   ]
  },
  {
   "cell_type": "markdown",
   "metadata": {
    "colab_type": "text",
    "id": "7sUVhrrVaMZE"
   },
   "source": [
    "**Random**"
   ]
  },
  {
   "cell_type": "code",
   "execution_count": 0,
   "metadata": {
    "colab": {},
    "colab_type": "code",
    "id": "ZiSsjDsSJpSM"
   },
   "outputs": [],
   "source": [
    "tfidf_lr_rndom = lr_classifier_random()"
   ]
  },
  {
   "cell_type": "code",
   "execution_count": 0,
   "metadata": {
    "colab": {
     "base_uri": "https://localhost:8080/",
     "height": 221
    },
    "colab_type": "code",
    "executionInfo": {
     "elapsed": 134824,
     "status": "ok",
     "timestamp": 1540741662877,
     "user": {
      "displayName": "Amarnath Manipatra",
      "photoUrl": "https://lh3.googleusercontent.com/-E4XehttjKtQ/AAAAAAAAAAI/AAAAAAAAIMM/qMw0AAGMQdQ/s64/photo.jpg",
      "userId": "14836087089649410046"
     },
     "user_tz": 0
    },
    "id": "557RnZcWJ2F_",
    "outputId": "0ad2c41a-89f2-4819-cdc8-838fa4670082"
   },
   "outputs": [
    {
     "name": "stdout",
     "output_type": "stream",
     "text": [
      "Fitting 3 folds for each of 10 candidates, totalling 30 fits\n"
     ]
    },
    {
     "name": "stderr",
     "output_type": "stream",
     "text": [
      "[Parallel(n_jobs=2)]: Done  30 out of  30 | elapsed: 57.1min finished\n"
     ]
    },
    {
     "data": {
      "text/plain": [
       "RandomizedSearchCV(cv=TimeSeriesSplit(max_train_size=None, n_splits=3),\n",
       "          error_score='raise',\n",
       "          estimator=LogisticRegression(C=1.0, class_weight=None, dual=False, fit_intercept=True,\n",
       "          intercept_scaling=1, max_iter=100, multi_class='ovr', n_jobs=1,\n",
       "          penalty='l2', random_state=None, solver='liblinear', tol=0.0001,\n",
       "          verbose=0, warm_start=False),\n",
       "          fit_params=None, iid=True, n_iter=10, n_jobs=2,\n",
       "          param_distributions={'penalty': ['l1', 'l2'], 'C': [1000, 0.0001, 100, 200, 500, 1, 0.8, 10]},\n",
       "          pre_dispatch='2*n_jobs', random_state=None, refit=True,\n",
       "          return_train_score='warn', scoring=None, verbose=1)"
      ]
     },
     "execution_count": 58,
     "metadata": {
      "tags": []
     },
     "output_type": "execute_result"
    }
   ],
   "source": [
    "tfidf_lr_rndom.fit(standardized_data,y_train)"
   ]
  },
  {
   "cell_type": "code",
   "execution_count": 0,
   "metadata": {
    "colab": {
     "base_uri": "https://localhost:8080/",
     "height": 51
    },
    "colab_type": "code",
    "executionInfo": {
     "elapsed": 447,
     "status": "ok",
     "timestamp": 1540742544378,
     "user": {
      "displayName": "Amarnath Manipatra",
      "photoUrl": "https://lh3.googleusercontent.com/-E4XehttjKtQ/AAAAAAAAAAI/AAAAAAAAIMM/qMw0AAGMQdQ/s64/photo.jpg",
      "userId": "14836087089649410046"
     },
     "user_tz": 0
    },
    "id": "RvRiYc1BJ8w5",
    "outputId": "2949602e-afd1-4471-f5d8-1e223cb8873a"
   },
   "outputs": [
    {
     "name": "stdout",
     "output_type": "stream",
     "text": [
      "{'penalty': 'l2', 'C': 0.0001}\n",
      "0.8995809523809524\n"
     ]
    }
   ],
   "source": [
    "train_set_report(tfidf_lr_rndom)"
   ]
  },
  {
   "cell_type": "code",
   "execution_count": 0,
   "metadata": {
    "colab": {
     "base_uri": "https://localhost:8080/",
     "height": 430
    },
    "colab_type": "code",
    "executionInfo": {
     "elapsed": 1380,
     "status": "ok",
     "timestamp": 1540742563197,
     "user": {
      "displayName": "Amarnath Manipatra",
      "photoUrl": "https://lh3.googleusercontent.com/-E4XehttjKtQ/AAAAAAAAAAI/AAAAAAAAIMM/qMw0AAGMQdQ/s64/photo.jpg",
      "userId": "14836087089649410046"
     },
     "user_tz": 0
    },
    "id": "gvORW3S9aaGp",
    "outputId": "5aaf23fe-7a70-45f8-a531-89864a23ffcf"
   },
   "outputs": [
    {
     "name": "stdout",
     "output_type": "stream",
     "text": [
      "The test set accuracy is 90.840000%\n",
      "             precision    recall  f1-score   support\n",
      "\n",
      "   negative       0.79      0.34      0.48      3665\n",
      "   positive       0.92      0.99      0.95     26335\n",
      "\n",
      "avg / total       0.90      0.91      0.89     30000\n",
      "\n"
     ]
    },
    {
     "data": {
      "image/png": "[encoded data removed]",
      "text/plain": [
       "<matplotlib.figure.Figure at 0x7f729dbdbbe0>"
      ]
     },
     "metadata": {
      "tags": []
     },
     "output_type": "display_data"
    }
   ],
   "source": [
    "test_set_report(tfidf_lr_rndom,standardized_data_test,y_test)"
   ]
  },
  {
   "cell_type": "code",
   "execution_count": 0,
   "metadata": {
    "colab": {},
    "colab_type": "code",
    "id": "eUY5WQLoxkZh"
   },
   "outputs": [],
   "source": [
    "b = lrclassifierresults(tfidf_lr_rndom)\n",
    "b.to_pickle('tfidf_lr_rndom.pkl')"
   ]
  },
  {
   "cell_type": "code",
   "execution_count": 0,
   "metadata": {
    "colab": {},
    "colab_type": "code",
    "id": "rrRXPvRtE3d_"
   },
   "outputs": [],
   "source": [
    "a = pd.read_pickle(\"/content/drive/My Drive/Dataset/AFR/tfidf_lr_rndom.pkl\")"
   ]
  },
  {
   "cell_type": "code",
   "execution_count": 82,
   "metadata": {
    "colab": {
     "base_uri": "https://localhost:8080/",
     "height": 294
    },
    "colab_type": "code",
    "executionInfo": {
     "elapsed": 810,
     "status": "ok",
     "timestamp": 1541726778231,
     "user": {
      "displayName": "Amarnath Manipatra",
      "photoUrl": "https://lh3.googleusercontent.com/-E4XehttjKtQ/AAAAAAAAAAI/AAAAAAAAIMM/qMw0AAGMQdQ/s64/photo.jpg",
      "userId": "14836087089649410046"
     },
     "user_tz": 0
    },
    "id": "xwQVe2b3E3oA",
    "outputId": "64a9d8ae-b18b-4491-d2ae-9bc129f498a7"
   },
   "outputs": [
    {
     "data": {
      "image/png": "[encoded data removed]",
      "text/plain": [
       "<matplotlib.figure.Figure at 0x7f0ba1c9f710>"
      ]
     },
     "metadata": {
      "tags": []
     },
     "output_type": "display_data"
    }
   ],
   "source": [
    "plotgraph(a)"
   ]
  },
  {
   "cell_type": "markdown",
   "metadata": {
    "colab_type": "text",
    "id": "QjS2SGbIahbq"
   },
   "source": [
    "**Check Sparsity**"
   ]
  },
  {
   "cell_type": "code",
   "execution_count": 97,
   "metadata": {
    "colab": {
     "base_uri": "https://localhost:8080/",
     "height": 153
    },
    "colab_type": "code",
    "executionInfo": {
     "elapsed": 31711,
     "status": "ok",
     "timestamp": 1541727085836,
     "user": {
      "displayName": "Amarnath Manipatra",
      "photoUrl": "https://lh3.googleusercontent.com/-E4XehttjKtQ/AAAAAAAAAAI/AAAAAAAAIMM/qMw0AAGMQdQ/s64/photo.jpg",
      "userId": "14836087089649410046"
     },
     "user_tz": 0
    },
    "id": "1T3p-uBFakau",
    "outputId": "3d2f9d9a-b37f-4d8c-cf23-e0d5c1650120"
   },
   "outputs": [
    {
     "name": "stdout",
     "output_type": "stream",
     "text": [
      "Number of non-zero weights for 1000 = 18139\n",
      "Accuracy for 1000 = 87.26\n",
      "Number of non-zero weights for 10 = 15654\n",
      "Accuracy for 10 = 87.93666666666667\n",
      "Number of non-zero weights for 0.0001 = 0\n",
      "Accuracy for 0.0001 = 87.78333333333333\n",
      "Number of non-zero weights for 0.8 = 14261\n",
      "Accuracy for 0.8 = 89.21333333333334\n"
     ]
    }
   ],
   "source": [
    "c = [1000,10,0.0001,0.8]\n",
    "for i in c:\n",
    "  checkSparsity(i,standardized_data,y_train,standardized_data_test,y_test)\n",
    "  "
   ]
  },
  {
   "cell_type": "markdown",
   "metadata": {
    "colab_type": "text",
    "id": "DjfZFDBf3LB5"
   },
   "source": [
    "**MULTI COLLINEARITY**"
   ]
  },
  {
   "cell_type": "code",
   "execution_count": 53,
   "metadata": {
    "colab": {
     "base_uri": "https://localhost:8080/",
     "height": 34
    },
    "colab_type": "code",
    "executionInfo": {
     "elapsed": 11897,
     "status": "ok",
     "timestamp": 1541726226559,
     "user": {
      "displayName": "Amarnath Manipatra",
      "photoUrl": "https://lh3.googleusercontent.com/-E4XehttjKtQ/AAAAAAAAAAI/AAAAAAAAIMM/qMw0AAGMQdQ/s64/photo.jpg",
      "userId": "14836087089649410046"
     },
     "user_tz": 0
    },
    "id": "nbVuFDTJ3KZk",
    "outputId": "9b29ca55-85b0-4651-d630-10f9e1e2a0f1"
   },
   "outputs": [
    {
     "name": "stdout",
     "output_type": "stream",
     "text": [
      "Size of weights to check multicollinearity is 31572 . Number of weights having a change greater then 30% is 93\n"
     ]
    }
   ],
   "source": [
    "checkMultiCollinearity(standardized_data, y_train,standardized_data_test,y_test)"
   ]
  },
  {
   "cell_type": "markdown",
   "metadata": {
    "colab_type": "text",
    "id": "Ne_r3Us43hQQ"
   },
   "source": [
    "**TOP FEATURES**"
   ]
  },
  {
   "cell_type": "code",
   "execution_count": 24,
   "metadata": {
    "colab": {
     "base_uri": "https://localhost:8080/",
     "height": 85
    },
    "colab_type": "code",
    "executionInfo": {
     "elapsed": 2754,
     "status": "ok",
     "timestamp": 1541723345061,
     "user": {
      "displayName": "Amarnath Manipatra",
      "photoUrl": "https://lh3.googleusercontent.com/-E4XehttjKtQ/AAAAAAAAAAI/AAAAAAAAIMM/qMw0AAGMQdQ/s64/photo.jpg",
      "userId": "14836087089649410046"
     },
     "user_tz": 0
    },
    "id": "wm-Xb2ua3tlk",
    "outputId": "a47c569c-ca4c-4223-d0e7-79f707bf4979"
   },
   "outputs": [
    {
     "data": {
      "text/plain": [
       "LogisticRegression(C=0.0001, class_weight=None, dual=False,\n",
       "          fit_intercept=True, intercept_scaling=1, max_iter=100,\n",
       "          multi_class='ovr', n_jobs=1, penalty='l2', random_state=None,\n",
       "          solver='liblinear', tol=0.0001, verbose=0, warm_start=False)"
      ]
     },
     "execution_count": 24,
     "metadata": {
      "tags": []
     },
     "output_type": "execute_result"
    }
   ],
   "source": [
    "clf = LogisticRegression(C = 0.0001, penalty= 'l2')\n",
    "clf.fit(standardized_data,y_train)"
   ]
  },
  {
   "cell_type": "code",
   "execution_count": 25,
   "metadata": {
    "colab": {
     "base_uri": "https://localhost:8080/",
     "height": 357
    },
    "colab_type": "code",
    "executionInfo": {
     "elapsed": 715,
     "status": "ok",
     "timestamp": 1541723346816,
     "user": {
      "displayName": "Amarnath Manipatra",
      "photoUrl": "https://lh3.googleusercontent.com/-E4XehttjKtQ/AAAAAAAAAAI/AAAAAAAAIMM/qMw0AAGMQdQ/s64/photo.jpg",
      "userId": "14836087089649410046"
     },
     "user_tz": 0
    },
    "id": "MPCTe46k3kSd",
    "outputId": "e4c361de-b1d6-4430-ac0e-3f79b8d7cc21"
   },
   "outputs": [
    {
     "name": "stdout",
     "output_type": "stream",
     "text": [
      "\t-0.0995\tdisappoint     \t\t\t\t0.1663\tgreat          \n",
      "\t-0.0814\tworst          \t\t\t\t0.1455\tlove           \n",
      "\t-0.0692\tterribl        \t\t\t\t0.1225\tbest           \n",
      "\t-0.0671\thorribl        \t\t\t\t0.1128\tgood           \n",
      "\t-0.0619\taw             \t\t\t\t0.0951\tdelici         \n",
      "\t-0.0605\treturn         \t\t\t\t0.0802\texcel          \n",
      "\t-0.0547\twast           \t\t\t\t0.0758\tfavorit        \n",
      "\t-0.0530\tthrew          \t\t\t\t0.0752\tperfect        \n",
      "\t-0.0514\tstale          \t\t\t\t0.0717\tfind           \n",
      "\t-0.0490\tbland          \t\t\t\t0.0697\tnice           \n",
      "\t-0.0482\tmoney          \t\t\t\t0.0678\twonder         \n",
      "\t-0.0479\tunfortun       \t\t\t\t0.0654\tmake           \n",
      "\t-0.0469\tbad            \t\t\t\t0.0649\tuse            \n",
      "\t-0.0436\tthought        \t\t\t\t0.0626\ttasti          \n",
      "\t-0.0413\tmayb           \t\t\t\t0.0599\teasi           \n",
      "\t-0.0411\tweak           \t\t\t\t0.0576\tthank          \n",
      "\t-0.0405\ttasteless      \t\t\t\t0.0564\tenjoy          \n",
      "\t-0.0403\tdisgust        \t\t\t\t0.0548\thigh           \n",
      "\t-0.0396\twors           \t\t\t\t0.0539\tlittl          \n",
      "\t-0.0376\trefund         \t\t\t\t0.0529\ttea            \n"
     ]
    }
   ],
   "source": [
    "topfeatures(tf_idf_vect, clf, n=20)"
   ]
  },
  {
   "cell_type": "markdown",
   "metadata": {
    "colab_type": "text",
    "id": "I6_fmG8FDqbP"
   },
   "source": [
    "# AVGW2V"
   ]
  },
  {
   "cell_type": "code",
   "execution_count": 0,
   "metadata": {
    "colab": {},
    "colab_type": "code",
    "id": "K4U6NfgtDkMU"
   },
   "outputs": [],
   "source": [
    "def wordList(sentence):\n",
    "    listword = []\n",
    "    for sent in sentence:\n",
    "        listword.append(sent.split())\n",
    "    return listword\n",
    "        "
   ]
  },
  {
   "cell_type": "code",
   "execution_count": 0,
   "metadata": {
    "colab": {},
    "colab_type": "code",
    "id": "OStwfONeDy_M"
   },
   "outputs": [],
   "source": [
    "list_clean_text = wordList(X_train['CleanedText'].values)"
   ]
  },
  {
   "cell_type": "code",
   "execution_count": 0,
   "metadata": {
    "colab": {},
    "colab_type": "code",
    "id": "X0foXNIoD0uo"
   },
   "outputs": [],
   "source": [
    "list_clean_text_test = wordList(X_test['CleanedText'].values)"
   ]
  },
  {
   "cell_type": "code",
   "execution_count": 57,
   "metadata": {
    "colab": {
     "base_uri": "https://localhost:8080/",
     "height": 34
    },
    "colab_type": "code",
    "executionInfo": {
     "elapsed": 2103,
     "status": "ok",
     "timestamp": 1541726306935,
     "user": {
      "displayName": "Amarnath Manipatra",
      "photoUrl": "https://lh3.googleusercontent.com/-E4XehttjKtQ/AAAAAAAAAAI/AAAAAAAAIMM/qMw0AAGMQdQ/s64/photo.jpg",
      "userId": "14836087089649410046"
     },
     "user_tz": 0
    },
    "id": "Ck9m8amzD2h0",
    "outputId": "9747d8dd-4088-44cc-eada-e1f9ee02082c"
   },
   "outputs": [
    {
     "name": "stdout",
     "output_type": "stream",
     "text": [
      "--- 0.9508278369903564 seconds ---\n"
     ]
    }
   ],
   "source": [
    "import time\n",
    "start_time = time.time()\n",
    "w2v_model = Word2Vec(list_clean_text, min_count = 5, size = 50, workers = -1 )\n",
    "print(\"--- %s seconds ---\" % (time.time() - start_time))"
   ]
  },
  {
   "cell_type": "code",
   "execution_count": 0,
   "metadata": {
    "colab": {},
    "colab_type": "code",
    "id": "kQPXNiB2D5Qt"
   },
   "outputs": [],
   "source": [
    "w2v_model.save(\"word2vec_100000.model\")"
   ]
  },
  {
   "cell_type": "code",
   "execution_count": 0,
   "metadata": {
    "colab": {},
    "colab_type": "code",
    "id": "1YbY6qveEZ6A"
   },
   "outputs": [],
   "source": [
    "uploadf('word2vec_100000.model')"
   ]
  },
  {
   "cell_type": "code",
   "execution_count": 59,
   "metadata": {
    "colab": {
     "base_uri": "https://localhost:8080/",
     "height": 71
    },
    "colab_type": "code",
    "executionInfo": {
     "elapsed": 464,
     "status": "ok",
     "timestamp": 1541726310540,
     "user": {
      "displayName": "Amarnath Manipatra",
      "photoUrl": "https://lh3.googleusercontent.com/-E4XehttjKtQ/AAAAAAAAAAI/AAAAAAAAIMM/qMw0AAGMQdQ/s64/photo.jpg",
      "userId": "14836087089649410046"
     },
     "user_tz": 0
    },
    "id": "i5aDJf1jEcqM",
    "outputId": "a3665b5a-b097-4911-bb39-618ab1c93150"
   },
   "outputs": [
    {
     "name": "stdout",
     "output_type": "stream",
     "text": [
      "number of words occuring more than 5 times 10738\n",
      "sample words ['purchas', 'wedg', 'oro', 'central', 'market', 'cost', 'say', 'impress', 'look', 'hard', 'chees', 'add', 'mixtur', 'bacon', 'wrap', 'jalapeno', 'turn', 'great', 'choic', 'usual', 'use', 'parmesan', 'realli', 'want', 'tri', 'someth', 'new', 'also', 'grate', 'caesar', 'salad', 'sharp', 'flavor', 'went', 'dress', 'bold', 'nose', 'soft', 'finish', 'pair', 'red', 'white', 'wine', 'whatev', 'reason', 'give', 'think', 'pleasant', 'surpris', 'wont']\n"
     ]
    }
   ],
   "source": [
    "w2v_words = list(w2v_model.wv.vocab)\n",
    "print(\"number of words occuring more than 5 times\", len(w2v_words))\n",
    "print(\"sample words\", w2v_words[0:50])"
   ]
  },
  {
   "cell_type": "code",
   "execution_count": 0,
   "metadata": {
    "colab": {
     "base_uri": "https://localhost:8080/",
     "height": 34
    },
    "colab_type": "code",
    "executionInfo": {
     "elapsed": 412,
     "status": "ok",
     "timestamp": 1540652940366,
     "user": {
      "displayName": "Amarnath Manipatra",
      "photoUrl": "https://lh3.googleusercontent.com/-E4XehttjKtQ/AAAAAAAAAAI/AAAAAAAAIMM/qMw0AAGMQdQ/s64/photo.jpg",
      "userId": "14836087089649410046"
     },
     "user_tz": -60
    },
    "id": "-jFR5y-1Eghh",
    "outputId": "8ac3cd4d-1d86-405f-8805-161dd7c994ac"
   },
   "outputs": [
    {
     "data": {
      "text/plain": [
       "list"
      ]
     },
     "execution_count": 52,
     "metadata": {
      "tags": []
     },
     "output_type": "execute_result"
    }
   ],
   "source": [
    "type(w2v_words)"
   ]
  },
  {
   "cell_type": "code",
   "execution_count": 0,
   "metadata": {
    "colab": {},
    "colab_type": "code",
    "id": "0Oxp9Z3sEjoi"
   },
   "outputs": [],
   "source": [
    "with open('w2v_words_list_100000.pkl', 'wb') as f:\n",
    "      pickle.dump(w2v_words, f)"
   ]
  },
  {
   "cell_type": "code",
   "execution_count": 0,
   "metadata": {
    "colab": {},
    "colab_type": "code",
    "id": "r1l8BGzOFDpV"
   },
   "outputs": [],
   "source": [
    "def w2vavg(clean,w2v_model,w2v_words):\n",
    "    sent_vectors = [] # the avg-w2v for each sentence/review is stored in this list\n",
    "    for sent in clean:\n",
    "        sent_vec = np.zeros(50) # as word vectors are of zero length\n",
    "        cnt_words =0; # num of words with a valid vector in the sentence/review\n",
    "        for word in sent: # for each word in a review/sentence\n",
    "            if word in w2v_words:\n",
    "                vec = w2v_model.wv[word]\n",
    "                sent_vec += vec\n",
    "                cnt_words += 1\n",
    "        if cnt_words != 0:\n",
    "            sent_vec /= cnt_words\n",
    "        sent_vectors.append(sent_vec)\n",
    "    return sent_vectors\n"
   ]
  },
  {
   "cell_type": "code",
   "execution_count": 62,
   "metadata": {
    "colab": {
     "base_uri": "https://localhost:8080/",
     "height": 68
    },
    "colab_type": "code",
    "executionInfo": {
     "elapsed": 77931,
     "status": "ok",
     "timestamp": 1541726400408,
     "user": {
      "displayName": "Amarnath Manipatra",
      "photoUrl": "https://lh3.googleusercontent.com/-E4XehttjKtQ/AAAAAAAAAAI/AAAAAAAAIMM/qMw0AAGMQdQ/s64/photo.jpg",
      "userId": "14836087089649410046"
     },
     "user_tz": 0
    },
    "id": "maN27S4xEyDt",
    "outputId": "33cf73a5-4464-4581-ac46-1ee8b3814b38"
   },
   "outputs": [
    {
     "name": "stdout",
     "output_type": "stream",
     "text": [
      "--- 77.44968962669373 seconds ---\n",
      "70000\n",
      "50\n"
     ]
    }
   ],
   "source": [
    "import time\n",
    "start_time = time.time()\n",
    "sent_vectors_train = w2vavg(list_clean_text,w2v_model,w2v_words)\n",
    "print(\"--- %s seconds ---\" % (time.time() - start_time))\n",
    "print(len(sent_vectors_train))\n",
    "print(len(sent_vectors_train[0]))"
   ]
  },
  {
   "cell_type": "code",
   "execution_count": 63,
   "metadata": {
    "colab": {
     "base_uri": "https://localhost:8080/",
     "height": 51
    },
    "colab_type": "code",
    "executionInfo": {
     "elapsed": 34421,
     "status": "ok",
     "timestamp": 1541726434934,
     "user": {
      "displayName": "Amarnath Manipatra",
      "photoUrl": "https://lh3.googleusercontent.com/-E4XehttjKtQ/AAAAAAAAAAI/AAAAAAAAIMM/qMw0AAGMQdQ/s64/photo.jpg",
      "userId": "14836087089649410046"
     },
     "user_tz": 0
    },
    "id": "1B4jrg75E8qD",
    "outputId": "9de901d3-a760-4d90-930f-e3b24a5a7620"
   },
   "outputs": [
    {
     "name": "stdout",
     "output_type": "stream",
     "text": [
      "30000\n",
      "50\n"
     ]
    }
   ],
   "source": [
    "sent_vectors_test = w2vavg(list_clean_text_test,w2v_model,w2v_words)\n",
    "print(len(sent_vectors_test))\n",
    "print(len(sent_vectors_test[0]))"
   ]
  },
  {
   "cell_type": "code",
   "execution_count": 0,
   "metadata": {
    "colab": {},
    "colab_type": "code",
    "id": "DwqziJ-lGWtl"
   },
   "outputs": [],
   "source": [
    "with open('/content/drive/My Drive/Dataset/AFR/sent_vectors_train_w2v_100000.pkl', 'rb') as f:\n",
    "             sent_vectors_train = pickle.load(f)\n",
    "with open('/content/drive/My Drive/Dataset/AFR/sent_vectors_test_w2v_100000.pkl', 'rb') as f:\n",
    "             sent_vectors_test = pickle.load(f)"
   ]
  },
  {
   "cell_type": "code",
   "execution_count": 0,
   "metadata": {
    "colab": {},
    "colab_type": "code",
    "id": "Ou2QAB_gcSH8"
   },
   "outputs": [],
   "source": [
    "sent_vectors_final_train = np.asarray(sent_vectors_train)"
   ]
  },
  {
   "cell_type": "code",
   "execution_count": 0,
   "metadata": {
    "colab": {},
    "colab_type": "code",
    "id": "yeKhl26ocTso"
   },
   "outputs": [],
   "source": [
    "sent_vectors_final_test = np.asarray(sent_vectors_test)"
   ]
  },
  {
   "cell_type": "code",
   "execution_count": 0,
   "metadata": {
    "colab": {},
    "colab_type": "code",
    "id": "G0_r2yDockbv"
   },
   "outputs": [],
   "source": [
    "standardized_data, standardized_data_test = standardisation(True,sent_vectors_final_train,sent_vectors_final_test)"
   ]
  },
  {
   "cell_type": "code",
   "execution_count": 0,
   "metadata": {
    "colab": {},
    "colab_type": "code",
    "id": "r1lSaXK4bn8M"
   },
   "outputs": [],
   "source": [
    "avgw2vlr = lr_classifier()"
   ]
  },
  {
   "cell_type": "code",
   "execution_count": 0,
   "metadata": {
    "colab": {
     "base_uri": "https://localhost:8080/",
     "height": 221
    },
    "colab_type": "code",
    "executionInfo": {
     "elapsed": 25918,
     "status": "ok",
     "timestamp": 1540743190778,
     "user": {
      "displayName": "Amarnath Manipatra",
      "photoUrl": "https://lh3.googleusercontent.com/-E4XehttjKtQ/AAAAAAAAAAI/AAAAAAAAIMM/qMw0AAGMQdQ/s64/photo.jpg",
      "userId": "14836087089649410046"
     },
     "user_tz": 0
    },
    "id": "gW84LYF0b_Yw",
    "outputId": "3e70766a-64de-470d-f8d4-2d6ebe49cf72"
   },
   "outputs": [
    {
     "name": "stdout",
     "output_type": "stream",
     "text": [
      "Fitting 3 folds for each of 14 candidates, totalling 42 fits\n"
     ]
    },
    {
     "name": "stderr",
     "output_type": "stream",
     "text": [
      "[Parallel(n_jobs=2)]: Done  42 out of  42 | elapsed:   23.9s finished\n"
     ]
    },
    {
     "data": {
      "text/plain": [
       "GridSearchCV(cv=TimeSeriesSplit(max_train_size=None, n_splits=3),\n",
       "       error_score='raise',\n",
       "       estimator=LogisticRegression(C=1.0, class_weight=None, dual=False, fit_intercept=True,\n",
       "          intercept_scaling=1, max_iter=100, multi_class='ovr', n_jobs=1,\n",
       "          penalty='l2', random_state=None, solver='liblinear', tol=0.0001,\n",
       "          verbose=0, warm_start=False),\n",
       "       fit_params=None, iid=True, n_jobs=2,\n",
       "       param_grid={'penalty': ['l1', 'l2'], 'C': [1000, 0.0001, 100, 200, 500, 1, 10]},\n",
       "       pre_dispatch='2*n_jobs', refit=True, return_train_score='warn',\n",
       "       scoring=None, verbose=1)"
      ]
     },
     "execution_count": 86,
     "metadata": {
      "tags": []
     },
     "output_type": "execute_result"
    }
   ],
   "source": [
    "avgw2vlr.fit(standardized_data,y_train)"
   ]
  },
  {
   "cell_type": "code",
   "execution_count": 0,
   "metadata": {
    "colab": {
     "base_uri": "https://localhost:8080/",
     "height": 51
    },
    "colab_type": "code",
    "executionInfo": {
     "elapsed": 468,
     "status": "ok",
     "timestamp": 1540743247430,
     "user": {
      "displayName": "Amarnath Manipatra",
      "photoUrl": "https://lh3.googleusercontent.com/-E4XehttjKtQ/AAAAAAAAAAI/AAAAAAAAIMM/qMw0AAGMQdQ/s64/photo.jpg",
      "userId": "14836087089649410046"
     },
     "user_tz": 0
    },
    "id": "RkqTyzPHbr2O",
    "outputId": "c61e731b-92c1-404f-8921-75610c93c5f5"
   },
   "outputs": [
    {
     "name": "stdout",
     "output_type": "stream",
     "text": [
      "{'C': 0.0001, 'penalty': 'l2'}\n",
      "0.8775238095238095\n"
     ]
    }
   ],
   "source": [
    "train_set_report(avgw2vlr)"
   ]
  },
  {
   "cell_type": "code",
   "execution_count": 0,
   "metadata": {
    "colab": {
     "base_uri": "https://localhost:8080/",
     "height": 430
    },
    "colab_type": "code",
    "executionInfo": {
     "elapsed": 1971,
     "status": "ok",
     "timestamp": 1540743292695,
     "user": {
      "displayName": "Amarnath Manipatra",
      "photoUrl": "https://lh3.googleusercontent.com/-E4XehttjKtQ/AAAAAAAAAAI/AAAAAAAAIMM/qMw0AAGMQdQ/s64/photo.jpg",
      "userId": "14836087089649410046"
     },
     "user_tz": 0
    },
    "id": "emX-dihKdD5p",
    "outputId": "3e21f2c4-5b06-48dd-cef9-f693d9ccdaca"
   },
   "outputs": [
    {
     "name": "stdout",
     "output_type": "stream",
     "text": [
      "The test set accuracy is 87.776667%\n",
      "             precision    recall  f1-score   support\n",
      "\n",
      "   negative       0.45      0.00      0.00      3665\n",
      "   positive       0.88      1.00      0.93     26335\n",
      "\n",
      "avg / total       0.83      0.88      0.82     30000\n",
      "\n"
     ]
    },
    {
     "data": {
      "image/png": "[encoded data removed]",
      "text/plain": [
       "<matplotlib.figure.Figure at 0x7f727dafbb70>"
      ]
     },
     "metadata": {
      "tags": []
     },
     "output_type": "display_data"
    }
   ],
   "source": [
    "test_set_report(avgw2vlr,standardized_data_test,y_test)"
   ]
  },
  {
   "cell_type": "code",
   "execution_count": 0,
   "metadata": {
    "colab": {},
    "colab_type": "code",
    "id": "vDDGg6ASxuvA"
   },
   "outputs": [],
   "source": [
    "b = lrclassifierresults(avgw2vlr)\n",
    "b.to_pickle('avgw2vlr.pkl')"
   ]
  },
  {
   "cell_type": "code",
   "execution_count": 0,
   "metadata": {
    "colab": {},
    "colab_type": "code",
    "id": "X9K0ZPvEFBtN"
   },
   "outputs": [],
   "source": [
    "a = pd.read_pickle(\"/content/drive/My Drive/Dataset/AFR/avgw2vlr.pkl\")"
   ]
  },
  {
   "cell_type": "code",
   "execution_count": 84,
   "metadata": {
    "colab": {
     "base_uri": "https://localhost:8080/",
     "height": 294
    },
    "colab_type": "code",
    "executionInfo": {
     "elapsed": 874,
     "status": "ok",
     "timestamp": 1541726843577,
     "user": {
      "displayName": "Amarnath Manipatra",
      "photoUrl": "https://lh3.googleusercontent.com/-E4XehttjKtQ/AAAAAAAAAAI/AAAAAAAAIMM/qMw0AAGMQdQ/s64/photo.jpg",
      "userId": "14836087089649410046"
     },
     "user_tz": 0
    },
    "id": "IjvYxpOVFIBq",
    "outputId": "6d7339d5-d4c7-4ffa-9b29-998061b08f2a"
   },
   "outputs": [
    {
     "data": {
      "image/png": "[encoded data removed]",
      "text/plain": [
       "<matplotlib.figure.Figure at 0x7f0ba1be9240>"
      ]
     },
     "metadata": {
      "tags": []
     },
     "output_type": "display_data"
    }
   ],
   "source": [
    "plotgraph(a)"
   ]
  },
  {
   "cell_type": "markdown",
   "metadata": {
    "colab_type": "text",
    "id": "byGvH3kEdV7W"
   },
   "source": [
    "**Randomized Search**"
   ]
  },
  {
   "cell_type": "code",
   "execution_count": 0,
   "metadata": {
    "colab": {},
    "colab_type": "code",
    "id": "RFEkkblldZgc"
   },
   "outputs": [],
   "source": [
    "avgw2v_lr_rndom = lr_classifier_random()"
   ]
  },
  {
   "cell_type": "code",
   "execution_count": 0,
   "metadata": {
    "colab": {
     "base_uri": "https://localhost:8080/",
     "height": 221
    },
    "colab_type": "code",
    "executionInfo": {
     "elapsed": 18263,
     "status": "ok",
     "timestamp": 1540743420665,
     "user": {
      "displayName": "Amarnath Manipatra",
      "photoUrl": "https://lh3.googleusercontent.com/-E4XehttjKtQ/AAAAAAAAAAI/AAAAAAAAIMM/qMw0AAGMQdQ/s64/photo.jpg",
      "userId": "14836087089649410046"
     },
     "user_tz": 0
    },
    "id": "JPCsTDthdiji",
    "outputId": "2d98cbff-8125-4d64-d6a1-fdf570f2f93c"
   },
   "outputs": [
    {
     "name": "stdout",
     "output_type": "stream",
     "text": [
      "Fitting 3 folds for each of 10 candidates, totalling 30 fits\n"
     ]
    },
    {
     "name": "stderr",
     "output_type": "stream",
     "text": [
      "[Parallel(n_jobs=2)]: Done  30 out of  30 | elapsed:   16.2s finished\n"
     ]
    },
    {
     "data": {
      "text/plain": [
       "RandomizedSearchCV(cv=TimeSeriesSplit(max_train_size=None, n_splits=3),\n",
       "          error_score='raise',\n",
       "          estimator=LogisticRegression(C=1.0, class_weight=None, dual=False, fit_intercept=True,\n",
       "          intercept_scaling=1, max_iter=100, multi_class='ovr', n_jobs=1,\n",
       "          penalty='l2', random_state=None, solver='liblinear', tol=0.0001,\n",
       "          verbose=0, warm_start=False),\n",
       "          fit_params=None, iid=True, n_iter=10, n_jobs=2,\n",
       "          param_distributions={'penalty': ['l1', 'l2'], 'C': [1000, 0.0001, 100, 200, 500, 1, 0.8, 10]},\n",
       "          pre_dispatch='2*n_jobs', random_state=None, refit=True,\n",
       "          return_train_score='warn', scoring=None, verbose=1)"
      ]
     },
     "execution_count": 92,
     "metadata": {
      "tags": []
     },
     "output_type": "execute_result"
    }
   ],
   "source": [
    "avgw2v_lr_rndom.fit(standardized_data,y_train)"
   ]
  },
  {
   "cell_type": "code",
   "execution_count": 0,
   "metadata": {
    "colab": {
     "base_uri": "https://localhost:8080/",
     "height": 51
    },
    "colab_type": "code",
    "executionInfo": {
     "elapsed": 492,
     "status": "ok",
     "timestamp": 1540743451461,
     "user": {
      "displayName": "Amarnath Manipatra",
      "photoUrl": "https://lh3.googleusercontent.com/-E4XehttjKtQ/AAAAAAAAAAI/AAAAAAAAIMM/qMw0AAGMQdQ/s64/photo.jpg",
      "userId": "14836087089649410046"
     },
     "user_tz": 0
    },
    "id": "3NTHG1Ppdwr6",
    "outputId": "72790522-2672-44fe-f023-1bedbbefa3c1"
   },
   "outputs": [
    {
     "name": "stdout",
     "output_type": "stream",
     "text": [
      "{'penalty': 'l2', 'C': 0.0001}\n",
      "0.8775238095238095\n"
     ]
    }
   ],
   "source": [
    "train_set_report(avgw2v_lr_rndom)"
   ]
  },
  {
   "cell_type": "code",
   "execution_count": 0,
   "metadata": {
    "colab": {
     "base_uri": "https://localhost:8080/",
     "height": 430
    },
    "colab_type": "code",
    "executionInfo": {
     "elapsed": 1698,
     "status": "ok",
     "timestamp": 1540743485916,
     "user": {
      "displayName": "Amarnath Manipatra",
      "photoUrl": "https://lh3.googleusercontent.com/-E4XehttjKtQ/AAAAAAAAAAI/AAAAAAAAIMM/qMw0AAGMQdQ/s64/photo.jpg",
      "userId": "14836087089649410046"
     },
     "user_tz": 0
    },
    "id": "HgyUzBDYd19X",
    "outputId": "be4a44c9-b6d4-42a1-cc22-4efd557ff344"
   },
   "outputs": [
    {
     "name": "stdout",
     "output_type": "stream",
     "text": [
      "The test set accuracy is 87.776667%\n",
      "             precision    recall  f1-score   support\n",
      "\n",
      "   negative       0.45      0.00      0.00      3665\n",
      "   positive       0.88      1.00      0.93     26335\n",
      "\n",
      "avg / total       0.83      0.88      0.82     30000\n",
      "\n"
     ]
    },
    {
     "data": {
      "image/png": "[encoded data removed]",
      "text/plain": [
       "<matplotlib.figure.Figure at 0x7f727fde93c8>"
      ]
     },
     "metadata": {
      "tags": []
     },
     "output_type": "display_data"
    }
   ],
   "source": [
    "test_set_report(avgw2v_lr_rndom,standardized_data_test,y_test)"
   ]
  },
  {
   "cell_type": "code",
   "execution_count": 0,
   "metadata": {
    "colab": {},
    "colab_type": "code",
    "id": "XO2zyllcx6Sr"
   },
   "outputs": [],
   "source": [
    "b = lrclassifierresults(avgw2v_lr_rndom)\n",
    "b.to_pickle('avgw2v_lr_rndom.pkl')"
   ]
  },
  {
   "cell_type": "code",
   "execution_count": 0,
   "metadata": {
    "colab": {},
    "colab_type": "code",
    "id": "XkWdY0yKFTFI"
   },
   "outputs": [],
   "source": [
    "a = pd.read_pickle(\"/content/drive/My Drive/Dataset/AFR/avgw2v_lr_rndom.pkl\")"
   ]
  },
  {
   "cell_type": "code",
   "execution_count": 86,
   "metadata": {
    "colab": {
     "base_uri": "https://localhost:8080/",
     "height": 294
    },
    "colab_type": "code",
    "executionInfo": {
     "elapsed": 455,
     "status": "ok",
     "timestamp": 1541726891353,
     "user": {
      "displayName": "Amarnath Manipatra",
      "photoUrl": "https://lh3.googleusercontent.com/-E4XehttjKtQ/AAAAAAAAAAI/AAAAAAAAIMM/qMw0AAGMQdQ/s64/photo.jpg",
      "userId": "14836087089649410046"
     },
     "user_tz": 0
    },
    "id": "gbIpeb3TFTMN",
    "outputId": "77dd1a23-0bd1-4ef8-a676-6f49c1bbfcf3"
   },
   "outputs": [
    {
     "data": {
      "image/png": "[encoded data removed]",
      "text/plain": [
       "<matplotlib.figure.Figure at 0x7f0ba1c815c0>"
      ]
     },
     "metadata": {
      "tags": []
     },
     "output_type": "display_data"
    }
   ],
   "source": [
    "plotgraph(a)"
   ]
  },
  {
   "cell_type": "markdown",
   "metadata": {
    "colab_type": "text",
    "id": "gTcuLNLoeCSF"
   },
   "source": [
    "**Check Sparsity**"
   ]
  },
  {
   "cell_type": "code",
   "execution_count": 102,
   "metadata": {
    "colab": {
     "base_uri": "https://localhost:8080/",
     "height": 153
    },
    "colab_type": "code",
    "executionInfo": {
     "elapsed": 4816,
     "status": "ok",
     "timestamp": 1541727217580,
     "user": {
      "displayName": "Amarnath Manipatra",
      "photoUrl": "https://lh3.googleusercontent.com/-E4XehttjKtQ/AAAAAAAAAAI/AAAAAAAAIMM/qMw0AAGMQdQ/s64/photo.jpg",
      "userId": "14836087089649410046"
     },
     "user_tz": 0
    },
    "id": "vuamFDr0eE8U",
    "outputId": "b183aa37-3fbd-4ff8-a6c7-5c13b80c51c5"
   },
   "outputs": [
    {
     "name": "stdout",
     "output_type": "stream",
     "text": [
      "Number of non-zero weights for 1000 = 50\n",
      "Accuracy for 1000 = 87.76\n",
      "Number of non-zero weights for 10 = 50\n",
      "Accuracy for 10 = 87.76\n",
      "Number of non-zero weights for 0.0001 = 0\n",
      "Accuracy for 0.0001 = 87.78333333333333\n",
      "Number of non-zero weights for 0.8 = 50\n",
      "Accuracy for 0.8 = 87.75666666666667\n"
     ]
    }
   ],
   "source": [
    "c = [1000,10,0.0001,0.8]\n",
    "for i in c:\n",
    "  checkSparsity(i,standardized_data,y_train,standardized_data_test,y_test)\n",
    "  "
   ]
  },
  {
   "cell_type": "markdown",
   "metadata": {
    "colab_type": "text",
    "id": "X2zkvJAh7XKs"
   },
   "source": [
    "**MultiCollinearity**"
   ]
  },
  {
   "cell_type": "code",
   "execution_count": 67,
   "metadata": {
    "colab": {
     "base_uri": "https://localhost:8080/",
     "height": 34
    },
    "colab_type": "code",
    "executionInfo": {
     "elapsed": 3183,
     "status": "ok",
     "timestamp": 1541726440463,
     "user": {
      "displayName": "Amarnath Manipatra",
      "photoUrl": "https://lh3.googleusercontent.com/-E4XehttjKtQ/AAAAAAAAAAI/AAAAAAAAIMM/qMw0AAGMQdQ/s64/photo.jpg",
      "userId": "14836087089649410046"
     },
     "user_tz": 0
    },
    "id": "yxjMlEva8Cys",
    "outputId": "0ca50434-dd0e-43d4-f1b0-a7267905a4b9"
   },
   "outputs": [
    {
     "name": "stdout",
     "output_type": "stream",
     "text": [
      "Size of weights to check multicollinearity is 50 . Number of weights having a change greater then 30% is 0\n"
     ]
    }
   ],
   "source": [
    "checkMultiCollinearity(standardized_data, y_train,standardized_data_test,y_test)"
   ]
  },
  {
   "cell_type": "code",
   "execution_count": 0,
   "metadata": {
    "colab": {},
    "colab_type": "code",
    "id": "mKZtwUf9FJTy"
   },
   "outputs": [],
   "source": [
    "with open('sent_vectors_train_w2v_100000.pkl', 'wb') as f:\n",
    "      pickle.dump(sent_vectors_train, f)"
   ]
  },
  {
   "cell_type": "code",
   "execution_count": 0,
   "metadata": {
    "colab": {},
    "colab_type": "code",
    "id": "x8X6ou-aFpBO"
   },
   "outputs": [],
   "source": [
    "with open('sent_vectors_test_w2v_100000.pkl', 'wb') as f:\n",
    "      pickle.dump(sent_vectors_test, f)"
   ]
  },
  {
   "cell_type": "markdown",
   "metadata": {
    "colab_type": "text",
    "id": "cqvoZPwQF_xN"
   },
   "source": [
    "# tfidfw2v"
   ]
  },
  {
   "cell_type": "code",
   "execution_count": 0,
   "metadata": {
    "colab": {},
    "colab_type": "code",
    "id": "yn0rZLIeF-mf"
   },
   "outputs": [],
   "source": [
    "tfidf_feat = tf_idf_vect.get_feature_names()"
   ]
  },
  {
   "cell_type": "code",
   "execution_count": 0,
   "metadata": {
    "colab": {},
    "colab_type": "code",
    "id": "TC-TzCVSGFBn"
   },
   "outputs": [],
   "source": [
    "# TF-IDF weighted Word2Vec\n",
    "def tfidfw2v(final_tf_idf,tfidf_feat,list_clean_text,w2v_model,w2v_words):\n",
    "    tfidf_sent_vectors = []; # the tfidf-w2v for each sentence/review is stored in this list\n",
    "    row=0;\n",
    "    for sent in list_clean_text: # for each review/sentence \n",
    "        sent_vec = np.zeros(50) # as word vectors are of zero length\n",
    "        weight_sum =0; # num of words with a valid vector in the sentence/review\n",
    "        for word in sent: # for each word in a review/sentence\n",
    "            if (word in w2v_words and (word in tfidf_feat)):\n",
    "                vec = w2v_model.wv[word]\n",
    "                # obtain the tf_idfidf of a word in a sentence/review\n",
    "                tf_idf = final_tf_idf[row, tfidf_feat.index(word)]\n",
    "                sent_vec += (vec * tf_idf)\n",
    "                weight_sum += tf_idf\n",
    "                \n",
    "        if weight_sum != 0:\n",
    "            sent_vec /= weight_sum\n",
    "        tfidf_sent_vectors.append(sent_vec)\n",
    "        row += 1\n",
    "    return tfidf_sent_vectors"
   ]
  },
  {
   "cell_type": "code",
   "execution_count": 0,
   "metadata": {
    "colab": {
     "base_uri": "https://localhost:8080/",
     "height": 68
    },
    "colab_type": "code",
    "executionInfo": {
     "elapsed": 2349524,
     "status": "ok",
     "timestamp": 1540655703989,
     "user": {
      "displayName": "Amarnath Manipatra",
      "photoUrl": "https://lh3.googleusercontent.com/-E4XehttjKtQ/AAAAAAAAAAI/AAAAAAAAIMM/qMw0AAGMQdQ/s64/photo.jpg",
      "userId": "14836087089649410046"
     },
     "user_tz": -60
    },
    "id": "YALhAbF6GGzs",
    "outputId": "300ca885-2551-4437-d98e-888d87faf854"
   },
   "outputs": [
    {
     "name": "stdout",
     "output_type": "stream",
     "text": [
      "70000\n",
      "50\n",
      "--- 2348.2121398448944 seconds ---\n"
     ]
    }
   ],
   "source": [
    "import time\n",
    "start_time = time.time()\n",
    "sent_vectors_train = tfidfw2v(final_tf_idf,tfidf_feat,list_clean_text,w2v_model,w2v_words)\n",
    "print(len(sent_vectors_train))\n",
    "print(len(sent_vectors_train[0]))\n",
    "print(\"--- %s seconds ---\" % (time.time() - start_time))\n"
   ]
  },
  {
   "cell_type": "code",
   "execution_count": 0,
   "metadata": {
    "colab": {},
    "colab_type": "code",
    "id": "wme5yRl2GI1Q"
   },
   "outputs": [],
   "source": [
    "with open('sent_vectors_train_tfidfw2v_100000.pkl', 'wb') as f:\n",
    "      pickle.dump(sent_vectors_train, f)"
   ]
  },
  {
   "cell_type": "code",
   "execution_count": 0,
   "metadata": {
    "colab": {
     "base_uri": "https://localhost:8080/",
     "height": 51
    },
    "colab_type": "code",
    "executionInfo": {
     "elapsed": 1016994,
     "status": "ok",
     "timestamp": 1540657166303,
     "user": {
      "displayName": "Amarnath Manipatra",
      "photoUrl": "https://lh3.googleusercontent.com/-E4XehttjKtQ/AAAAAAAAAAI/AAAAAAAAIMM/qMw0AAGMQdQ/s64/photo.jpg",
      "userId": "14836087089649410046"
     },
     "user_tz": -60
    },
    "id": "DFfaM96pQgaL",
    "outputId": "48b906f2-8863-47fb-a4ba-ae961edfb283"
   },
   "outputs": [
    {
     "name": "stdout",
     "output_type": "stream",
     "text": [
      "30000\n",
      "50\n"
     ]
    }
   ],
   "source": [
    "sent_vectors_test = tfidfw2v(final_tf_idf,tfidf_feat,list_clean_text_test,w2v_model,w2v_words)\n",
    "print(len(sent_vectors_test))\n",
    "print(len(sent_vectors_test[0]))"
   ]
  },
  {
   "cell_type": "code",
   "execution_count": 0,
   "metadata": {
    "colab": {},
    "colab_type": "code",
    "id": "9Zfec9JQQzKF"
   },
   "outputs": [],
   "source": [
    "with open('sent_vectors_test_tfidfw2v_100000.pkl', 'wb') as f:\n",
    "      pickle.dump(sent_vectors_test, f)"
   ]
  },
  {
   "cell_type": "code",
   "execution_count": 0,
   "metadata": {
    "colab": {},
    "colab_type": "code",
    "id": "wSBQeRwwRM-k"
   },
   "outputs": [],
   "source": [
    "with open('/content/drive/My Drive/Dataset/AFR/sent_vectors_train_tfidfw2v_100000.pkl', 'rb') as f:\n",
    "             sent_vectors_train = pickle.load(f)\n",
    "with open('/content/drive/My Drive/Dataset/AFR/sent_vectors_test_tfidfw2v_100000.pkl', 'rb') as f:\n",
    "             sent_vectors_test = pickle.load(f)"
   ]
  },
  {
   "cell_type": "code",
   "execution_count": 0,
   "metadata": {
    "colab": {},
    "colab_type": "code",
    "id": "OlP-TnC5y6M3"
   },
   "outputs": [],
   "source": [
    "sent_vectors_final_train = np.asarray(sent_vectors_train)\n",
    "sent_vectors_final_test  = np.asarray(sent_vectors_test)\n"
   ]
  },
  {
   "cell_type": "code",
   "execution_count": 0,
   "metadata": {
    "colab": {
     "base_uri": "https://localhost:8080/",
     "height": 34
    },
    "colab_type": "code",
    "executionInfo": {
     "elapsed": 511,
     "status": "ok",
     "timestamp": 1540749152210,
     "user": {
      "displayName": "Amarnath Manipatra",
      "photoUrl": "https://lh3.googleusercontent.com/-E4XehttjKtQ/AAAAAAAAAAI/AAAAAAAAIMM/qMw0AAGMQdQ/s64/photo.jpg",
      "userId": "14836087089649410046"
     },
     "user_tz": 0
    },
    "id": "951XURlezBXd",
    "outputId": "4f40c316-ca81-4040-f5e5-1fc5e94e4dd0"
   },
   "outputs": [
    {
     "data": {
      "text/plain": [
       "(30000, 50)"
      ]
     },
     "execution_count": 119,
     "metadata": {
      "tags": []
     },
     "output_type": "execute_result"
    }
   ],
   "source": [
    "sent_vectors_final_test.shape"
   ]
  },
  {
   "cell_type": "code",
   "execution_count": 0,
   "metadata": {
    "colab": {},
    "colab_type": "code",
    "id": "obgZFXSozPuK"
   },
   "outputs": [],
   "source": [
    "standardized_data, standardized_data_test = standardisation(False,sent_vectors_final_train,sent_vectors_final_test)"
   ]
  },
  {
   "cell_type": "code",
   "execution_count": 0,
   "metadata": {
    "colab": {},
    "colab_type": "code",
    "id": "8oMRaudzzv0Y"
   },
   "outputs": [],
   "source": [
    "tfidfw2v_lr = lr_classifier()"
   ]
  },
  {
   "cell_type": "code",
   "execution_count": 0,
   "metadata": {
    "colab": {
     "base_uri": "https://localhost:8080/",
     "height": 221
    },
    "colab_type": "code",
    "executionInfo": {
     "elapsed": 26405,
     "status": "ok",
     "timestamp": 1540749302997,
     "user": {
      "displayName": "Amarnath Manipatra",
      "photoUrl": "https://lh3.googleusercontent.com/-E4XehttjKtQ/AAAAAAAAAAI/AAAAAAAAIMM/qMw0AAGMQdQ/s64/photo.jpg",
      "userId": "14836087089649410046"
     },
     "user_tz": 0
    },
    "id": "ZFryew9bz-LB",
    "outputId": "e2b0bcc3-537f-4b90-8348-96ce425386aa"
   },
   "outputs": [
    {
     "name": "stdout",
     "output_type": "stream",
     "text": [
      "Fitting 3 folds for each of 14 candidates, totalling 42 fits\n"
     ]
    },
    {
     "name": "stderr",
     "output_type": "stream",
     "text": [
      "[Parallel(n_jobs=2)]: Done  42 out of  42 | elapsed:   24.1s finished\n"
     ]
    },
    {
     "data": {
      "text/plain": [
       "GridSearchCV(cv=TimeSeriesSplit(max_train_size=None, n_splits=3),\n",
       "       error_score='raise',\n",
       "       estimator=LogisticRegression(C=1.0, class_weight=None, dual=False, fit_intercept=True,\n",
       "          intercept_scaling=1, max_iter=100, multi_class='ovr', n_jobs=1,\n",
       "          penalty='l2', random_state=None, solver='liblinear', tol=0.0001,\n",
       "          verbose=0, warm_start=False),\n",
       "       fit_params=None, iid=True, n_jobs=2,\n",
       "       param_grid={'penalty': ['l1', 'l2'], 'C': [1000, 0.0001, 100, 200, 500, 1, 10]},\n",
       "       pre_dispatch='2*n_jobs', refit=True, return_train_score='warn',\n",
       "       scoring=None, verbose=1)"
      ]
     },
     "execution_count": 122,
     "metadata": {
      "tags": []
     },
     "output_type": "execute_result"
    }
   ],
   "source": [
    "tfidfw2v_lr.fit(standardized_data,y_train)"
   ]
  },
  {
   "cell_type": "code",
   "execution_count": 0,
   "metadata": {
    "colab": {
     "base_uri": "https://localhost:8080/",
     "height": 51
    },
    "colab_type": "code",
    "executionInfo": {
     "elapsed": 662,
     "status": "ok",
     "timestamp": 1540749319033,
     "user": {
      "displayName": "Amarnath Manipatra",
      "photoUrl": "https://lh3.googleusercontent.com/-E4XehttjKtQ/AAAAAAAAAAI/AAAAAAAAIMM/qMw0AAGMQdQ/s64/photo.jpg",
      "userId": "14836087089649410046"
     },
     "user_tz": 0
    },
    "id": "cY47wvBB0DUp",
    "outputId": "7c8482a9-c696-48f2-f354-ebdac22a909a"
   },
   "outputs": [
    {
     "name": "stdout",
     "output_type": "stream",
     "text": [
      "{'C': 1000, 'penalty': 'l1'}\n",
      "0.8775809523809524\n"
     ]
    }
   ],
   "source": [
    "train_set_report(tfidfw2v_lr)"
   ]
  },
  {
   "cell_type": "code",
   "execution_count": 0,
   "metadata": {
    "colab": {
     "base_uri": "https://localhost:8080/",
     "height": 430
    },
    "colab_type": "code",
    "executionInfo": {
     "elapsed": 2103,
     "status": "ok",
     "timestamp": 1540749360640,
     "user": {
      "displayName": "Amarnath Manipatra",
      "photoUrl": "https://lh3.googleusercontent.com/-E4XehttjKtQ/AAAAAAAAAAI/AAAAAAAAIMM/qMw0AAGMQdQ/s64/photo.jpg",
      "userId": "14836087089649410046"
     },
     "user_tz": 0
    },
    "id": "ZkoFwsDy0LWb",
    "outputId": "77f3586b-0a7f-4d25-fe3f-c402ec8b2837"
   },
   "outputs": [
    {
     "name": "stdout",
     "output_type": "stream",
     "text": [
      "The test set accuracy is 86.426667%\n",
      "             precision    recall  f1-score   support\n",
      "\n",
      "   negative       0.17      0.03      0.05      3665\n",
      "   positive       0.88      0.98      0.93     26335\n",
      "\n",
      "avg / total       0.79      0.86      0.82     30000\n",
      "\n"
     ]
    },
    {
     "data": {
      "image/png": "[encoded data removed]",
      "text/plain": [
       "<matplotlib.figure.Figure at 0x7f728007d748>"
      ]
     },
     "metadata": {
      "tags": []
     },
     "output_type": "display_data"
    }
   ],
   "source": [
    "test_set_report(tfidfw2v_lr,standardized_data_test,y_test)"
   ]
  },
  {
   "cell_type": "code",
   "execution_count": 0,
   "metadata": {
    "colab": {},
    "colab_type": "code",
    "id": "A1ijQe8n1Sef"
   },
   "outputs": [],
   "source": [
    "b = lrclassifierresults(tfidfw2v_lr)\n",
    "b.to_pickle('tfidfw2v_lr.pkl')"
   ]
  },
  {
   "cell_type": "code",
   "execution_count": 0,
   "metadata": {
    "colab": {},
    "colab_type": "code",
    "id": "3j6GhqqIFatA"
   },
   "outputs": [],
   "source": [
    "a = pd.read_pickle(\"/content/drive/My Drive/Dataset/AFR/tfidfw2v_lr.pkl\")"
   ]
  },
  {
   "cell_type": "code",
   "execution_count": 88,
   "metadata": {
    "colab": {
     "base_uri": "https://localhost:8080/",
     "height": 294
    },
    "colab_type": "code",
    "executionInfo": {
     "elapsed": 565,
     "status": "ok",
     "timestamp": 1541726929230,
     "user": {
      "displayName": "Amarnath Manipatra",
      "photoUrl": "https://lh3.googleusercontent.com/-E4XehttjKtQ/AAAAAAAAAAI/AAAAAAAAIMM/qMw0AAGMQdQ/s64/photo.jpg",
      "userId": "14836087089649410046"
     },
     "user_tz": 0
    },
    "id": "cUiu1TKlFdcb",
    "outputId": "6ec4afb5-2e61-4285-9256-4a0c66aa63f7"
   },
   "outputs": [
    {
     "data": {
      "image/png": "[encoded data removed]",
      "text/plain": [
       "<matplotlib.figure.Figure at 0x7f0ba18db1d0>"
      ]
     },
     "metadata": {
      "tags": []
     },
     "output_type": "display_data"
    }
   ],
   "source": [
    "plotgraph(a)"
   ]
  },
  {
   "cell_type": "markdown",
   "metadata": {
    "colab_type": "text",
    "id": "O5Cdjthp0ekS"
   },
   "source": [
    "**RandomCV**"
   ]
  },
  {
   "cell_type": "code",
   "execution_count": 0,
   "metadata": {
    "colab": {},
    "colab_type": "code",
    "id": "GuHJkDof0S2W"
   },
   "outputs": [],
   "source": [
    "tfidfw2v_lr_random = lr_classifier_random()"
   ]
  },
  {
   "cell_type": "code",
   "execution_count": 0,
   "metadata": {
    "colab": {
     "base_uri": "https://localhost:8080/",
     "height": 221
    },
    "colab_type": "code",
    "executionInfo": {
     "elapsed": 19737,
     "status": "ok",
     "timestamp": 1540749468882,
     "user": {
      "displayName": "Amarnath Manipatra",
      "photoUrl": "https://lh3.googleusercontent.com/-E4XehttjKtQ/AAAAAAAAAAI/AAAAAAAAIMM/qMw0AAGMQdQ/s64/photo.jpg",
      "userId": "14836087089649410046"
     },
     "user_tz": 0
    },
    "id": "GXmQj9-J0p6H",
    "outputId": "23eefaa1-8513-40aa-f406-ac93ac66a947"
   },
   "outputs": [
    {
     "name": "stdout",
     "output_type": "stream",
     "text": [
      "Fitting 3 folds for each of 10 candidates, totalling 30 fits\n"
     ]
    },
    {
     "name": "stderr",
     "output_type": "stream",
     "text": [
      "[Parallel(n_jobs=2)]: Done  30 out of  30 | elapsed:   17.3s finished\n"
     ]
    },
    {
     "data": {
      "text/plain": [
       "RandomizedSearchCV(cv=TimeSeriesSplit(max_train_size=None, n_splits=3),\n",
       "          error_score='raise',\n",
       "          estimator=LogisticRegression(C=1.0, class_weight=None, dual=False, fit_intercept=True,\n",
       "          intercept_scaling=1, max_iter=100, multi_class='ovr', n_jobs=1,\n",
       "          penalty='l2', random_state=None, solver='liblinear', tol=0.0001,\n",
       "          verbose=0, warm_start=False),\n",
       "          fit_params=None, iid=True, n_iter=10, n_jobs=2,\n",
       "          param_distributions={'penalty': ['l1', 'l2'], 'C': [1000, 0.0001, 100, 200, 500, 1, 0.8, 10]},\n",
       "          pre_dispatch='2*n_jobs', random_state=None, refit=True,\n",
       "          return_train_score='warn', scoring=None, verbose=1)"
      ]
     },
     "execution_count": 127,
     "metadata": {
      "tags": []
     },
     "output_type": "execute_result"
    }
   ],
   "source": [
    "tfidfw2v_lr_random.fit(standardized_data,y_train)"
   ]
  },
  {
   "cell_type": "code",
   "execution_count": 0,
   "metadata": {
    "colab": {
     "base_uri": "https://localhost:8080/",
     "height": 51
    },
    "colab_type": "code",
    "executionInfo": {
     "elapsed": 654,
     "status": "ok",
     "timestamp": 1540749469560,
     "user": {
      "displayName": "Amarnath Manipatra",
      "photoUrl": "https://lh3.googleusercontent.com/-E4XehttjKtQ/AAAAAAAAAAI/AAAAAAAAIMM/qMw0AAGMQdQ/s64/photo.jpg",
      "userId": "14836087089649410046"
     },
     "user_tz": 0
    },
    "id": "zn9ZXiDj0tcx",
    "outputId": "5243e866-5855-4e35-c084-2a460c4453ac"
   },
   "outputs": [
    {
     "name": "stdout",
     "output_type": "stream",
     "text": [
      "{'penalty': 'l2', 'C': 0.8}\n",
      "0.8775809523809524\n"
     ]
    }
   ],
   "source": [
    "train_set_report(tfidfw2v_lr_random)"
   ]
  },
  {
   "cell_type": "code",
   "execution_count": 0,
   "metadata": {
    "colab": {
     "base_uri": "https://localhost:8080/",
     "height": 430
    },
    "colab_type": "code",
    "executionInfo": {
     "elapsed": 1750,
     "status": "ok",
     "timestamp": 1540749502674,
     "user": {
      "displayName": "Amarnath Manipatra",
      "photoUrl": "https://lh3.googleusercontent.com/-E4XehttjKtQ/AAAAAAAAAAI/AAAAAAAAIMM/qMw0AAGMQdQ/s64/photo.jpg",
      "userId": "14836087089649410046"
     },
     "user_tz": 0
    },
    "id": "BRPQD3wW0xeA",
    "outputId": "d4745404-f511-4dec-afe1-f35949b4ec0d"
   },
   "outputs": [
    {
     "name": "stdout",
     "output_type": "stream",
     "text": [
      "The test set accuracy is 86.416667%\n",
      "             precision    recall  f1-score   support\n",
      "\n",
      "   negative       0.17      0.03      0.05      3665\n",
      "   positive       0.88      0.98      0.93     26335\n",
      "\n",
      "avg / total       0.79      0.86      0.82     30000\n",
      "\n"
     ]
    },
    {
     "data": {
      "image/png": "[encoded data removed]",
      "text/plain": [
       "<matplotlib.figure.Figure at 0x7f72af22fc50>"
      ]
     },
     "metadata": {
      "tags": []
     },
     "output_type": "display_data"
    }
   ],
   "source": [
    "test_set_report(tfidfw2v_lr_random,standardized_data_test,y_test)"
   ]
  },
  {
   "cell_type": "code",
   "execution_count": 0,
   "metadata": {
    "colab": {},
    "colab_type": "code",
    "id": "0xbsZrVH1a5u"
   },
   "outputs": [],
   "source": [
    "b = lrclassifierresults(tfidfw2v_lr_random)\n",
    "b.to_pickle('tfidfw2v_lr_random.pkl')"
   ]
  },
  {
   "cell_type": "code",
   "execution_count": 0,
   "metadata": {
    "colab": {},
    "colab_type": "code",
    "id": "x9JcYzP9Fof9"
   },
   "outputs": [],
   "source": [
    " a = pd.read_pickle(\"/content/drive/My Drive/Dataset/AFR/tfidfw2v_lr_random.pkl\")"
   ]
  },
  {
   "cell_type": "code",
   "execution_count": 90,
   "metadata": {
    "colab": {
     "base_uri": "https://localhost:8080/",
     "height": 294
    },
    "colab_type": "code",
    "executionInfo": {
     "elapsed": 496,
     "status": "ok",
     "timestamp": 1541726979294,
     "user": {
      "displayName": "Amarnath Manipatra",
      "photoUrl": "https://lh3.googleusercontent.com/-E4XehttjKtQ/AAAAAAAAAAI/AAAAAAAAIMM/qMw0AAGMQdQ/s64/photo.jpg",
      "userId": "14836087089649410046"
     },
     "user_tz": 0
    },
    "id": "FIjz_dAKFodC",
    "outputId": "3fab1cff-c742-4a56-b5d2-26d00951199a"
   },
   "outputs": [
    {
     "data": {
      "image/png": "[encoded data removed]",
      "text/plain": [
       "<matplotlib.figure.Figure at 0x7f0ba17696a0>"
      ]
     },
     "metadata": {
      "tags": []
     },
     "output_type": "display_data"
    }
   ],
   "source": [
    "plotgraph(a)"
   ]
  },
  {
   "cell_type": "markdown",
   "metadata": {
    "colab_type": "text",
    "id": "WQOMWjx70-eY"
   },
   "source": [
    "**Check Sparsity**"
   ]
  },
  {
   "cell_type": "code",
   "execution_count": 105,
   "metadata": {
    "colab": {
     "base_uri": "https://localhost:8080/",
     "height": 153
    },
    "colab_type": "code",
    "executionInfo": {
     "elapsed": 4767,
     "status": "ok",
     "timestamp": 1541727244504,
     "user": {
      "displayName": "Amarnath Manipatra",
      "photoUrl": "https://lh3.googleusercontent.com/-E4XehttjKtQ/AAAAAAAAAAI/AAAAAAAAIMM/qMw0AAGMQdQ/s64/photo.jpg",
      "userId": "14836087089649410046"
     },
     "user_tz": 0
    },
    "id": "w78vUvlg09U7",
    "outputId": "22d4ef1e-2ceb-4eae-80e5-773371117825"
   },
   "outputs": [
    {
     "name": "stdout",
     "output_type": "stream",
     "text": [
      "Number of non-zero weights for 1000 = 50\n",
      "Accuracy for 1000 = 87.76\n",
      "Number of non-zero weights for 10 = 50\n",
      "Accuracy for 10 = 87.76\n",
      "Number of non-zero weights for 0.0001 = 0\n",
      "Accuracy for 0.0001 = 87.78333333333333\n",
      "Number of non-zero weights for 0.8 = 50\n",
      "Accuracy for 0.8 = 87.75666666666667\n"
     ]
    }
   ],
   "source": [
    "c = [1000,10,0.0001,0.8]\n",
    "for i in c:\n",
    "  checkSparsity(i,standardized_data,y_train,standardized_data_test,y_test)"
   ]
  },
  {
   "cell_type": "markdown",
   "metadata": {
    "colab_type": "text",
    "id": "Sc3rh60FDXeL"
   },
   "source": [
    "**Check Multicollinearity**"
   ]
  },
  {
   "cell_type": "code",
   "execution_count": 104,
   "metadata": {
    "colab": {
     "base_uri": "https://localhost:8080/",
     "height": 34
    },
    "colab_type": "code",
    "executionInfo": {
     "elapsed": 3149,
     "status": "ok",
     "timestamp": 1541727236413,
     "user": {
      "displayName": "Amarnath Manipatra",
      "photoUrl": "https://lh3.googleusercontent.com/-E4XehttjKtQ/AAAAAAAAAAI/AAAAAAAAIMM/qMw0AAGMQdQ/s64/photo.jpg",
      "userId": "14836087089649410046"
     },
     "user_tz": 0
    },
    "id": "Mg7na-JG01fI",
    "outputId": "247efb68-13f5-4045-efd0-8d22bfb4cef7"
   },
   "outputs": [
    {
     "name": "stdout",
     "output_type": "stream",
     "text": [
      "Size of weights to check multicollinearity is 50 . Number of weights having a change greater then 30% is 0\n"
     ]
    }
   ],
   "source": [
    "checkMultiCollinearity(standardized_data, y_train,standardized_data_test,y_test)"
   ]
  }
 ],
 "metadata": {
  "colab": {
   "collapsed_sections": [
    "Fezz9FoGh9gH",
    "XtyJn2SzZIPw"
   ],
   "name": "AFR_Logistic_regression.ipynb",
   "provenance": [],
   "version": "0.3.2"
  },
  "kernelspec": {
   "display_name": "Python 3",
   "language": "python",
   "name": "python3"
  },
  "language_info": {
   "codemirror_mode": {
    "name": "ipython",
    "version": 3
   },
   "file_extension": ".py",
   "mimetype": "text/x-python",
   "name": "python",
   "nbconvert_exporter": "python",
   "pygments_lexer": "ipython3",
   "version": "3.6.5"
  }
 },
 "nbformat": 4,
 "nbformat_minor": 1
}
