{
  "nbformat": 4,
  "nbformat_minor": 0,
  "metadata": {
    "colab": {
      "name": "Avg_W2V_KNN (1).ipynb",
      "version": "0.3.2",
      "provenance": [],
      "collapsed_sections": []
    },
    "kernelspec": {
      "display_name": "Python 3",
      "language": "python",
      "name": "python3"
    }
  },
  "cells": [
    {
      "metadata": {
        "id": "evB7kCssnSgJ",
        "colab_type": "code",
        "colab": {
          "base_uri": "https://localhost:8080/",
          "height": 360
        },
        "outputId": "a7fe4f34-53f1-4db8-bcf7-73f46cc0f4e5"
      },
      "cell_type": "code",
      "source": [
        "!git clone https://github.com/reiinakano/scikit-plot.git && pip install scikit-plot\n",
        "  "
      ],
      "execution_count": 1,
      "outputs": [
        {
          "output_type": "stream",
          "text": [
            "Cloning into 'scikit-plot'...\n",
            "remote: Enumerating objects: 828, done.\u001b[K\n",
            "remote: Total 828 (delta 0), reused 0 (delta 0), pack-reused 828\u001b[K\n",
            "Receiving objects: 100% (828/828), 3.05 MiB | 25.78 MiB/s, done.\n",
            "Resolving deltas: 100% (512/512), done.\n",
            "Collecting scikit-plot\n",
            "  Downloading https://files.pythonhosted.org/packages/7c/47/32520e259340c140a4ad27c1b97050dd3254fdc517b1d59974d47037510e/scikit_plot-0.3.7-py3-none-any.whl\n",
            "Requirement already satisfied: scipy>=0.9 in /usr/local/lib/python3.6/dist-packages (from scikit-plot) (0.19.1)\n",
            "Requirement already satisfied: joblib>=0.10 in /usr/local/lib/python3.6/dist-packages (from scikit-plot) (0.12.5)\n",
            "Requirement already satisfied: matplotlib>=1.4.0 in /usr/local/lib/python3.6/dist-packages (from scikit-plot) (2.1.2)\n",
            "Requirement already satisfied: scikit-learn>=0.18 in /usr/local/lib/python3.6/dist-packages (from scikit-plot) (0.19.2)\n",
            "Requirement already satisfied: numpy>=1.8.2 in /usr/local/lib/python3.6/dist-packages (from scipy>=0.9->scikit-plot) (1.14.6)\n",
            "Requirement already satisfied: pyparsing!=2.0.4,!=2.1.2,!=2.1.6,>=2.0.1 in /usr/local/lib/python3.6/dist-packages (from matplotlib>=1.4.0->scikit-plot) (2.2.2)\n",
            "Requirement already satisfied: six>=1.10 in /usr/local/lib/python3.6/dist-packages (from matplotlib>=1.4.0->scikit-plot) (1.11.0)\n",
            "Requirement already satisfied: python-dateutil>=2.1 in /usr/local/lib/python3.6/dist-packages (from matplotlib>=1.4.0->scikit-plot) (2.5.3)\n",
            "Requirement already satisfied: cycler>=0.10 in /usr/local/lib/python3.6/dist-packages (from matplotlib>=1.4.0->scikit-plot) (0.10.0)\n",
            "Requirement already satisfied: pytz in /usr/local/lib/python3.6/dist-packages (from matplotlib>=1.4.0->scikit-plot) (2018.5)\n",
            "Installing collected packages: scikit-plot\n",
            "Successfully installed scikit-plot-0.3.7\n"
          ],
          "name": "stdout"
        }
      ]
    },
    {
      "metadata": {
        "id": "6V3CKJavnlc3",
        "colab_type": "code",
        "colab": {
          "base_uri": "https://localhost:8080/",
          "height": 734
        },
        "outputId": "58ba243d-a4b1-45c4-aeba-6269e0ee6069"
      },
      "cell_type": "code",
      "source": [
        "!pip install --upgrade gensim"
      ],
      "execution_count": 2,
      "outputs": [
        {
          "output_type": "stream",
          "text": [
            "Collecting gensim\n",
            "\u001b[?25l  Downloading https://files.pythonhosted.org/packages/27/a4/d10c0acc8528d838cda5eede0ee9c784caa598dbf40bd0911ff8d067a7eb/gensim-3.6.0-cp36-cp36m-manylinux1_x86_64.whl (23.6MB)\n",
            "\u001b[K    100% |████████████████████████████████| 23.6MB 1.5MB/s \n",
            "\u001b[?25hRequirement already satisfied, skipping upgrade: scipy>=0.18.1 in /usr/local/lib/python3.6/dist-packages (from gensim) (0.19.1)\n",
            "Requirement already satisfied, skipping upgrade: numpy>=1.11.3 in /usr/local/lib/python3.6/dist-packages (from gensim) (1.14.6)\n",
            "Collecting smart-open>=1.2.1 (from gensim)\n",
            "  Downloading https://files.pythonhosted.org/packages/4b/1f/6f27e3682124de63ac97a0a5876da6186de6c19410feab66c1543afab055/smart_open-1.7.1.tar.gz\n",
            "Requirement already satisfied, skipping upgrade: six>=1.5.0 in /usr/local/lib/python3.6/dist-packages (from gensim) (1.11.0)\n",
            "Collecting boto>=2.32 (from smart-open>=1.2.1->gensim)\n",
            "\u001b[?25l  Downloading https://files.pythonhosted.org/packages/23/10/c0b78c27298029e4454a472a1919bde20cb182dab1662cec7f2ca1dcc523/boto-2.49.0-py2.py3-none-any.whl (1.4MB)\n",
            "\u001b[K    100% |████████████████████████████████| 1.4MB 14.7MB/s \n",
            "\u001b[?25hCollecting bz2file (from smart-open>=1.2.1->gensim)\n",
            "  Downloading https://files.pythonhosted.org/packages/61/39/122222b5e85cd41c391b68a99ee296584b2a2d1d233e7ee32b4532384f2d/bz2file-0.98.tar.gz\n",
            "Requirement already satisfied, skipping upgrade: requests in /usr/local/lib/python3.6/dist-packages (from smart-open>=1.2.1->gensim) (2.18.4)\n",
            "Collecting boto3 (from smart-open>=1.2.1->gensim)\n",
            "\u001b[?25l  Downloading https://files.pythonhosted.org/packages/42/f4/33264206005267ce74a57ee766ece6d6454dab836379022ff134a9fa5e89/boto3-1.9.27-py2.py3-none-any.whl (128kB)\n",
            "\u001b[K    100% |████████████████████████████████| 133kB 30.7MB/s \n",
            "\u001b[?25hRequirement already satisfied, skipping upgrade: idna<2.7,>=2.5 in /usr/local/lib/python3.6/dist-packages (from requests->smart-open>=1.2.1->gensim) (2.6)\n",
            "Requirement already satisfied, skipping upgrade: certifi>=2017.4.17 in /usr/local/lib/python3.6/dist-packages (from requests->smart-open>=1.2.1->gensim) (2018.10.15)\n",
            "Requirement already satisfied, skipping upgrade: chardet<3.1.0,>=3.0.2 in /usr/local/lib/python3.6/dist-packages (from requests->smart-open>=1.2.1->gensim) (3.0.4)\n",
            "Requirement already satisfied, skipping upgrade: urllib3<1.23,>=1.21.1 in /usr/local/lib/python3.6/dist-packages (from requests->smart-open>=1.2.1->gensim) (1.22)\n",
            "Collecting jmespath<1.0.0,>=0.7.1 (from boto3->smart-open>=1.2.1->gensim)\n",
            "  Downloading https://files.pythonhosted.org/packages/b7/31/05c8d001f7f87f0f07289a5fc0fc3832e9a57f2dbd4d3b0fee70e0d51365/jmespath-0.9.3-py2.py3-none-any.whl\n",
            "Collecting botocore<1.13.0,>=1.12.27 (from boto3->smart-open>=1.2.1->gensim)\n",
            "\u001b[?25l  Downloading https://files.pythonhosted.org/packages/79/86/7ebf7a3e0cb5b9c88217ded0d5c16a85f5291ad4a62fe32f6c1cacd616c1/botocore-1.12.27-py2.py3-none-any.whl (4.7MB)\n",
            "\u001b[K    100% |████████████████████████████████| 4.7MB 6.8MB/s \n",
            "\u001b[?25hCollecting s3transfer<0.2.0,>=0.1.10 (from boto3->smart-open>=1.2.1->gensim)\n",
            "\u001b[?25l  Downloading https://files.pythonhosted.org/packages/d7/14/2a0004d487464d120c9fb85313a75cd3d71a7506955be458eebfe19a6b1d/s3transfer-0.1.13-py2.py3-none-any.whl (59kB)\n",
            "\u001b[K    100% |████████████████████████████████| 61kB 25.4MB/s \n",
            "\u001b[?25hCollecting docutils>=0.10 (from botocore<1.13.0,>=1.12.27->boto3->smart-open>=1.2.1->gensim)\n",
            "\u001b[?25l  Downloading https://files.pythonhosted.org/packages/36/fa/08e9e6e0e3cbd1d362c3bbee8d01d0aedb2155c4ac112b19ef3cae8eed8d/docutils-0.14-py3-none-any.whl (543kB)\n",
            "\u001b[K    100% |████████████████████████████████| 552kB 24.8MB/s \n",
            "\u001b[?25hRequirement already satisfied, skipping upgrade: python-dateutil<3.0.0,>=2.1; python_version >= \"2.7\" in /usr/local/lib/python3.6/dist-packages (from botocore<1.13.0,>=1.12.27->boto3->smart-open>=1.2.1->gensim) (2.5.3)\n",
            "Building wheels for collected packages: smart-open, bz2file\n",
            "  Running setup.py bdist_wheel for smart-open ... \u001b[?25l-\b \b\\\b \bdone\n",
            "\u001b[?25h  Stored in directory: /root/.cache/pip/wheels/23/00/44/e5b939f7a80c04e32297dbd6d96fa3065af89ecf57e2b5f89f\n",
            "  Running setup.py bdist_wheel for bz2file ... \u001b[?25l-\b \bdone\n",
            "\u001b[?25h  Stored in directory: /root/.cache/pip/wheels/81/75/d6/e1317bf09bf1af5a30befc2a007869fa6e1f516b8f7c591cb9\n",
            "Successfully built smart-open bz2file\n",
            "Installing collected packages: boto, bz2file, jmespath, docutils, botocore, s3transfer, boto3, smart-open, gensim\n",
            "Successfully installed boto-2.49.0 boto3-1.9.27 botocore-1.12.27 bz2file-0.98 docutils-0.14 gensim-3.6.0 jmespath-0.9.3 s3transfer-0.1.13 smart-open-1.7.1\n"
          ],
          "name": "stdout"
        }
      ]
    },
    {
      "metadata": {
        "id": "DKzwyhI5nSgQ",
        "colab_type": "code",
        "colab": {
          "base_uri": "https://localhost:8080/",
          "height": 71
        },
        "outputId": "d08f25bc-6262-4300-f516-38274ffd191e"
      },
      "cell_type": "code",
      "source": [
        "\n",
        "%matplotlib inline\n",
        "import warnings\n",
        "import pickle\n",
        "warnings.filterwarnings(\"ignore\")\n",
        "import sqlite3\n",
        "import pandas as pd\n",
        "import numpy as np\n",
        "import nltk\n",
        "import string\n",
        "import matplotlib.pyplot as plt\n",
        "from gensim.models import Word2Vec\n",
        "from gensim.models import KeyedVectors\n",
        "from gensim.test.utils import common_texts, get_tmpfile\n",
        "from collections import Counter\n",
        "from sklearn.feature_extraction.text import CountVectorizer\n",
        "from sklearn.neighbors import KNeighborsClassifier\n",
        "from sklearn.metrics import accuracy_score\n",
        "from sklearn.cross_validation import cross_val_score\n",
        "import seaborn as sn\n",
        "from sklearn.metrics import make_scorer\n",
        "from sklearn.metrics import accuracy_score\n",
        "from sklearn import cross_validation\n",
        "from sklearn.metrics import classification_report,confusion_matrix\n",
        "import scikitplot.metrics as skplt\n",
        "from sklearn.model_selection import GridSearchCV\n",
        "from sklearn.model_selection import train_test_split\n",
        "from sklearn.preprocessing import StandardScaler\n",
        "from sklearn.feature_extraction.text import TfidfTransformer\n",
        "from sklearn.feature_extraction.text import TfidfVectorizer\n"
      ],
      "execution_count": 3,
      "outputs": [
        {
          "output_type": "stream",
          "text": [
            "/usr/local/lib/python3.6/dist-packages/sklearn/cross_validation.py:41: DeprecationWarning: This module was deprecated in version 0.18 in favor of the model_selection module into which all the refactored classes and functions are moved. Also note that the interface of the new CV iterators are different from that of this module. This module will be removed in 0.20.\n",
            "  \"This module will be removed in 0.20.\", DeprecationWarning)\n"
          ],
          "name": "stderr"
        }
      ]
    },
    {
      "metadata": {
        "id": "3qQPv0qsnSgU",
        "colab_type": "code",
        "colab": {}
      },
      "cell_type": "code",
      "source": [
        ""
      ],
      "execution_count": 0,
      "outputs": []
    },
    {
      "metadata": {
        "id": "zIFuTv0eMwzT",
        "colab_type": "text"
      },
      "cell_type": "markdown",
      "source": [
        "# **Utility Functions**"
      ]
    },
    {
      "metadata": {
        "id": "hDkwPNBLiIUh",
        "colab_type": "code",
        "colab": {}
      },
      "cell_type": "code",
      "source": [
        "#Utility Function\n",
        "def standardisation(mean):\n",
        "  s = StandardScaler(with_mean = mean)\n",
        "  return s\n",
        "  \n",
        "def knn_classifier():\n",
        "  neighbors = list(range(1,7))\n",
        "  knn = KNeighborsClassifier()\n",
        "  parameter = {'algorithm' :['kd_tree','brute'],'n_neighbors': neighbors}\n",
        "  clf = GridSearchCV(estimator = knn,param_grid =parameter,scoring='mutual_info_score',n_jobs = -1,cv=2)\n",
        "  return clf\n",
        "\n",
        "def train_set_report(clf_k):\n",
        "  best_parameters = clf_k.best_params_\n",
        "  best_accuracy = clf_k.best_score_\n",
        "  print(best_parameters)\n",
        "  print(best_accuracy)\n",
        "  \n",
        "def test_set_report(clf,x_test,y_test):\n",
        "  pred = clf.predict(standardized_data_test)\n",
        "  acc = accuracy_score(y_test, pred) * 100\n",
        "  print('The test set accuracy is %f%%' %(acc))\n",
        "  skplt.plot_confusion_matrix(y_test ,pred)\n",
        "  print(classification_report(y_test ,pred))\n",
        "\n",
        "def knnclassifierresults(clf):\n",
        "  out = pd.DataFrame.from_dict(clf.cv_results_)\n",
        "  return out\n",
        "\n",
        "def knnAlgoGraph(result,algo):\n",
        "  result = result.sort_values(by = ['rank_test_score'])\n",
        "  a = (result[['param_algorithm','param_n_neighbors','mean_test_score']])\n",
        "  b = a[a[\"param_algorithm\"] == algo]\n",
        "  k = b.param_n_neighbors.tolist()\n",
        "  score = b.mean_test_score.tolist()\n",
        "  plt.plot(k, score,color='blue', linestyle='dashed', marker='o',markerfacecolor='red', markersize=10)\n",
        "  plt.title(\"Graph for \"+algo)\n",
        "  plt.xlabel('Number of Neighbors K')\n",
        "  plt.ylabel('Accuracy score')\n",
        "  plt.show()\n",
        "\n"
      ],
      "execution_count": 0,
      "outputs": []
    },
    {
      "metadata": {
        "id": "JSiXoOcwnSgW",
        "colab_type": "code",
        "colab": {
          "base_uri": "https://localhost:8080/",
          "height": 122
        },
        "outputId": "68bc9560-91c9-4930-d573-e730720768db"
      },
      "cell_type": "code",
      "source": [
        "from google.colab import drive\n",
        "drive.mount('/content/drive')"
      ],
      "execution_count": 5,
      "outputs": [
        {
          "output_type": "stream",
          "text": [
            "Go to this URL in a browser: https://accounts.google.com/o/oauth2/auth?client_id=947318989803-6bn6qk8qdgf4n4g3pfee6491hc0brc4i.apps.googleusercontent.com&redirect_uri=urn%3Aietf%3Awg%3Aoauth%3A2.0%3Aoob&scope=email%20https%3A%2F%2Fwww.googleapis.com%2Fauth%2Fdocs.test%20https%3A%2F%2Fwww.googleapis.com%2Fauth%2Fdrive%20https%3A%2F%2Fwww.googleapis.com%2Fauth%2Fdrive.photos.readonly%20https%3A%2F%2Fwww.googleapis.com%2Fauth%2Fpeopleapi.readonly&response_type=code\n",
            "\n",
            "Enter your authorization code:\n",
            "··········\n",
            "Mounted at /content/drive\n"
          ],
          "name": "stdout"
        }
      ]
    },
    {
      "metadata": {
        "id": "YAAN1jbtM5wv",
        "colab_type": "text"
      },
      "cell_type": "markdown",
      "source": [
        "# Data **Sampling**"
      ]
    },
    {
      "metadata": {
        "id": "TC4tXbNAqRMl",
        "colab_type": "code",
        "colab": {}
      },
      "cell_type": "code",
      "source": [
        "con = sqlite3.connect('/content/drive/My Drive/Dataset/AFR/final.sqlite')"
      ],
      "execution_count": 0,
      "outputs": []
    },
    {
      "metadata": {
        "id": "SUwBuAghnSgZ",
        "colab_type": "code",
        "colab": {}
      },
      "cell_type": "code",
      "source": [
        "final = pd.read_sql_query(\"\"\" SELECT * FROM Reviews\"\"\", con)"
      ],
      "execution_count": 0,
      "outputs": []
    },
    {
      "metadata": {
        "id": "rIPQJ22onSgd",
        "colab_type": "code",
        "colab": {}
      },
      "cell_type": "code",
      "source": [
        "import datetime\n",
        "\n",
        "final[\"Time\"] = final[\"Time\"].map(lambda t: datetime.datetime.fromtimestamp(int(t)).strftime('%Y-%m-%d %H:%M:%S'))\n",
        "final = final.sort_values('Time',axis=0,kind=\"quicksort\", ascending=True).reset_index(drop=True)\n"
      ],
      "execution_count": 0,
      "outputs": []
    },
    {
      "metadata": {
        "id": "f8c6uUXhnSgg",
        "colab_type": "code",
        "colab": {}
      },
      "cell_type": "code",
      "source": [
        "final = final.iloc[0:30000]"
      ],
      "execution_count": 0,
      "outputs": []
    },
    {
      "metadata": {
        "id": "One1gd-2Xe2w",
        "colab_type": "code",
        "colab": {
          "base_uri": "https://localhost:8080/",
          "height": 54
        },
        "outputId": "4b28599a-a2d0-4347-d313-0bfdd911cf36"
      },
      "cell_type": "code",
      "source": [
        "final.shape"
      ],
      "execution_count": 10,
      "outputs": [
        {
          "output_type": "execute_result",
          "data": {
            "text/plain": [
              "(30000, 12)"
            ]
          },
          "metadata": {
            "tags": []
          },
          "execution_count": 10
        }
      ]
    },
    {
      "metadata": {
        "id": "10q1LqCNcz3H",
        "colab_type": "code",
        "colab": {}
      },
      "cell_type": "code",
      "source": [
        "l = final['Score']\n",
        "final = final.drop(\"Score\", axis = 1)\n"
      ],
      "execution_count": 0,
      "outputs": []
    },
    {
      "metadata": {
        "id": "-9_A-edxnSgn",
        "colab_type": "code",
        "colab": {}
      },
      "cell_type": "code",
      "source": [
        "X_train, X_test, y_train, y_test = train_test_split(final, l, test_size=0.2, random_state=0)"
      ],
      "execution_count": 0,
      "outputs": []
    },
    {
      "metadata": {
        "id": "SE5UnaSAj36C",
        "colab_type": "text"
      },
      "cell_type": "markdown",
      "source": [
        "# **BOW**"
      ]
    },
    {
      "metadata": {
        "id": "yR5Rx-47j2aq",
        "colab_type": "code",
        "colab": {
          "base_uri": "https://localhost:8080/",
          "height": 68
        },
        "outputId": "edcbd411-93fd-403b-b8ab-7f34f8e3112c"
      },
      "cell_type": "code",
      "source": [
        "count_vect = CountVectorizer()\n",
        "final_counts = count_vect.fit_transform(X_train['CleanedText'].values)\n",
        "print(\"the type of count vectorizer \",type(final_counts))\n",
        "print(\"the shape of out text BOW vectorizer \",final_counts.get_shape())\n",
        "print(\"the number of unique words \", final_counts.get_shape()[1])\n"
      ],
      "execution_count": 137,
      "outputs": [
        {
          "output_type": "stream",
          "text": [
            "the type of count vectorizer  <class 'scipy.sparse.csr.csr_matrix'>\n",
            "the shape of out text BOW vectorizer  (24000, 19583)\n",
            "the number of unique words  19583\n"
          ],
          "name": "stdout"
        }
      ]
    },
    {
      "metadata": {
        "id": "CvbtWMHykJX_",
        "colab_type": "code",
        "colab": {
          "base_uri": "https://localhost:8080/",
          "height": 51
        },
        "outputId": "93246182-dc15-474f-98b8-4c77e83a67c5"
      },
      "cell_type": "code",
      "source": [
        "final_counts_test = count_vect.transform(X_test['CleanedText'].values)\n",
        "print(final_counts.shape)\n",
        "print(final_counts_test.shape)"
      ],
      "execution_count": 138,
      "outputs": [
        {
          "output_type": "stream",
          "text": [
            "(24000, 19583)\n",
            "(6000, 19583)\n"
          ],
          "name": "stdout"
        }
      ]
    },
    {
      "metadata": {
        "id": "oNgDb_ce1XJf",
        "colab_type": "code",
        "colab": {}
      },
      "cell_type": "code",
      "source": [
        "s = standardisation(False)\n",
        "standardized_data = s.fit_transform(final_counts)\n",
        "standardized_data_test = s.transform(final_counts_test)"
      ],
      "execution_count": 0,
      "outputs": []
    },
    {
      "metadata": {
        "id": "-XHsCIOBkOtE",
        "colab_type": "code",
        "colab": {}
      },
      "cell_type": "code",
      "source": [
        "bow_knn = knn_classifier()"
      ],
      "execution_count": 0,
      "outputs": []
    },
    {
      "metadata": {
        "id": "lWbee-dDwmB-",
        "colab_type": "code",
        "colab": {
          "base_uri": "https://localhost:8080/",
          "height": 153
        },
        "outputId": "6d0e625a-7b0e-4373-dabc-6856538cd9e2"
      },
      "cell_type": "code",
      "source": [
        "bow_knn.fit(standardized_data, y_train)"
      ],
      "execution_count": 141,
      "outputs": [
        {
          "output_type": "execute_result",
          "data": {
            "text/plain": [
              "GridSearchCV(cv=2, error_score='raise',\n",
              "       estimator=KNeighborsClassifier(algorithm='auto', leaf_size=30, metric='minkowski',\n",
              "           metric_params=None, n_jobs=1, n_neighbors=5, p=2,\n",
              "           weights='uniform'),\n",
              "       fit_params=None, iid=True, n_jobs=-1,\n",
              "       param_grid={'algorithm': ['kd_tree', 'brute'], 'n_neighbors': [1, 2, 3, 4, 5, 6]},\n",
              "       pre_dispatch='2*n_jobs', refit=True, return_train_score='warn',\n",
              "       scoring='mutual_info_score', verbose=0)"
            ]
          },
          "metadata": {
            "tags": []
          },
          "execution_count": 141
        }
      ]
    },
    {
      "metadata": {
        "id": "T2jbKOIc2QHk",
        "colab_type": "code",
        "colab": {
          "base_uri": "https://localhost:8080/",
          "height": 51
        },
        "outputId": "3bbb17bb-7a95-49a5-9eef-4919fb2f90d2"
      },
      "cell_type": "code",
      "source": [
        "train_set_report(bow_knn)"
      ],
      "execution_count": 142,
      "outputs": [
        {
          "output_type": "stream",
          "text": [
            "{'algorithm': 'kd_tree', 'n_neighbors': 2}\n",
            "0.010624277697720966\n"
          ],
          "name": "stdout"
        }
      ]
    },
    {
      "metadata": {
        "id": "z6aV06273D5H",
        "colab_type": "code",
        "colab": {
          "base_uri": "https://localhost:8080/",
          "height": 430
        },
        "outputId": "364a3bc2-0e0b-4c40-d47f-0448058b4bc2"
      },
      "cell_type": "code",
      "source": [
        "test_set_report(bow_knn,standardized_data_test,y_test)"
      ],
      "execution_count": 143,
      "outputs": [
        {
          "output_type": "stream",
          "text": [
            "The test set accuracy is 82.133333%\n",
            "             precision    recall  f1-score   support\n",
            "\n",
            "   negative       0.25      0.31      0.28       660\n",
            "   positive       0.91      0.88      0.90      5340\n",
            "\n",
            "avg / total       0.84      0.82      0.83      6000\n",
            "\n"
          ],
          "name": "stdout"
        },
        {
          "output_type": "display_data",
          "data": {
            "image/png": "[encoded data removed]",
            "text/plain": [
              "<matplotlib.figure.Figure at 0x7f012492c358>"
            ]
          },
          "metadata": {
            "tags": []
          }
        }
      ]
    },
    {
      "metadata": {
        "id": "CbwE4jpw6d_D",
        "colab_type": "code",
        "colab": {
          "base_uri": "https://localhost:8080/",
          "height": 294
        },
        "outputId": "3c0bcaa2-4156-4b4c-cd45-f8dbd82244e0"
      },
      "cell_type": "code",
      "source": [
        "result = knnclassifierresults(bow_knn)\n",
        "knnAlgoGraph(result,\"kd_tree\")"
      ],
      "execution_count": 144,
      "outputs": [
        {
          "output_type": "display_data",
          "data": {
            "image/png": "[encoded data removed]",
            "text/plain": [
              "<matplotlib.figure.Figure at 0x7f0114cb4f60>"
            ]
          },
          "metadata": {
            "tags": []
          }
        }
      ]
    },
    {
      "metadata": {
        "id": "fDw28ZhS8-4w",
        "colab_type": "code",
        "colab": {
          "base_uri": "https://localhost:8080/",
          "height": 294
        },
        "outputId": "8a44712c-26c8-40da-9421-72986a39ed2d"
      },
      "cell_type": "code",
      "source": [
        "knnAlgoGraph(result,\"brute\")"
      ],
      "execution_count": 145,
      "outputs": [
        {
          "output_type": "display_data",
          "data": {
            "image/png": "[encoded data removed]",
            "text/plain": [
              "<matplotlib.figure.Figure at 0x7f0132adf630>"
            ]
          },
          "metadata": {
            "tags": []
          }
        }
      ]
    },
    {
      "metadata": {
        "id": "KcFhrlEFnSgq",
        "colab_type": "text"
      },
      "cell_type": "markdown",
      "source": [
        "# *WORD2VEC*"
      ]
    },
    {
      "metadata": {
        "id": "1WPo-XHGnSgs",
        "colab_type": "code",
        "colab": {}
      },
      "cell_type": "code",
      "source": [
        "def wordList(sentence):\n",
        "    listword = []\n",
        "    for sent in sentence:\n",
        "        listword.append(sent.split())\n",
        "    return listword\n",
        "        "
      ],
      "execution_count": 0,
      "outputs": []
    },
    {
      "metadata": {
        "id": "rbauKx2YnSgu",
        "colab_type": "code",
        "colab": {}
      },
      "cell_type": "code",
      "source": [
        "list_clean_text = wordList(X_train['CleanedText'].values)"
      ],
      "execution_count": 0,
      "outputs": []
    },
    {
      "metadata": {
        "id": "xf8vSVEBnSgy",
        "colab_type": "code",
        "colab": {}
      },
      "cell_type": "code",
      "source": [
        "list_clean_text_test = wordList(X_test['CleanedText'].values)"
      ],
      "execution_count": 0,
      "outputs": []
    },
    {
      "metadata": {
        "id": "YCi0tyJMnSg0",
        "colab_type": "code",
        "colab": {
          "base_uri": "https://localhost:8080/",
          "height": 54
        },
        "outputId": "02aaf0a9-c8ac-4535-d879-953b3e3e65b0"
      },
      "cell_type": "code",
      "source": [
        "print(list_clean_text[1])"
      ],
      "execution_count": 16,
      "outputs": [
        {
          "output_type": "stream",
          "text": [
            "['keep', 'carton', 'fridg', 'occas', 'one', 'earli', 'morn', 'doctor', 'appoint', 'exampl', 'grab', 'bar', 'eat', 'car', 'doc', 'visit', 'crunchi', 'nutti', 'nutriti', 'energi', 'bar', 'calori', 'tast', 'good', 'definit', 'someth', 'ill', 'keep', 'buy', 'found', 'amazon', 'com', 'touch', 'whether', 'could', 'get', 'place', 'carri', 'kashi', 'bar']\n"
          ],
          "name": "stdout"
        }
      ]
    },
    {
      "metadata": {
        "id": "xpVDKlaknSg7",
        "colab_type": "code",
        "colab": {}
      },
      "cell_type": "code",
      "source": [
        "# Considering Words with minimum occurence of 5 times\n",
        "w2v_model = Word2Vec(list_clean_text, min_count = 5, size = 50, workers = 2 )"
      ],
      "execution_count": 0,
      "outputs": []
    },
    {
      "metadata": {
        "id": "SSNPjqgKnSg-",
        "colab_type": "code",
        "colab": {
          "base_uri": "https://localhost:8080/",
          "height": 71
        },
        "outputId": "6702cf32-a461-46a8-fee5-8e567318947d"
      },
      "cell_type": "code",
      "source": [
        "w2v_words = list(w2v_model.wv.vocab)\n",
        "print(\"number of words occuring more than 5 times\", len(w2v_words))\n",
        "print(\"sample words\", w2v_words[0:50])"
      ],
      "execution_count": 18,
      "outputs": [
        {
          "output_type": "stream",
          "text": [
            "number of words occuring more than 5 times 6695\n",
            "sample words ['like', 'robust', 'overpow', 'tea', 'without', 'caffein', 'one', 'complex', 'medley', 'flavor', 'could', 'love', 'general', 'dont', 'add', 'milk', 'find', 'brew', 'goe', 'fantast', 'bit', 'dairi', 'anoth', 'benefit', 'matter', 'mani', 'time', 'doesnt', 'get', 'bore', 'keep', 'carton', 'fridg', 'occas', 'earli', 'morn', 'doctor', 'exampl', 'grab', 'bar', 'eat', 'car', 'visit', 'crunchi', 'nutti', 'nutriti', 'energi', 'calori', 'tast', 'good']\n"
          ],
          "name": "stdout"
        }
      ]
    },
    {
      "metadata": {
        "id": "Vx2sbXHBnShE",
        "colab_type": "code",
        "colab": {}
      },
      "cell_type": "code",
      "source": [
        "def w2vavg(clean,w2v_model,w2v_words):\n",
        "    sent_vectors = [] # the avg-w2v for each sentence/review is stored in this list\n",
        "    for sent in clean:\n",
        "        sent_vec = np.zeros(50) # as word vectors are of zero length\n",
        "        cnt_words =0; # num of words with a valid vector in the sentence/review\n",
        "        for word in sent: # for each word in a review/sentence\n",
        "            if word in w2v_words:\n",
        "                vec = w2v_model.wv[word]\n",
        "                sent_vec += vec\n",
        "                cnt_words += 1\n",
        "        if cnt_words != 0:\n",
        "            sent_vec /= cnt_words\n",
        "        sent_vectors.append(sent_vec)\n",
        "    return sent_vectors\n",
        "\n",
        "        \n",
        "#print(len(sent_vectors))\n",
        "#print(len(sent_vectors[0]))\n",
        "        "
      ],
      "execution_count": 0,
      "outputs": []
    },
    {
      "metadata": {
        "id": "2dtRtQdGnShH",
        "colab_type": "code",
        "colab": {
          "base_uri": "https://localhost:8080/",
          "height": 51
        },
        "outputId": "24485cb0-9122-4fbf-d807-5372ca93c10f"
      },
      "cell_type": "code",
      "source": [
        "sent_vectors_train = w2vavg(list_clean_text,w2v_model,w2v_words)\n",
        "print(len(sent_vectors_train))\n",
        "print(len(sent_vectors_train[0]))"
      ],
      "execution_count": 21,
      "outputs": [
        {
          "output_type": "stream",
          "text": [
            "24000\n",
            "50\n"
          ],
          "name": "stdout"
        }
      ]
    },
    {
      "metadata": {
        "id": "v9TqkOkfnShL",
        "colab_type": "code",
        "colab": {
          "base_uri": "https://localhost:8080/",
          "height": 51
        },
        "outputId": "747a35f7-b086-4c7a-e0b9-147b78af3b58"
      },
      "cell_type": "code",
      "source": [
        "sent_vectors_test = w2vavg(list_clean_text_test,w2v_model,w2v_words)\n",
        "print(len(sent_vectors_test))\n",
        "print(len(sent_vectors_test[0]))"
      ],
      "execution_count": 82,
      "outputs": [
        {
          "output_type": "stream",
          "text": [
            "6000\n",
            "50\n"
          ],
          "name": "stdout"
        }
      ]
    },
    {
      "metadata": {
        "id": "hhh2CIgPnShP",
        "colab_type": "code",
        "colab": {}
      },
      "cell_type": "code",
      "source": [
        "sent_vectors_final_train = np.asarray(sent_vectors_train)"
      ],
      "execution_count": 0,
      "outputs": []
    },
    {
      "metadata": {
        "id": "kjxEy8ONnShS",
        "colab_type": "code",
        "colab": {}
      },
      "cell_type": "code",
      "source": [
        "sent_vectors_final_test = np.asarray(sent_vectors_test)"
      ],
      "execution_count": 0,
      "outputs": []
    },
    {
      "metadata": {
        "id": "kF_eWgzWnShU",
        "colab_type": "code",
        "colab": {
          "base_uri": "https://localhost:8080/",
          "height": 51
        },
        "outputId": "145a245d-c615-472f-cc45-95f50a2b2d45"
      },
      "cell_type": "code",
      "source": [
        "print(sent_vectors_final_train.shape)\n",
        "print(sent_vectors_final_test.shape)"
      ],
      "execution_count": 85,
      "outputs": [
        {
          "output_type": "stream",
          "text": [
            "(24000, 50)\n",
            "(6000, 50)\n"
          ],
          "name": "stdout"
        }
      ]
    },
    {
      "metadata": {
        "id": "LUfnubgOnShY",
        "colab_type": "code",
        "colab": {}
      },
      "cell_type": "code",
      "source": [
        "s = standardisation(True)\n",
        "standardized_data = s.fit_transform(sent_vectors_final_train)\n",
        "standardized_data_test = s.transform(sent_vectors_final_test)"
      ],
      "execution_count": 0,
      "outputs": []
    },
    {
      "metadata": {
        "id": "cvPahz7mnShb",
        "colab_type": "code",
        "colab": {}
      },
      "cell_type": "code",
      "source": [
        "avgw2v_knn = knn_classifier()"
      ],
      "execution_count": 0,
      "outputs": []
    },
    {
      "metadata": {
        "id": "d_VG-fcdnShg",
        "colab_type": "code",
        "colab": {
          "base_uri": "https://localhost:8080/",
          "height": 34
        },
        "outputId": "45dc2e32-53ca-4217-aa97-d0f85b8761f9"
      },
      "cell_type": "code",
      "source": [
        "import time\n",
        "start_time = time.time()\n",
        "avgw2v_knn.fit(standardized_data, y_train)\n",
        "print(\"--- %s seconds ---\" % (time.time() - start_time))"
      ],
      "execution_count": 89,
      "outputs": [
        {
          "output_type": "stream",
          "text": [
            "--- 396.4046423435211 seconds ---\n"
          ],
          "name": "stdout"
        }
      ]
    },
    {
      "metadata": {
        "id": "1jmXLIFvnShk",
        "colab_type": "code",
        "colab": {
          "base_uri": "https://localhost:8080/",
          "height": 51
        },
        "outputId": "0054d683-ad09-4bf7-aabf-0ba7cfbeb7a4"
      },
      "cell_type": "code",
      "source": [
        "train_set_report(avgw2v_knn)"
      ],
      "execution_count": 90,
      "outputs": [
        {
          "output_type": "stream",
          "text": [
            "{'algorithm': 'kd_tree', 'n_neighbors': 6}\n",
            "0.027492396470371064\n"
          ],
          "name": "stdout"
        }
      ]
    },
    {
      "metadata": {
        "id": "EDBq3wlQnShn",
        "colab_type": "code",
        "colab": {
          "base_uri": "https://localhost:8080/",
          "height": 430
        },
        "outputId": "b299ef22-bedb-42e0-dbcf-8050810e7b36"
      },
      "cell_type": "code",
      "source": [
        "test_set_report(avgw2v_knn,standardized_data_test,y_test)"
      ],
      "execution_count": 92,
      "outputs": [
        {
          "output_type": "stream",
          "text": [
            "The test set accuracy is 89.483333%\n",
            "             precision    recall  f1-score   support\n",
            "\n",
            "   negative       0.54      0.27      0.36       660\n",
            "   positive       0.92      0.97      0.94      5340\n",
            "\n",
            "avg / total       0.87      0.89      0.88      6000\n",
            "\n"
          ],
          "name": "stdout"
        },
        {
          "output_type": "display_data",
          "data": {
            "image/png": "[encoded data removed]",
            "text/plain": [
              "<matplotlib.figure.Figure at 0x7f0128d38668>"
            ]
          },
          "metadata": {
            "tags": []
          }
        }
      ]
    },
    {
      "metadata": {
        "id": "4EdTo_R0nShq",
        "colab_type": "code",
        "colab": {
          "base_uri": "https://localhost:8080/",
          "height": 294
        },
        "outputId": "9a3baadb-8c86-45f1-8624-570b41ac6db6"
      },
      "cell_type": "code",
      "source": [
        "result = knnclassifierresults(bow_knn)\n",
        "knnAlgoGraph(result,\"kd_tree\")"
      ],
      "execution_count": 93,
      "outputs": [
        {
          "output_type": "display_data",
          "data": {
            "image/png": "[encoded data removed]",
            "text/plain": [
              "<matplotlib.figure.Figure at 0x7f0118a80c18>"
            ]
          },
          "metadata": {
            "tags": []
          }
        }
      ]
    },
    {
      "metadata": {
        "id": "xPLqwzViyIpa",
        "colab_type": "code",
        "colab": {
          "base_uri": "https://localhost:8080/",
          "height": 294
        },
        "outputId": "234e001e-eb60-4c74-b825-8cdfd4877023"
      },
      "cell_type": "code",
      "source": [
        "knnAlgoGraph(result,\"brute\")"
      ],
      "execution_count": 94,
      "outputs": [
        {
          "output_type": "display_data",
          "data": {
            "image/png": "[encoded data removed]",
            "text/plain": [
              "<matplotlib.figure.Figure at 0x7f01189b01d0>"
            ]
          },
          "metadata": {
            "tags": []
          }
        }
      ]
    },
    {
      "metadata": {
        "id": "4417kOi1MoHs",
        "colab_type": "text"
      },
      "cell_type": "markdown",
      "source": [
        "# **TF-IDF**"
      ]
    },
    {
      "metadata": {
        "id": "tb8U5QdtnShv",
        "colab_type": "code",
        "colab": {}
      },
      "cell_type": "code",
      "source": [
        "tf_idf_vect = TfidfVectorizer(ngram_range = (1,2))\n",
        "final_tf_idf = tf_idf_vect.fit_transform(X_train['CleanedText'].values)"
      ],
      "execution_count": 0,
      "outputs": []
    },
    {
      "metadata": {
        "id": "qWf7whLxnShy",
        "colab_type": "code",
        "colab": {
          "base_uri": "https://localhost:8080/",
          "height": 68
        },
        "outputId": "a4ef3a02-fde2-4dd7-d3f3-1e88f05cd844"
      },
      "cell_type": "code",
      "source": [
        "print(\"type = \", type(final_tf_idf))\n",
        "print(\"shape = \", final_tf_idf.get_shape())\n",
        "print(\"number of unique words \", final_tf_idf.get_shape()[1])"
      ],
      "execution_count": 97,
      "outputs": [
        {
          "output_type": "stream",
          "text": [
            "type =  <class 'scipy.sparse.csr.csr_matrix'>\n",
            "shape =  (24000, 418270)\n",
            "number of unique words  418270\n"
          ],
          "name": "stdout"
        }
      ]
    },
    {
      "metadata": {
        "id": "Qh6s2gpYnSh0",
        "colab_type": "code",
        "colab": {}
      },
      "cell_type": "code",
      "source": [
        "final_tf_idf_test = tf_idf_vect.transform(X_test['CleanedText'].values)"
      ],
      "execution_count": 0,
      "outputs": []
    },
    {
      "metadata": {
        "id": "OcbTOdc-nSh5",
        "colab_type": "code",
        "colab": {}
      },
      "cell_type": "code",
      "source": [
        "s = standardisation(False)\n",
        "standardized_data = s.fit_transform(final_tf_idf)\n",
        "standardized_data_test = s.transform(final_tf_idf_test)"
      ],
      "execution_count": 0,
      "outputs": []
    },
    {
      "metadata": {
        "id": "96fCQ4H2nSiB",
        "colab_type": "code",
        "colab": {
          "base_uri": "https://localhost:8080/",
          "height": 153
        },
        "outputId": "069ff268-2d1d-4a29-899f-a88f049657c7"
      },
      "cell_type": "code",
      "source": [
        "tfidf_knn = knn_classifier() \n",
        "tfidf_knn.fit(standardized_data, y_train)"
      ],
      "execution_count": 100,
      "outputs": [
        {
          "output_type": "execute_result",
          "data": {
            "text/plain": [
              "GridSearchCV(cv=2, error_score='raise',\n",
              "       estimator=KNeighborsClassifier(algorithm='auto', leaf_size=30, metric='minkowski',\n",
              "           metric_params=None, n_jobs=1, n_neighbors=5, p=2,\n",
              "           weights='uniform'),\n",
              "       fit_params=None, iid=True, n_jobs=-1,\n",
              "       param_grid={'algorithm': ['kd_tree', 'brute'], 'n_neighbors': [1, 2, 3, 4, 5, 6]},\n",
              "       pre_dispatch='2*n_jobs', refit=True, return_train_score='warn',\n",
              "       scoring='mutual_info_score', verbose=0)"
            ]
          },
          "metadata": {
            "tags": []
          },
          "execution_count": 100
        }
      ]
    },
    {
      "metadata": {
        "id": "tvUa5hu5nSiE",
        "colab_type": "code",
        "colab": {
          "base_uri": "https://localhost:8080/",
          "height": 51
        },
        "outputId": "7970606a-6fe6-4db3-e48e-1775a9e4af1c"
      },
      "cell_type": "code",
      "source": [
        "train_set_report(tfidf_knn)"
      ],
      "execution_count": 101,
      "outputs": [
        {
          "output_type": "stream",
          "text": [
            "{'algorithm': 'kd_tree', 'n_neighbors': 1}\n",
            "0.0017313704645275981\n"
          ],
          "name": "stdout"
        }
      ]
    },
    {
      "metadata": {
        "id": "AJ2IeRVNzOjB",
        "colab_type": "code",
        "colab": {
          "base_uri": "https://localhost:8080/",
          "height": 430
        },
        "outputId": "297d2add-d660-4d95-f6f5-182714d5399b"
      },
      "cell_type": "code",
      "source": [
        "test_set_report(tfidf_knn,standardized_data_test,y_test)"
      ],
      "execution_count": 103,
      "outputs": [
        {
          "output_type": "stream",
          "text": [
            "The test set accuracy is 89.166667%\n",
            "             precision    recall  f1-score   support\n",
            "\n",
            "   negative       0.92      0.02      0.03       660\n",
            "   positive       0.89      1.00      0.94      5340\n",
            "\n",
            "avg / total       0.89      0.89      0.84      6000\n",
            "\n"
          ],
          "name": "stdout"
        },
        {
          "output_type": "display_data",
          "data": {
            "image/png": "[encoded data removed]",
            "text/plain": [
              "<matplotlib.figure.Figure at 0x7f0118935a90>"
            ]
          },
          "metadata": {
            "tags": []
          }
        }
      ]
    },
    {
      "metadata": {
        "id": "P5j56jjY045H",
        "colab_type": "code",
        "colab": {
          "base_uri": "https://localhost:8080/",
          "height": 294
        },
        "outputId": "a82ddbd8-35dd-4e22-b52a-e911f2039d9c"
      },
      "cell_type": "code",
      "source": [
        "result = knnclassifierresults(tfidf_knn)\n",
        "knnAlgoGraph(result,\"kd_tree\")"
      ],
      "execution_count": 104,
      "outputs": [
        {
          "output_type": "display_data",
          "data": {
            "image/png": "[encoded data removed]",
            "text/plain": [
              "<matplotlib.figure.Figure at 0x7f01189a5d30>"
            ]
          },
          "metadata": {
            "tags": []
          }
        }
      ]
    },
    {
      "metadata": {
        "id": "2TYebWN80-MP",
        "colab_type": "code",
        "colab": {
          "base_uri": "https://localhost:8080/",
          "height": 294
        },
        "outputId": "4da6079f-75e0-4377-b950-05e6445a9867"
      },
      "cell_type": "code",
      "source": [
        "knnAlgoGraph(result,\"brute\")"
      ],
      "execution_count": 105,
      "outputs": [
        {
          "output_type": "display_data",
          "data": {
            "image/png": "[encoded data removed]",
            "text/plain": [
              "<matplotlib.figure.Figure at 0x7f0114ccb518>"
            ]
          },
          "metadata": {
            "tags": []
          }
        }
      ]
    },
    {
      "metadata": {
        "id": "dXK1bBHJO8a7",
        "colab_type": "text"
      },
      "cell_type": "markdown",
      "source": [
        "# tfidfW2v"
      ]
    },
    {
      "metadata": {
        "id": "zrdrjrq40-7M",
        "colab_type": "code",
        "colab": {}
      },
      "cell_type": "code",
      "source": [
        "tfidf_feat = tf_idf_vect.get_feature_names()"
      ],
      "execution_count": 0,
      "outputs": []
    },
    {
      "metadata": {
        "id": "hbG8ZGRM0_pC",
        "colab_type": "code",
        "colab": {}
      },
      "cell_type": "code",
      "source": [
        "# TF-IDF weighted Word2Vec\n",
        "def tfidfw2v(final_tf_idf,tfidf_feat,list_clean_text,w2v_model,w2v_words):\n",
        "    tfidf_sent_vectors = []; # the tfidf-w2v for each sentence/review is stored in this list\n",
        "    row=0;\n",
        "    for sent in list_clean_text: # for each review/sentence \n",
        "        sent_vec = np.zeros(50) # as word vectors are of zero length\n",
        "        weight_sum =0; # num of words with a valid vector in the sentence/review\n",
        "        for word in sent: # for each word in a review/sentence\n",
        "            if (word in w2v_words and (word in tfidf_feat)):\n",
        "                vec = w2v_model.wv[word]\n",
        "                # obtain the tf_idfidf of a word in a sentence/review\n",
        "                tf_idf = final_tf_idf[row, tfidf_feat.index(word)]\n",
        "                sent_vec += (vec * tf_idf)\n",
        "                weight_sum += tf_idf\n",
        "                \n",
        "        if weight_sum != 0:\n",
        "            sent_vec /= weight_sum\n",
        "        tfidf_sent_vectors.append(sent_vec)\n",
        "        row += 1\n",
        "    return tfidf_sent_vectors"
      ],
      "execution_count": 0,
      "outputs": []
    },
    {
      "metadata": {
        "id": "SGBETv871feW",
        "colab_type": "code",
        "colab": {
          "base_uri": "https://localhost:8080/",
          "height": 51
        },
        "outputId": "e72ea66d-3c1e-4659-cda4-d801814ef0f9"
      },
      "cell_type": "code",
      "source": [
        "sent_vectors_train = tfidfw2v(final_tf_idf,tfidf_feat,list_clean_text,w2v_model,w2v_words)\n",
        "print(len(sent_vectors_train))\n",
        "print(len(sent_vectors_train[0]))"
      ],
      "execution_count": 22,
      "outputs": [
        {
          "output_type": "stream",
          "text": [
            "24000\n",
            "50\n"
          ],
          "name": "stdout"
        }
      ]
    },
    {
      "metadata": {
        "id": "EgsMsAB6bIfI",
        "colab_type": "code",
        "colab": {
          "base_uri": "https://localhost:8080/",
          "height": 51
        },
        "outputId": "88438bcb-cf60-4212-865d-c6103481d33d"
      },
      "cell_type": "code",
      "source": [
        "sent_vectors_test = tfidfw2v(final_tf_idf,tfidf_feat,list_clean_text_test,w2v_model,w2v_words)\n",
        "print(len(sent_vectors_train))\n",
        "print(len(sent_vectors_train[0]))"
      ],
      "execution_count": 23,
      "outputs": [
        {
          "output_type": "stream",
          "text": [
            "24000\n",
            "50\n"
          ],
          "name": "stdout"
        }
      ]
    },
    {
      "metadata": {
        "id": "N1b5_sZtbL8Q",
        "colab_type": "code",
        "colab": {}
      },
      "cell_type": "code",
      "source": [
        "sent_vectors_final_train = np.asarray(sent_vectors_train)"
      ],
      "execution_count": 0,
      "outputs": []
    },
    {
      "metadata": {
        "id": "46BUqaHFYCNJ",
        "colab_type": "code",
        "colab": {}
      },
      "cell_type": "code",
      "source": [
        "sent_vectors_final_test = np.asarray(sent_vectors_test)"
      ],
      "execution_count": 0,
      "outputs": []
    },
    {
      "metadata": {
        "id": "6i2ul98RjzOC",
        "colab_type": "code",
        "colab": {
          "base_uri": "https://localhost:8080/",
          "height": 51
        },
        "outputId": "2ce047e8-4639-4a11-821e-10c7fbd34799"
      },
      "cell_type": "code",
      "source": [
        "print(sent_vectors_final_train.shape)\n",
        "print(sent_vectors_final_test.shape)"
      ],
      "execution_count": 28,
      "outputs": [
        {
          "output_type": "stream",
          "text": [
            "(24000, 50)\n",
            "(6000, 50)\n"
          ],
          "name": "stdout"
        }
      ]
    },
    {
      "metadata": {
        "id": "ANyJl5mlP2JH",
        "colab_type": "code",
        "colab": {}
      },
      "cell_type": "code",
      "source": [
        "s = standardisation(False)\n",
        "standardized_data = s.fit_transform(sent_vectors_final_train)\n",
        "standardized_data_test = s.transform(sent_vectors_final_test)"
      ],
      "execution_count": 0,
      "outputs": []
    },
    {
      "metadata": {
        "id": "9rkwzuEdQDks",
        "colab_type": "code",
        "colab": {
          "base_uri": "https://localhost:8080/",
          "height": 153
        },
        "outputId": "5d5b4ab4-1515-48bc-b314-098b121a0b52"
      },
      "cell_type": "code",
      "source": [
        "tfidfw2v_knn = knn_classifier() \n",
        "tfidfw2v_knn.fit(standardized_data, y_train)"
      ],
      "execution_count": 30,
      "outputs": [
        {
          "output_type": "execute_result",
          "data": {
            "text/plain": [
              "GridSearchCV(cv=2, error_score='raise',\n",
              "       estimator=KNeighborsClassifier(algorithm='auto', leaf_size=30, metric='minkowski',\n",
              "           metric_params=None, n_jobs=1, n_neighbors=5, p=2,\n",
              "           weights='uniform'),\n",
              "       fit_params=None, iid=True, n_jobs=-1,\n",
              "       param_grid={'algorithm': ['kd_tree', 'brute'], 'n_neighbors': [1, 2, 3, 4, 5, 6]},\n",
              "       pre_dispatch='2*n_jobs', refit=True, return_train_score='warn',\n",
              "       scoring='mutual_info_score', verbose=0)"
            ]
          },
          "metadata": {
            "tags": []
          },
          "execution_count": 30
        }
      ]
    },
    {
      "metadata": {
        "id": "zxNwmsDyQggh",
        "colab_type": "code",
        "colab": {
          "base_uri": "https://localhost:8080/",
          "height": 51
        },
        "outputId": "761e7dd0-13dd-4bdd-caa3-7f932b8cc0eb"
      },
      "cell_type": "code",
      "source": [
        "train_set_report(tfidfw2v_knn)"
      ],
      "execution_count": 31,
      "outputs": [
        {
          "output_type": "stream",
          "text": [
            "{'algorithm': 'kd_tree', 'n_neighbors': 2}\n",
            "0.02131463524280055\n"
          ],
          "name": "stdout"
        }
      ]
    },
    {
      "metadata": {
        "id": "MKKB1PKkQlVz",
        "colab_type": "code",
        "colab": {
          "base_uri": "https://localhost:8080/",
          "height": 430
        },
        "outputId": "82dba33f-550b-4416-c3e3-0d04abe94f97"
      },
      "cell_type": "code",
      "source": [
        "test_set_report(tfidfw2v_knn,standardized_data_test,y_test)"
      ],
      "execution_count": 32,
      "outputs": [
        {
          "output_type": "stream",
          "text": [
            "The test set accuracy is 75.266667%\n",
            "             precision    recall  f1-score   support\n",
            "\n",
            "   negative       0.15      0.26      0.19       660\n",
            "   positive       0.90      0.81      0.85      5340\n",
            "\n",
            "avg / total       0.82      0.75      0.78      6000\n",
            "\n"
          ],
          "name": "stdout"
        },
        {
          "output_type": "display_data",
          "data": {
            "image/png": "[encoded data removed]",
            "text/plain": [
              "<matplotlib.figure.Figure at 0x7f5c8eef5128>"
            ]
          },
          "metadata": {
            "tags": []
          }
        }
      ]
    },
    {
      "metadata": {
        "id": "r3wEbOXNQrxi",
        "colab_type": "code",
        "colab": {
          "base_uri": "https://localhost:8080/",
          "height": 294
        },
        "outputId": "b481b6ac-3638-4370-964a-8a148474bfb3"
      },
      "cell_type": "code",
      "source": [
        "result = knnclassifierresults(tfidfw2v_knn)\n",
        "knnAlgoGraph(result,\"kd_tree\")"
      ],
      "execution_count": 34,
      "outputs": [
        {
          "output_type": "display_data",
          "data": {
            "image/png": "[encoded data removed]",
            "text/plain": [
              "<matplotlib.figure.Figure at 0x7f5c8ec15400>"
            ]
          },
          "metadata": {
            "tags": []
          }
        }
      ]
    },
    {
      "metadata": {
        "id": "juEB0hlbQyCM",
        "colab_type": "code",
        "colab": {
          "base_uri": "https://localhost:8080/",
          "height": 294
        },
        "outputId": "b6a99c51-8d0a-43ea-ae37-bc8a350b0cd1"
      },
      "cell_type": "code",
      "source": [
        "knnAlgoGraph(result,\"brute\")"
      ],
      "execution_count": 35,
      "outputs": [
        {
          "output_type": "display_data",
          "data": {
            "image/png": "[encoded data removed]",
            "text/plain": [
              "<matplotlib.figure.Figure at 0x7f5c8ef43f28>"
            ]
          },
          "metadata": {
            "tags": []
          }
        }
      ]
    },
    {
      "metadata": {
        "id": "h05TwzW8Q5Z-",
        "colab_type": "code",
        "colab": {}
      },
      "cell_type": "code",
      "source": [
        ""
      ],
      "execution_count": 0,
      "outputs": []
    }
  ]
}