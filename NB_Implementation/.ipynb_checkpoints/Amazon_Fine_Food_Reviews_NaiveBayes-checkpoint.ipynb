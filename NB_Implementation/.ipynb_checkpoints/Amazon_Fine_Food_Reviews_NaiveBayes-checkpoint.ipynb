{
 "cells": [
  {
   "cell_type": "markdown",
   "metadata": {
    "colab_type": "text",
    "id": "UIn1GsFNJkjH"
   },
   "source": [
    "# Amazon Fine Food Reviews Analysis\n",
    "\n",
    "\n",
    "Data Source: https://www.kaggle.com/snap/amazon-fine-food-reviews <br>\n",
    "\n",
    "EDA: https://nycdatascience.com/blog/student-works/amazon-fine-foods-visualization/\n",
    "\n",
    "\n",
    "The Amazon Fine Food Reviews dataset consists of reviews of fine foods from Amazon.<br>\n",
    "\n",
    "Number of reviews: 568,454<br>\n",
    "Number of users: 256,059<br>\n",
    "Number of products: 74,258<br>\n",
    "Timespan: Oct 1999 - Oct 2012<br>\n",
    "Number of Attributes/Columns in data: 10 \n",
    "\n",
    "Attribute Information:\n",
    "\n",
    "1. Id\n",
    "2. ProductId - unique identifier for the product\n",
    "3. UserId - unqiue identifier for the user\n",
    "4. ProfileName\n",
    "5. HelpfulnessNumerator - number of users who found the review helpful\n",
    "6. HelpfulnessDenominator - number of users who indicated whether they found the review helpful or not\n",
    "7. Score - rating between 1 and 5\n",
    "8. Time - timestamp for the review\n",
    "9. Summary - brief summary of the review\n",
    "10. Text - text of the review\n",
    "\n",
    "\n",
    "#### Objective:\n",
    "Given a review, determine whether the review is positive (rating of 4 or 5) or negative (rating of 1 or 2).\n",
    "\n"
   ]
  },
  {
   "cell_type": "markdown",
   "metadata": {
    "colab_type": "text",
    "id": "FxGKHpZlJkle"
   },
   "source": []
  },
  {
   "cell_type": "markdown",
   "metadata": {
    "colab_type": "text",
    "id": "RGRFxjhgJklc"
   },
   "source": [
    "# Applying Multinomial Naive Bayes"
   ]
  },
  {
   "cell_type": "code",
   "execution_count": 0,
   "metadata": {
    "colab": {},
    "colab_type": "code",
    "id": "A6LT_Ivr3n7v"
   },
   "outputs": [],
   "source": [
    "%matplotlib inline\n",
    "import warnings\n",
    "import pickle\n",
    "warnings.filterwarnings(\"ignore\")\n",
    "import sqlite3\n",
    "import pandas as pd\n",
    "import numpy as np\n",
    "import nltk\n",
    "import string\n",
    "import matplotlib.pyplot as plt\n",
    "from sklearn.model_selection import TimeSeriesSplit\n",
    "from sklearn.feature_extraction.text import CountVectorizer\n",
    "from sklearn.naive_bayes import MultinomialNB\n",
    "from sklearn import metrics\n",
    "from sklearn.metrics import accuracy_score\n",
    "#from sklearn import cross_validation\n",
    "#from sklearn.cross_validation import cross_val_score\n",
    "import seaborn as sn\n",
    "from sklearn.metrics import make_scorer\n",
    "from sklearn.metrics import accuracy_score\n",
    "from sklearn.feature_extraction.text import CountVectorizer\n",
    "from sklearn.metrics import classification_report,confusion_matrix\n",
    "from sklearn.model_selection import GridSearchCV\n",
    "from sklearn.model_selection import train_test_split\n",
    "from sklearn.preprocessing import StandardScaler\n",
    "from sklearn.feature_extraction.text import TfidfTransformer\n",
    "from sklearn.feature_extraction.text import TfidfVectorizer\n",
    "import scipy.sparse\n",
    "from scipy.sparse import find\n",
    "from collections import Counter\n",
    "import scikitplot.metrics as skplt\n",
    "from prettytable import PrettyTable\n"
   ]
  },
  {
   "cell_type": "markdown",
   "metadata": {
    "colab_type": "text",
    "id": "GF31xS1M3dvr"
   },
   "source": [
    "Utility Function"
   ]
  },
  {
   "cell_type": "code",
   "execution_count": 0,
   "metadata": {
    "colab": {},
    "colab_type": "code",
    "id": "2dtSBjaz3bxM"
   },
   "outputs": [],
   "source": [
    "def standardisation(mean,final_counts,final_counts_test):\n",
    "  s = StandardScaler(with_mean = mean)\n",
    "  standardized_data = s.fit_transform(final_counts)\n",
    "  standardized_data_test = s.transform(final_counts_test)\n",
    "  return (standardized_data,standardized_data_test)\n",
    "\n",
    "def nb_classifier():\n",
    "  alpha = [0.001,0.01,0.1,1,10,100,1000]\n",
    "  tss = TimeSeriesSplit(n_splits=2)\n",
    "  nb = MultinomialNB()\n",
    "  parameter = {'alpha': alpha}\n",
    "  clf = GridSearchCV(estimator = nb,param_grid = parameter,verbose = 1,scoring = 'roc_auc', cv=tss, n_jobs = 2)\n",
    "  return clf\n",
    "\n",
    "def train_set_report(clf):\n",
    "  best_parameters = clf.best_params_\n",
    "  best_accuracy = clf.best_score_\n",
    "  print(best_parameters)\n",
    "  print(best_accuracy)\n",
    "  \n",
    "def test_set_report(clf,x_test,y_test):\n",
    "  pred = clf.predict(standardized_data_test)\n",
    "  acc = accuracy_score(y_test, pred) * 100\n",
    "  print('The test set accuracy is %f%%' %(acc))\n",
    "  skplt.plot_confusion_matrix(y_test ,pred)\n",
    "  print(classification_report(y_test ,pred))\n",
    "\n",
    "def nbclassifierresults(clf):\n",
    "  out = pd.DataFrame.from_dict(clf.cv_results_)\n",
    "  return out\n",
    "\n",
    "\n",
    "def plotGraph(a):\n",
    "  b = a.param_alpha.tolist()\n",
    "  c = a.mean_test_score.tolist()\n",
    "  d = a.mean_train_score.tolist()\n",
    "  plt.plot(b,c,color = 'blue',label = \"Test Score\")\n",
    "  plt.plot(b,d,color = 'red', label = \"Train Score\")\n",
    "  plt.title(\"Alpha and Score for Test and Cross validation\")\n",
    "  plt.xlabel(\"Alpha\")\n",
    "  plt.ylabel(\"Score\")\n",
    "  plt.legend()\n",
    "  plt.show()\n",
    "  \n",
    "  \n",
    "def roc_auc_curve(xtrain,ytrain,xtest,ytest):\n",
    "  prob_train = clf.predict_proba(xtrain)\n",
    "  fpr_train, tpr_train, threshold_train = metrics.roc_curve(ytrain, prob_train[:,-1])\n",
    "  roc_auc_train = metrics.auc(fpr_train, tpr_train)\n",
    "  prob_test = clf.predict_proba(xtest)\n",
    "  fpr_test, tpr_test, threshold_test = metrics.roc_curve(ytest, prob_test[:,-1])\n",
    "  roc_auc_test = metrics.auc(fpr_test, tpr_test)\n",
    "  plt.title('Receiver Operating Characteristic')\n",
    "  plt.plot(fpr_train, tpr_train,'b',color = 'green', label = 'Train AUC = %0.2f' % roc_auc_train)\n",
    "  plt.plot(fpr_test, tpr_test, 'b', label = 'Test AUC = %0.2f' % roc_auc_test)\n",
    "  plt.legend(loc = 'lower right')\n",
    "  plt.plot([0, 1], [0, 1],'r--')\n",
    "  plt.xlim([0, 1])\n",
    "  plt.ylim([0, 1])\n",
    "  plt.ylabel('True Positive Rate')\n",
    "  plt.xlabel('False Positive Rate')\n",
    "  plt.show()\n",
    "  \n",
    "\n",
    "  \n",
    " \n",
    "  \n",
    "  \n",
    "\n",
    "  \n",
    "\n"
   ]
  },
  {
   "cell_type": "markdown",
   "metadata": {
    "colab_type": "text",
    "id": "9j14YZfe7MMN"
   },
   "source": [
    "**Data Sampling**"
   ]
  },
  {
   "cell_type": "code",
   "execution_count": 13,
   "metadata": {
    "colab": {
     "base_uri": "https://localhost:8080/",
     "height": 34
    },
    "colab_type": "code",
    "id": "y6is6-2b7T4I",
    "outputId": "648987d8-710c-458c-d40c-1ddbcafa40e3"
   },
   "outputs": [
    {
     "name": "stdout",
     "output_type": "stream",
     "text": [
      "Drive already mounted at /content/drive; to attempt to forcibly remount, call drive.mount(\"/content/drive\", force_remount=True).\n"
     ]
    }
   ],
   "source": [
    "from google.colab import drive\n",
    "drive.mount('/content/drive')"
   ]
  },
  {
   "cell_type": "code",
   "execution_count": 0,
   "metadata": {
    "colab": {},
    "colab_type": "code",
    "id": "sISqO-HC6wh3"
   },
   "outputs": [],
   "source": [
    "final = pd.read_pickle('/content/drive/My Drive/Dataset/AFR/final_100000.pkl')"
   ]
  },
  {
   "cell_type": "code",
   "execution_count": 15,
   "metadata": {
    "colab": {
     "base_uri": "https://localhost:8080/",
     "height": 34
    },
    "colab_type": "code",
    "id": "WIx5RUOZ7a0X",
    "outputId": "2d98b1e3-972d-4229-a072-c7bc82c6f21e"
   },
   "outputs": [
    {
     "data": {
      "text/plain": [
       "(100000, 12)"
      ]
     },
     "execution_count": 15,
     "metadata": {
      "tags": []
     },
     "output_type": "execute_result"
    }
   ],
   "source": [
    "final.shape"
   ]
  },
  {
   "cell_type": "code",
   "execution_count": 0,
   "metadata": {
    "colab": {},
    "colab_type": "code",
    "id": "nBmLnWEp7iBv"
   },
   "outputs": [],
   "source": [
    "l = final['Score']\n",
    "final = final.drop(\"Score\", axis = 1)\n"
   ]
  },
  {
   "cell_type": "code",
   "execution_count": 17,
   "metadata": {
    "colab": {
     "base_uri": "https://localhost:8080/",
     "height": 34
    },
    "colab_type": "code",
    "id": "RRMh8FYU7ene",
    "outputId": "05615699-bab6-4a04-efde-785eec0cbca8"
   },
   "outputs": [
    {
     "data": {
      "text/plain": [
       "Counter({0: 12271, 1: 87729})"
      ]
     },
     "execution_count": 17,
     "metadata": {
      "tags": []
     },
     "output_type": "execute_result"
    }
   ],
   "source": [
    "def partition(x):\n",
    "    if x == 'positive':\n",
    "        return 1\n",
    "    return 0\n",
    "l1 = l.map(partition)\n",
    "Counter(l1)"
   ]
  },
  {
   "cell_type": "code",
   "execution_count": 0,
   "metadata": {
    "colab": {},
    "colab_type": "code",
    "id": "CXyZHr9D757E"
   },
   "outputs": [],
   "source": [
    "X_train, X_test, y_train, y_test = train_test_split(final, l1, test_size=0.3, random_state=0)"
   ]
  },
  {
   "cell_type": "markdown",
   "metadata": {
    "colab_type": "text",
    "id": "_huYNARl7-T5"
   },
   "source": [
    "# BOW"
   ]
  },
  {
   "cell_type": "code",
   "execution_count": 19,
   "metadata": {
    "colab": {
     "base_uri": "https://localhost:8080/",
     "height": 85
    },
    "colab_type": "code",
    "id": "m59G6pRG8Awj",
    "outputId": "11e3c089-9fc8-49e7-f391-17bd10f8d0bc"
   },
   "outputs": [
    {
     "name": "stdout",
     "output_type": "stream",
     "text": [
      "--- 2.275024890899658 seconds ---\n",
      "the type of count vectorizer  <class 'scipy.sparse.csr.csr_matrix'>\n",
      "the shape of out text BOW vectorizer  (70000, 31572)\n",
      "the number of unique words  31572\n"
     ]
    }
   ],
   "source": [
    "import time\n",
    "start_time = time.time()\n",
    "count_vect = CountVectorizer()\n",
    "final_counts = count_vect.fit_transform(X_train['CleanedText'].values)\n",
    "print(\"--- %s seconds ---\" % (time.time() - start_time))\n",
    "print(\"the type of count vectorizer \",type(final_counts))\n",
    "print(\"the shape of out text BOW vectorizer \",final_counts.get_shape())\n",
    "print(\"the number of unique words \", final_counts.get_shape()[1])"
   ]
  },
  {
   "cell_type": "code",
   "execution_count": 20,
   "metadata": {
    "colab": {
     "base_uri": "https://localhost:8080/",
     "height": 51
    },
    "colab_type": "code",
    "id": "J8KpVBGh8Cux",
    "outputId": "9c1cef57-af34-41c3-ec14-4f6d1d1eaad9"
   },
   "outputs": [
    {
     "name": "stdout",
     "output_type": "stream",
     "text": [
      "(70000, 31572)\n",
      "(30000, 31572)\n"
     ]
    }
   ],
   "source": [
    "import time\n",
    "start_time = time.time()\n",
    "final_counts_test = count_vect.transform(X_test['CleanedText'].values)\n",
    "print(final_counts.shape)\n",
    "print(final_counts_test.shape)"
   ]
  },
  {
   "cell_type": "code",
   "execution_count": 0,
   "metadata": {
    "colab": {},
    "colab_type": "code",
    "id": "eTcV4oeF8Fyo"
   },
   "outputs": [],
   "source": [
    "standardized_data, standardized_data_test = standardisation(False,final_counts,final_counts_test)"
   ]
  },
  {
   "cell_type": "code",
   "execution_count": 0,
   "metadata": {
    "colab": {},
    "colab_type": "code",
    "id": "CSJolglZ8Js_"
   },
   "outputs": [],
   "source": [
    "bow_nb = nb_classifier()"
   ]
  },
  {
   "cell_type": "code",
   "execution_count": 0,
   "metadata": {
    "colab": {
     "base_uri": "https://localhost:8080/",
     "height": 187
    },
    "colab_type": "code",
    "id": "ij28VkjG8PjL",
    "outputId": "29846ace-71e6-49aa-f18e-0df7b8c25774"
   },
   "outputs": [
    {
     "name": "stdout",
     "output_type": "stream",
     "text": [
      "Fitting 2 folds for each of 7 candidates, totalling 14 fits\n"
     ]
    },
    {
     "name": "stderr",
     "output_type": "stream",
     "text": [
      "[Parallel(n_jobs=2)]: Using backend LokyBackend with 2 concurrent workers.\n",
      "[Parallel(n_jobs=2)]: Done  14 out of  14 | elapsed:    3.2s finished\n"
     ]
    },
    {
     "data": {
      "text/plain": [
       "GridSearchCV(cv=TimeSeriesSplit(max_train_size=None, n_splits=2),\n",
       "       error_score='raise-deprecating',\n",
       "       estimator=MultinomialNB(alpha=1.0, class_prior=None, fit_prior=True),\n",
       "       fit_params=None, iid='warn', n_jobs=2,\n",
       "       param_grid={'alpha': [0.001, 0.01, 0.1, 1, 10, 100, 1000]},\n",
       "       pre_dispatch='2*n_jobs', refit=True, return_train_score='warn',\n",
       "       scoring='roc_auc', verbose=1)"
      ]
     },
     "execution_count": 18,
     "metadata": {
      "tags": []
     },
     "output_type": "execute_result"
    }
   ],
   "source": [
    "bow_nb.fit(standardized_data, y_train)\n"
   ]
  },
  {
   "cell_type": "code",
   "execution_count": 0,
   "metadata": {
    "colab": {},
    "colab_type": "code",
    "id": "Dsh8jFIaAYP4"
   },
   "outputs": [],
   "source": [
    "with open('bow_nb_auc.pkl', 'wb') as f:\n",
    "    pickle.dump(bow_nb, f)\n",
    "uploadf('bow_nb_auc.pkl')"
   ]
  },
  {
   "cell_type": "code",
   "execution_count": 0,
   "metadata": {
    "colab": {
     "base_uri": "https://localhost:8080/",
     "height": 51
    },
    "colab_type": "code",
    "id": "HcB5OAGGAkfY",
    "outputId": "80fa47f8-108d-429a-de68-5bbdaa5f103e"
   },
   "outputs": [
    {
     "name": "stdout",
     "output_type": "stream",
     "text": [
      "{'alpha': 10}\n",
      "0.7143355143406226\n"
     ]
    }
   ],
   "source": [
    "train_set_report(bow_nb)"
   ]
  },
  {
   "cell_type": "code",
   "execution_count": 0,
   "metadata": {
    "colab": {
     "base_uri": "https://localhost:8080/",
     "height": 464
    },
    "colab_type": "code",
    "id": "2IgpLO5jGD3I",
    "outputId": "5888cb94-5d6a-419b-9c1b-0425a156cc3a"
   },
   "outputs": [
    {
     "name": "stdout",
     "output_type": "stream",
     "text": [
      "The test set accuracy is 84.350000%\n",
      "              precision    recall  f1-score   support\n",
      "\n",
      "           0       0.40      0.58      0.48      3665\n",
      "           1       0.94      0.88      0.91     26335\n",
      "\n",
      "   micro avg       0.84      0.84      0.84     30000\n",
      "   macro avg       0.67      0.73      0.69     30000\n",
      "weighted avg       0.87      0.84      0.86     30000\n",
      "\n"
     ]
    },
    {
     "data": {
      "image/png": "[encoded data removed]",
      "text/plain": [
       "<Figure size 432x288 with 2 Axes>"
      ]
     },
     "metadata": {
      "tags": []
     },
     "output_type": "display_data"
    }
   ],
   "source": [
    "test_set_report(bow_nb,standardized_data_test,y_test)"
   ]
  },
  {
   "cell_type": "code",
   "execution_count": 0,
   "metadata": {
    "colab": {},
    "colab_type": "code",
    "id": "rtF53V54Nby3"
   },
   "outputs": [],
   "source": [
    "out = nbclassifierresults(bow_nb)"
   ]
  },
  {
   "cell_type": "code",
   "execution_count": 0,
   "metadata": {
    "colab": {
     "base_uri": "https://localhost:8080/",
     "height": 309
    },
    "colab_type": "code",
    "id": "if7z5PpROXXs",
    "outputId": "d79fc632-ac94-4aa8-cf90-2d6c2101384a"
   },
   "outputs": [
    {
     "data": {
      "text/html": [
       "<div>\n",
       "<style scoped>\n",
       "    .dataframe tbody tr th:only-of-type {\n",
       "        vertical-align: middle;\n",
       "    }\n",
       "\n",
       "    .dataframe tbody tr th {\n",
       "        vertical-align: top;\n",
       "    }\n",
       "\n",
       "    .dataframe thead th {\n",
       "        text-align: right;\n",
       "    }\n",
       "</style>\n",
       "<table border=\"1\" class=\"dataframe\">\n",
       "  <thead>\n",
       "    <tr style=\"text-align: right;\">\n",
       "      <th></th>\n",
       "      <th>mean_fit_time</th>\n",
       "      <th>mean_score_time</th>\n",
       "      <th>mean_test_score</th>\n",
       "      <th>mean_train_score</th>\n",
       "      <th>param_alpha</th>\n",
       "      <th>params</th>\n",
       "      <th>rank_test_score</th>\n",
       "      <th>split0_test_score</th>\n",
       "      <th>split0_train_score</th>\n",
       "      <th>split1_test_score</th>\n",
       "      <th>split1_train_score</th>\n",
       "      <th>std_fit_time</th>\n",
       "      <th>std_score_time</th>\n",
       "      <th>std_test_score</th>\n",
       "      <th>std_train_score</th>\n",
       "    </tr>\n",
       "  </thead>\n",
       "  <tbody>\n",
       "    <tr>\n",
       "      <th>0</th>\n",
       "      <td>0.084423</td>\n",
       "      <td>0.023949</td>\n",
       "      <td>0.689799</td>\n",
       "      <td>0.957859</td>\n",
       "      <td>0.001</td>\n",
       "      <td>{'alpha': 0.001}</td>\n",
       "      <td>5</td>\n",
       "      <td>0.671945</td>\n",
       "      <td>0.966485</td>\n",
       "      <td>0.707652</td>\n",
       "      <td>0.949234</td>\n",
       "      <td>0.017172</td>\n",
       "      <td>0.000735</td>\n",
       "      <td>0.017854</td>\n",
       "      <td>0.008626</td>\n",
       "    </tr>\n",
       "    <tr>\n",
       "      <th>1</th>\n",
       "      <td>0.078685</td>\n",
       "      <td>0.023416</td>\n",
       "      <td>0.692177</td>\n",
       "      <td>0.957800</td>\n",
       "      <td>0.01</td>\n",
       "      <td>{'alpha': 0.01}</td>\n",
       "      <td>4</td>\n",
       "      <td>0.674690</td>\n",
       "      <td>0.966401</td>\n",
       "      <td>0.709664</td>\n",
       "      <td>0.949198</td>\n",
       "      <td>0.023988</td>\n",
       "      <td>0.000610</td>\n",
       "      <td>0.017487</td>\n",
       "      <td>0.008601</td>\n",
       "    </tr>\n",
       "    <tr>\n",
       "      <th>2</th>\n",
       "      <td>0.080334</td>\n",
       "      <td>0.023023</td>\n",
       "      <td>0.695743</td>\n",
       "      <td>0.957558</td>\n",
       "      <td>0.1</td>\n",
       "      <td>{'alpha': 0.1}</td>\n",
       "      <td>3</td>\n",
       "      <td>0.679572</td>\n",
       "      <td>0.966056</td>\n",
       "      <td>0.711915</td>\n",
       "      <td>0.949059</td>\n",
       "      <td>0.018653</td>\n",
       "      <td>0.000401</td>\n",
       "      <td>0.016171</td>\n",
       "      <td>0.008499</td>\n",
       "    </tr>\n",
       "    <tr>\n",
       "      <th>3</th>\n",
       "      <td>0.076192</td>\n",
       "      <td>0.023875</td>\n",
       "      <td>0.704967</td>\n",
       "      <td>0.956666</td>\n",
       "      <td>1</td>\n",
       "      <td>{'alpha': 1}</td>\n",
       "      <td>2</td>\n",
       "      <td>0.691717</td>\n",
       "      <td>0.964744</td>\n",
       "      <td>0.718216</td>\n",
       "      <td>0.948587</td>\n",
       "      <td>0.017940</td>\n",
       "      <td>0.000624</td>\n",
       "      <td>0.013249</td>\n",
       "      <td>0.008078</td>\n",
       "    </tr>\n",
       "    <tr>\n",
       "      <th>4</th>\n",
       "      <td>0.072851</td>\n",
       "      <td>0.023404</td>\n",
       "      <td>0.714336</td>\n",
       "      <td>0.947806</td>\n",
       "      <td>10</td>\n",
       "      <td>{'alpha': 10}</td>\n",
       "      <td>1</td>\n",
       "      <td>0.703459</td>\n",
       "      <td>0.953115</td>\n",
       "      <td>0.725212</td>\n",
       "      <td>0.942496</td>\n",
       "      <td>0.010230</td>\n",
       "      <td>0.000172</td>\n",
       "      <td>0.010877</td>\n",
       "      <td>0.005310</td>\n",
       "    </tr>\n",
       "  </tbody>\n",
       "</table>\n",
       "</div>"
      ],
      "text/plain": [
       "   mean_fit_time  mean_score_time  mean_test_score  mean_train_score  \\\n",
       "0       0.084423         0.023949         0.689799          0.957859   \n",
       "1       0.078685         0.023416         0.692177          0.957800   \n",
       "2       0.080334         0.023023         0.695743          0.957558   \n",
       "3       0.076192         0.023875         0.704967          0.956666   \n",
       "4       0.072851         0.023404         0.714336          0.947806   \n",
       "\n",
       "  param_alpha            params  rank_test_score  split0_test_score  \\\n",
       "0       0.001  {'alpha': 0.001}                5           0.671945   \n",
       "1        0.01   {'alpha': 0.01}                4           0.674690   \n",
       "2         0.1    {'alpha': 0.1}                3           0.679572   \n",
       "3           1      {'alpha': 1}                2           0.691717   \n",
       "4          10     {'alpha': 10}                1           0.703459   \n",
       "\n",
       "   split0_train_score  split1_test_score  split1_train_score  std_fit_time  \\\n",
       "0            0.966485           0.707652            0.949234      0.017172   \n",
       "1            0.966401           0.709664            0.949198      0.023988   \n",
       "2            0.966056           0.711915            0.949059      0.018653   \n",
       "3            0.964744           0.718216            0.948587      0.017940   \n",
       "4            0.953115           0.725212            0.942496      0.010230   \n",
       "\n",
       "   std_score_time  std_test_score  std_train_score  \n",
       "0        0.000735        0.017854         0.008626  \n",
       "1        0.000610        0.017487         0.008601  \n",
       "2        0.000401        0.016171         0.008499  \n",
       "3        0.000624        0.013249         0.008078  \n",
       "4        0.000172        0.010877         0.005310  "
      ]
     },
     "execution_count": 22,
     "metadata": {
      "tags": []
     },
     "output_type": "execute_result"
    }
   ],
   "source": [
    "out.head()"
   ]
  },
  {
   "cell_type": "code",
   "execution_count": 0,
   "metadata": {
    "colab": {
     "base_uri": "https://localhost:8080/",
     "height": 294
    },
    "colab_type": "code",
    "id": "eaKgP6qM0vCJ",
    "outputId": "4544333c-f385-4279-aa61-2679972dc276"
   },
   "outputs": [
    {
     "data": {
      "image/png": "[encoded data removed]",
      "text/plain": [
       "<Figure size 432x288 with 1 Axes>"
      ]
     },
     "metadata": {
      "tags": []
     },
     "output_type": "display_data"
    }
   ],
   "source": [
    "plotGraph(out)"
   ]
  },
  {
   "cell_type": "code",
   "execution_count": 23,
   "metadata": {
    "colab": {
     "base_uri": "https://localhost:8080/",
     "height": 34
    },
    "colab_type": "code",
    "id": "PZxD5gBOchUV",
    "outputId": "86e03db7-e866-402f-dcad-5af27ca2130c"
   },
   "outputs": [
    {
     "data": {
      "text/plain": [
       "MultinomialNB(alpha=10, class_prior=None, fit_prior=True)"
      ]
     },
     "execution_count": 23,
     "metadata": {
      "tags": []
     },
     "output_type": "execute_result"
    }
   ],
   "source": [
    "clf = MultinomialNB(10)\n",
    "clf.fit(standardized_data,y_train)"
   ]
  },
  {
   "cell_type": "code",
   "execution_count": 24,
   "metadata": {
    "colab": {
     "base_uri": "https://localhost:8080/",
     "height": 294
    },
    "colab_type": "code",
    "id": "x7Aiq_bicmWP",
    "outputId": "c7fb6fba-7a62-4fc7-a46f-c2820149dcc0"
   },
   "outputs": [
    {
     "data": {
      "image/png": "[encoded data removed]",
      "text/plain": [
       "<Figure size 432x288 with 1 Axes>"
      ]
     },
     "metadata": {
      "tags": []
     },
     "output_type": "display_data"
    }
   ],
   "source": [
    "roc_auc_curve(standardized_data,y_train,standardized_data_test,y_test)"
   ]
  },
  {
   "cell_type": "markdown",
   "metadata": {
    "colab_type": "text",
    "id": "u-ZSD3tlJklg"
   },
   "source": [
    "###  Top 10 important features of positive class from<font color='red'> SET 1</font>"
   ]
  },
  {
   "cell_type": "code",
   "execution_count": 32,
   "metadata": {
    "colab": {
     "base_uri": "https://localhost:8080/",
     "height": 187
    },
    "colab_type": "code",
    "id": "aLanWfDdKC3s",
    "outputId": "34b2edd1-091c-46e8-ad2b-c152bbb41232"
   },
   "outputs": [
    {
     "name": "stdout",
     "output_type": "stream",
     "text": [
      "bogdon\n",
      "trombon\n",
      "csr\n",
      "csnt\n",
      "csirk\n",
      "troglia\n",
      "csc\n",
      "oldfin\n",
      "crystalis\n",
      "olney\n"
     ]
    }
   ],
   "source": [
    "#https://stackoverflow.com/questions/50526898/how-to-get-feature-importance-in-naive-bayes\n",
    "for i in (np.take(count_vect.get_feature_names(),clf.feature_log_prob_[1, :].argsort()[:10])):\n",
    "  print (i)\n"
   ]
  },
  {
   "cell_type": "markdown",
   "metadata": {
    "colab_type": "text",
    "id": "mquFtwF5Jklj"
   },
   "source": [
    "###  Top 10 important features of negative class from<font color='red'> SET 1</font>"
   ]
  },
  {
   "cell_type": "code",
   "execution_count": 33,
   "metadata": {
    "colab": {
     "base_uri": "https://localhost:8080/",
     "height": 187
    },
    "colab_type": "code",
    "id": "_RacUnTrJklj",
    "outputId": "d77401c0-48bd-4671-d2ca-385902daede5"
   },
   "outputs": [
    {
     "name": "stdout",
     "output_type": "stream",
     "text": [
      "çay\n",
      "humidor\n",
      "sardinilla\n",
      "sarni\n",
      "humect\n",
      "humdrum\n",
      "humboldt\n",
      "saronno\n",
      "sarrano\n",
      "humanitarian\n"
     ]
    }
   ],
   "source": [
    "for i in (np.take(count_vect.get_feature_names(),clf.feature_log_prob_[0, :].argsort()[:10])):\n",
    "  print (i)"
   ]
  },
  {
   "cell_type": "markdown",
   "metadata": {
    "colab_type": "text",
    "id": "6bp7BbwCJkll"
   },
   "source": [
    "## Applying Naive Bayes on TFIDF,<font color='red'> SET 2</font>"
   ]
  },
  {
   "cell_type": "code",
   "execution_count": 0,
   "metadata": {
    "colab": {},
    "colab_type": "code",
    "id": "oL29fzPFJkll"
   },
   "outputs": [],
   "source": [
    "tf_idf_vect = TfidfVectorizer()\n",
    "final_tf_idf = tf_idf_vect.fit_transform(X_train['CleanedText'].values)"
   ]
  },
  {
   "cell_type": "code",
   "execution_count": 36,
   "metadata": {
    "colab": {
     "base_uri": "https://localhost:8080/",
     "height": 68
    },
    "colab_type": "code",
    "id": "4eYu0AbmMIlU",
    "outputId": "012b0521-2ed7-4c03-d622-29984457c69b"
   },
   "outputs": [
    {
     "name": "stdout",
     "output_type": "stream",
     "text": [
      "type =  <class 'scipy.sparse.csr.csr_matrix'>\n",
      "shape =  (70000, 31572)\n",
      "number of unique words  31572\n"
     ]
    }
   ],
   "source": [
    "#scipy.sparse.save_npz('tfidfsparse_matrix_100000.npz', final_counts)\n",
    "print(\"type = \", type(final_tf_idf))\n",
    "print(\"shape = \", final_tf_idf.get_shape())\n",
    "print(\"number of unique words \", final_tf_idf.get_shape()[1])"
   ]
  },
  {
   "cell_type": "code",
   "execution_count": 0,
   "metadata": {
    "colab": {},
    "colab_type": "code",
    "id": "apF8d1G3MLoI"
   },
   "outputs": [],
   "source": [
    "final_tf_idf_test = tf_idf_vect.transform(X_test['CleanedText'].values)"
   ]
  },
  {
   "cell_type": "code",
   "execution_count": 0,
   "metadata": {
    "colab": {},
    "colab_type": "code",
    "id": "SnpGyYzvMOau"
   },
   "outputs": [],
   "source": [
    "tfidf_nb = nb_classifier()"
   ]
  },
  {
   "cell_type": "code",
   "execution_count": 0,
   "metadata": {
    "colab": {},
    "colab_type": "code",
    "id": "tEQmhJ_0MS2A"
   },
   "outputs": [],
   "source": [
    "standardized_data, standardized_data_test = standardisation(False,final_tf_idf,final_tf_idf_test)"
   ]
  },
  {
   "cell_type": "code",
   "execution_count": 40,
   "metadata": {
    "colab": {
     "base_uri": "https://localhost:8080/",
     "height": 187
    },
    "colab_type": "code",
    "id": "86ZgDE2pMVdo",
    "outputId": "3d544534-1403-47cd-df8f-34c9a11e702e"
   },
   "outputs": [
    {
     "name": "stdout",
     "output_type": "stream",
     "text": [
      "Fitting 2 folds for each of 7 candidates, totalling 14 fits\n"
     ]
    },
    {
     "name": "stderr",
     "output_type": "stream",
     "text": [
      "[Parallel(n_jobs=2)]: Using backend LokyBackend with 2 concurrent workers.\n",
      "[Parallel(n_jobs=2)]: Done  14 out of  14 | elapsed:    3.0s finished\n"
     ]
    },
    {
     "data": {
      "text/plain": [
       "GridSearchCV(cv=TimeSeriesSplit(max_train_size=None, n_splits=2),\n",
       "       error_score='raise-deprecating',\n",
       "       estimator=MultinomialNB(alpha=1.0, class_prior=None, fit_prior=True),\n",
       "       fit_params=None, iid='warn', n_jobs=2,\n",
       "       param_grid={'alpha': [0.001, 0.01, 0.1, 1, 10, 100, 1000]},\n",
       "       pre_dispatch='2*n_jobs', refit=True, return_train_score='warn',\n",
       "       scoring='roc_auc', verbose=1)"
      ]
     },
     "execution_count": 40,
     "metadata": {
      "tags": []
     },
     "output_type": "execute_result"
    }
   ],
   "source": [
    "tfidf_nb.fit(standardized_data,y_train)"
   ]
  },
  {
   "cell_type": "code",
   "execution_count": 0,
   "metadata": {
    "colab": {
     "base_uri": "https://localhost:8080/",
     "height": 51
    },
    "colab_type": "code",
    "id": "6jyyA3kBMZHG",
    "outputId": "86f3c187-676d-4fb1-bc02-97de91ba9534"
   },
   "outputs": [
    {
     "name": "stdout",
     "output_type": "stream",
     "text": [
      "{'alpha': 10}\n",
      "0.7152086629897414\n"
     ]
    }
   ],
   "source": [
    "train_set_report(tfidf_nb)"
   ]
  },
  {
   "cell_type": "code",
   "execution_count": 0,
   "metadata": {
    "colab": {
     "base_uri": "https://localhost:8080/",
     "height": 464
    },
    "colab_type": "code",
    "id": "WIlftgS_MdTI",
    "outputId": "e8fd084f-7e61-499e-f603-c80316996fe4"
   },
   "outputs": [
    {
     "name": "stdout",
     "output_type": "stream",
     "text": [
      "The test set accuracy is 83.936667%\n",
      "              precision    recall  f1-score   support\n",
      "\n",
      "           0       0.39      0.58      0.47      3665\n",
      "           1       0.94      0.88      0.91     26335\n",
      "\n",
      "   micro avg       0.84      0.84      0.84     30000\n",
      "   macro avg       0.67      0.73      0.69     30000\n",
      "weighted avg       0.87      0.84      0.85     30000\n",
      "\n"
     ]
    },
    {
     "data": {
      "image/png": "[encoded data removed]",
      "text/plain": [
       "<Figure size 432x288 with 2 Axes>"
      ]
     },
     "metadata": {
      "tags": []
     },
     "output_type": "display_data"
    }
   ],
   "source": [
    "test_set_report(tfidf_nb,standardized_data_test,y_test)"
   ]
  },
  {
   "cell_type": "code",
   "execution_count": 0,
   "metadata": {
    "colab": {},
    "colab_type": "code",
    "id": "RWUfS1nsMhsG"
   },
   "outputs": [],
   "source": [
    "with open('tfidf_nb_auc.pkl', 'wb') as f:\n",
    "    pickle.dump(tfidf_nb, f)\n",
    "uploadf('tfidf_nb_auc.pkl')"
   ]
  },
  {
   "cell_type": "code",
   "execution_count": 0,
   "metadata": {
    "colab": {},
    "colab_type": "code",
    "id": "PaLYFKp_4zy8"
   },
   "outputs": [],
   "source": [
    "out = nbclassifierresults(tfidf_nb)"
   ]
  },
  {
   "cell_type": "code",
   "execution_count": 0,
   "metadata": {
    "colab": {
     "base_uri": "https://localhost:8080/",
     "height": 294
    },
    "colab_type": "code",
    "id": "wCYyVOUF48Gt",
    "outputId": "728be2f0-e5b9-42a3-8b25-ca6c27e24981"
   },
   "outputs": [
    {
     "data": {
      "image/png": "[encoded data removed]",
      "text/plain": [
       "<Figure size 432x288 with 1 Axes>"
      ]
     },
     "metadata": {
      "tags": []
     },
     "output_type": "display_data"
    }
   ],
   "source": [
    "plotGraph(out)"
   ]
  },
  {
   "cell_type": "code",
   "execution_count": 41,
   "metadata": {
    "colab": {
     "base_uri": "https://localhost:8080/",
     "height": 294
    },
    "colab_type": "code",
    "id": "CGy3FODyMtFq",
    "outputId": "ce49a9c0-921f-433f-cf27-3b514b4fc823"
   },
   "outputs": [
    {
     "data": {
      "image/png": "[encoded data removed]",
      "text/plain": [
       "<Figure size 432x288 with 1 Axes>"
      ]
     },
     "metadata": {
      "tags": []
     },
     "output_type": "display_data"
    }
   ],
   "source": [
    "roc_auc_curve(standardized_data,y_train,standardized_data_test,y_test)"
   ]
  },
  {
   "cell_type": "markdown",
   "metadata": {
    "colab_type": "text",
    "id": "Dtpj7iMSJkln"
   },
   "source": [
    "###  Top 10 important features of positive class from<font color='red'> SET 2</font>"
   ]
  },
  {
   "cell_type": "code",
   "execution_count": 42,
   "metadata": {
    "colab": {
     "base_uri": "https://localhost:8080/",
     "height": 187
    },
    "colab_type": "code",
    "id": "g3flcTmmJklo",
    "outputId": "adc3402c-9392-4b93-b7a1-a89ac574421d"
   },
   "outputs": [
    {
     "name": "stdout",
     "output_type": "stream",
     "text": [
      "bogdon\n",
      "trombon\n",
      "csr\n",
      "csnt\n",
      "csirk\n",
      "troglia\n",
      "csc\n",
      "oldfin\n",
      "crystalis\n",
      "olney\n"
     ]
    }
   ],
   "source": [
    "for i in (np.take(tf_idf_vect.get_feature_names(),clf.feature_log_prob_[1, :].argsort()[:10])):\n",
    "  print (i)"
   ]
  },
  {
   "cell_type": "markdown",
   "metadata": {
    "colab_type": "text",
    "id": "UovIVRyEJklq"
   },
   "source": [
    "###  Top 10 important features of negative class from<font color='red'> SET 2</font>"
   ]
  },
  {
   "cell_type": "code",
   "execution_count": 44,
   "metadata": {
    "colab": {
     "base_uri": "https://localhost:8080/",
     "height": 187
    },
    "colab_type": "code",
    "id": "i3i3cShuJklr",
    "outputId": "d00a1fa9-aa92-460e-8a97-637f4812f36d"
   },
   "outputs": [
    {
     "name": "stdout",
     "output_type": "stream",
     "text": [
      "çay\n",
      "humidor\n",
      "sardinilla\n",
      "sarni\n",
      "humect\n",
      "humdrum\n",
      "humboldt\n",
      "saronno\n",
      "sarrano\n",
      "humanitarian\n"
     ]
    }
   ],
   "source": [
    "for i in (np.take(tf_idf_vect.get_feature_names(),clf.feature_log_prob_[0, :].argsort()[:10])):\n",
    "  print (i)"
   ]
  },
  {
   "cell_type": "markdown",
   "metadata": {
    "colab_type": "text",
    "id": "vst5Y7mmJklu"
   },
   "source": [
    "# [6] Conclusions"
   ]
  },
  {
   "cell_type": "code",
   "execution_count": 0,
   "metadata": {
    "colab": {},
    "colab_type": "code",
    "id": "De9HYtIGJklv"
   },
   "outputs": [],
   "source": [
    "x = PrettyTable()\n",
    "x.field_names = [\"VECTORIZER\", \"MODEL\", \"HYPERPARAMETER\",\"AUC\"]\n",
    "x.add_row([\"BOW\", \"MULTINOMIALNB\", 10, .75])\n",
    "x.add_row([\"TFIDF\", \"MULTINOMIALNB\", 10, .75])"
   ]
  },
  {
   "cell_type": "code",
   "execution_count": 50,
   "metadata": {
    "colab": {
     "base_uri": "https://localhost:8080/",
     "height": 119
    },
    "colab_type": "code",
    "id": "2MeMzIU2gcbG",
    "outputId": "62b0e208-ecf6-4b58-bf6d-8c2cfe8bd052"
   },
   "outputs": [
    {
     "name": "stdout",
     "output_type": "stream",
     "text": [
      "+------------+---------------+----------------+------+\n",
      "| VECTORIZER |     MODEL     | HYPERPARAMETER | AUC  |\n",
      "+------------+---------------+----------------+------+\n",
      "|    BOW     | MULTINOMIALNB |       10       | 0.75 |\n",
      "|   TFIDF    | MULTINOMIALNB |       10       | 0.75 |\n",
      "+------------+---------------+----------------+------+\n"
     ]
    }
   ],
   "source": [
    "print(x)"
   ]
  }
 ],
 "metadata": {
  "colab": {
   "name": "Amazon Fine Food Reviews_NaiveBayes.ipynb",
   "provenance": [],
   "version": "0.3.2"
  },
  "kernelspec": {
   "display_name": "Python 3",
   "language": "python",
   "name": "python3"
  },
  "language_info": {
   "codemirror_mode": {
    "name": "ipython",
    "version": 3
   },
   "file_extension": ".py",
   "mimetype": "text/x-python",
   "name": "python",
   "nbconvert_exporter": "python",
   "pygments_lexer": "ipython3",
   "version": "3.6.5"
  }
 },
 "nbformat": 4,
 "nbformat_minor": 1
}
